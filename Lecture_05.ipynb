{
 "cells": [
  {
   "cell_type": "code",
   "execution_count": 1,
   "id": "19832d1b-969b-4799-b4a2-56d9c8560cdf",
   "metadata": {},
   "outputs": [
    {
     "data": {
      "application/javascript": [
       "// Copyright (c) Microsoft Corporation.\n",
       "// Licensed under the MIT License.\n",
       "\n",
       "// This file provides CodeMirror syntax highlighting for Q# magic cells\n",
       "// in classic Jupyter Notebooks. It does nothing in other (Jupyter Notebook 7,\n",
       "// VS Code, Azure Notebooks, etc.) environments.\n",
       "\n",
       "// Detect the prerequisites and do nothing if they don't exist.\n",
       "if (window.require && window.CodeMirror && window.Jupyter) {\n",
       "  // The simple mode plugin for CodeMirror is not loaded by default, so require it.\n",
       "  window.require([\"codemirror/addon/mode/simple\"], function defineMode() {\n",
       "    let rules = [\n",
       "      {\n",
       "        token: \"comment\",\n",
       "        regex: /(\\/\\/).*/,\n",
       "        beginWord: false,\n",
       "      },\n",
       "      {\n",
       "        token: \"string\",\n",
       "        regex: String.raw`^\\\"(?:[^\\\"\\\\]|\\\\[\\s\\S])*(?:\\\"|$)`,\n",
       "        beginWord: false,\n",
       "      },\n",
       "      {\n",
       "        token: \"keyword\",\n",
       "        regex: String.raw`(namespace|open|as|operation|function|body|adjoint|newtype|controlled|internal)\\b`,\n",
       "        beginWord: true,\n",
       "      },\n",
       "      {\n",
       "        token: \"keyword\",\n",
       "        regex: String.raw`(if|elif|else|repeat|until|fixup|for|in|return|fail|within|apply)\\b`,\n",
       "        beginWord: true,\n",
       "      },\n",
       "      {\n",
       "        token: \"keyword\",\n",
       "        regex: String.raw`(Adjoint|Controlled|Adj|Ctl|is|self|auto|distribute|invert|intrinsic)\\b`,\n",
       "        beginWord: true,\n",
       "      },\n",
       "      {\n",
       "        token: \"keyword\",\n",
       "        regex: String.raw`(let|set|use|borrow|mutable)\\b`,\n",
       "        beginWord: true,\n",
       "      },\n",
       "      {\n",
       "        token: \"operatorKeyword\",\n",
       "        regex: String.raw`(not|and|or)\\b|(w/)`,\n",
       "        beginWord: true,\n",
       "      },\n",
       "      {\n",
       "        token: \"operatorKeyword\",\n",
       "        regex: String.raw`(=)|(!)|(<)|(>)|(\\+)|(-)|(\\*)|(/)|(\\^)|(%)|(\\|)|(&&&)|(~~~)|(\\.\\.\\.)|(\\.\\.)|(\\?)`,\n",
       "        beginWord: false,\n",
       "      },\n",
       "      {\n",
       "        token: \"meta\",\n",
       "        regex: String.raw`(Int|BigInt|Double|Bool|Qubit|Pauli|Result|Range|String|Unit)\\b`,\n",
       "        beginWord: true,\n",
       "      },\n",
       "      {\n",
       "        token: \"atom\",\n",
       "        regex: String.raw`(true|false|Pauli(I|X|Y|Z)|One|Zero)\\b`,\n",
       "        beginWord: true,\n",
       "      },\n",
       "    ];\n",
       "    let simpleRules = [];\n",
       "    for (let rule of rules) {\n",
       "      simpleRules.push({\n",
       "        token: rule.token,\n",
       "        regex: new RegExp(rule.regex, \"g\"),\n",
       "        sol: rule.beginWord,\n",
       "      });\n",
       "      if (rule.beginWord) {\n",
       "        // Need an additional rule due to the fact that CodeMirror simple mode doesn't work with ^ token\n",
       "        simpleRules.push({\n",
       "          token: rule.token,\n",
       "          regex: new RegExp(String.raw`\\W` + rule.regex, \"g\"),\n",
       "          sol: false,\n",
       "        });\n",
       "      }\n",
       "    }\n",
       "\n",
       "    // Register the mode defined above with CodeMirror\n",
       "    window.CodeMirror.defineSimpleMode(\"qsharp\", { start: simpleRules });\n",
       "    window.CodeMirror.defineMIME(\"text/x-qsharp\", \"qsharp\");\n",
       "\n",
       "    // Tell Jupyter to associate %%qsharp magic cells with the qsharp mode\n",
       "    window.Jupyter.CodeCell.options_default.highlight_modes[\"qsharp\"] = {\n",
       "      reg: [/^%%qsharp/],\n",
       "    };\n",
       "\n",
       "    // Force re-highlighting of all cells the first time this code runs\n",
       "    for (const cell of window.Jupyter.notebook.get_cells()) {\n",
       "      cell.auto_highlight();\n",
       "    }\n",
       "  });\n",
       "}\n"
      ],
      "text/plain": []
     },
     "metadata": {},
     "output_type": "display_data"
    }
   ],
   "source": [
    "# Author: Brent Artuch\n",
    "# Date: 2024-10-26\n",
    "\n",
    "import sympy as sp\n",
    "from sympy.physics.quantum import *\n",
    "import numpy as np\n",
    "from IPython.display import *\n",
    "\n",
    "# Qiskit and Q# libraries\n",
    "import qsharp\n",
    "from qiskit.quantum_info import Operator, Statevector\n",
    "from qiskit import QuantumCircuit, QuantumRegister, ClassicalRegister\n",
    "from qiskit_aer import AerSimulator\n",
    "from qiskit.circuit.library import QFT\n",
    "\n",
    "sp.init_printing()"
   ]
  },
  {
   "cell_type": "markdown",
   "id": "d2665f98-8a56-4823-a30a-d72ada3684d9",
   "metadata": {},
   "source": [
    "## Fourier Series\n",
    "A fourier series is defined as an expansion of a function in a series of sines and cosines dentoted:\n",
    "\\begin{align*}\n",
    "f(x)=\\frac{1}{2}a_0+\\sum_{n=1}^{\\infty}a_n\\cos (nx)+\\sum_{n=1}^{\\infty}b_n\\sin (nx)\n",
    "\\end{align*}"
   ]
  },
  {
   "cell_type": "markdown",
   "id": "a1fda820-0611-439d-acab-d1fc9d1bb91c",
   "metadata": {},
   "source": [
    "The coefficients $a_0$, $a_n$, and $b_n$ are related to $f(x)$ by definite integrals:\n",
    "\\begin{align*}\n",
    "\\frac{1}{\\pi}\\int_{0}^{2\\pi}f(s)\\cos (ns) \\ ds=\n",
    "\\begin{cases} \n",
    "      2a_0 & n=0 \\\\\n",
    "      a_n & n\\not=0 \\\\\n",
    "   \\end{cases}\n",
    "\\end{align*}\n",
    "Notice that $a_0$ has $2$ as a coefficient which is why we need to multiply $a_0$ by $\\frac{1}{2}$ to cancel out that coefficient in the series so that this relationship works for all $n\\ge 0$"
   ]
  },
  {
   "cell_type": "markdown",
   "id": "eaa5dbfb-5e95-491e-9729-6ad72181f894",
   "metadata": {},
   "source": [
    "\\begin{align*}\n",
    "b_n=\\frac{1}{\\pi}\\int_{0}^{2\\pi}f(s)\\sin (ns) \\ ds\n",
    "\\end{align*}\n",
    "for $n\\ge1$."
   ]
  },
  {
   "cell_type": "markdown",
   "id": "dc88c8cc-db9f-4cc9-a649-92a7a5b9f946",
   "metadata": {},
   "source": [
    "The exponential form is:\n",
    "\\begin{align*}\n",
    "f(x)=\\sum_{n=-\\infty}^{\\infty}c_ne^{inx}\n",
    "\\end{align*}\n",
    "where:\n",
    "\\begin{align*}\n",
    "c_n=\\frac{1}{2}(a_n-ib_n) \\ \\ \\ , \\ \\ \\ c_{-n}=\\frac{1}{2}(a_n+ib_n) \\ \\ \\ , \\ \\ \\ n>0 \\ \\ \\ , \\ \\ \\ c_0=\\frac{1}{2}a_0 \n",
    "\\end{align*}"
   ]
  },
  {
   "cell_type": "markdown",
   "id": "d73a7b02-11fa-4bc9-b7fc-e0b46c97dc1e",
   "metadata": {},
   "source": [
    "If the function $f(x)$ is either an even or an odd function, then the Fourier expansion cannot contain any terms of the opposite parity. So:\n",
    "\\begin{align*}\n",
    "f(x)=\\frac{1}{2}a_0+\\sum_{n=1}^{\\infty}a_n\\cos (nx)\n",
    "\\end{align*}\n",
    "if the function is $\\mathbf{even}$. Conversely:\n",
    "\\begin{align*}\n",
    "f(x)=\\sum_{n=1}^{\\infty}b_n\\sin (nx)\n",
    "\\end{align*}\n",
    "if the function is $\\mathbf{odd}$."
   ]
  },
  {
   "cell_type": "markdown",
   "id": "5ef3c4f5-348f-4a97-b651-bbf75e82da77",
   "metadata": {},
   "source": [
    "## Classical Continuous Fourier Transform\n",
    "The general Fourier transform takes the form:\n",
    "\\begin{align*}\n",
    "g(\\omega)=\\frac{1}{\\sqrt{2\\pi}}\\int_{-\\infty}^{\\infty}f(t)e^{i\\omega t}dt\n",
    "\\end{align*}"
   ]
  },
  {
   "cell_type": "markdown",
   "id": "e0b77b01-ce87-4edd-b417-94522d6f7f05",
   "metadata": {},
   "source": [
    "The Fourier $\\mathbf{cosine}$ transform (for $\\mathbf{even}$ functions of $x$) is denoted:\n",
    "\\begin{align*}\n",
    "g_c(\\omega)=\\sqrt{\\frac{2}{\\pi}}\\int_{0}^{\\infty}f(t)\\cos(\\omega t)dt\n",
    "\\end{align*}"
   ]
  },
  {
   "cell_type": "markdown",
   "id": "136c0098-c71e-4cfa-80f3-eb75f9374d41",
   "metadata": {},
   "source": [
    "The Fourier $\\mathbf{sine}$ transform (for $\\mathbf{odd}$ functions of $x$) is denoted:\n",
    "\\begin{align*}\n",
    "g_s(\\omega)=\\sqrt{\\frac{2}{\\pi}}\\int_{0}^{\\infty}f(t)\\sin(\\omega t)dt\n",
    "\\end{align*}"
   ]
  },
  {
   "cell_type": "markdown",
   "id": "d62d06a9-6cd3-4e88-bd73-acaec18e6ddd",
   "metadata": {},
   "source": [
    "The $\\mathbf{inverse}$ of each of these functions is:\n",
    "\\begin{align*}\n",
    "f(t)=\\frac{1}{\\sqrt{2\\pi}}\\int_{-\\infty}^{\\infty}g(\\omega)e^{-i\\omega t}d\\omega\\\\\\\\\n",
    "f_c(t)=\\sqrt{\\frac{2}{\\pi}}\\int_{0}^{\\infty}g(\\omega)\\cos(\\omega t)d\\omega\\\\\\\\\n",
    "f_s(t)=\\sqrt{\\frac{2}{\\pi}}\\int_{0}^{\\infty}g(\\omega)\\sin(\\omega t)d\\omega\\\\\n",
    "\\end{align*}\n",
    "for $0 \\le t < \\infty$."
   ]
  },
  {
   "cell_type": "markdown",
   "id": "b1098260-d4cb-4a74-9fdf-9bc706a9a894",
   "metadata": {},
   "source": [
    "The fourier transform is a highly effective technique for measuring wave patterns and is useful in applications such as signal processing and sound mechanics."
   ]
  },
  {
   "cell_type": "markdown",
   "id": "e2d0dff3-22b2-4b6f-a966-f064383b4507",
   "metadata": {},
   "source": [
    "## Classical Discrete Fourier Transform\n",
    "Since computers are discrete by nature, we can use a version of the Fourier transofrm that operates on a set of points. So, the continuous integrations are converted to finite summations. So, we define the equation for a sequence of $N$ points $\\{\\phi_1,\\phi_2,...,\\phi_{N-1}\\}$ as:\n",
    "\\begin{align*}\n",
    "\\phi_k=\\frac{1}{\\sqrt{N}}\\sum_{j=0}^{N-1}a_je^{2\\pi ijk/N}\n",
    "\\end{align*}\n",
    "where $a_j$ is the applitude of a wave at point $j$ and $\\phi_k$ is the frequency at point $k$."
   ]
  },
  {
   "cell_type": "code",
   "execution_count": 2,
   "id": "48bde29e-6d14-4e63-89ac-562a633dcbe1",
   "metadata": {},
   "outputs": [
    {
     "name": "stdout",
     "output_type": "stream",
     "text": [
      "(0.567+0j) (0.35+0.833j) (0.415-0j) (0.35-0.833j) "
     ]
    }
   ],
   "source": [
    "# Example \n",
    "\n",
    "amplitudes = [0.841,0.909,0.141,-0.757] # a0,a1,a2,a3\n",
    "N = len(amplitudes)\n",
    "frequencies = []\n",
    "\n",
    "for k in range(N):\n",
    "    sum = 0\n",
    "    for j in range(N):\n",
    "        sum += amplitudes[j]*np.exp((2*np.pi*1.0j*j*k)/N)\n",
    "    phi = (1/np.sqrt(N))*sum\n",
    "    frequencies.append(phi)\n",
    "\n",
    "for freq in frequencies:\n",
    "    print(np.round(freq.item(),3), end=\" \") # phi0,phi1,phi2,phi3"
   ]
  },
  {
   "cell_type": "markdown",
   "id": "15c9a516-f814-4b78-a5a7-dee29f32f2fb",
   "metadata": {},
   "source": [
    "## Classical Fast Fourier Transform \n",
    "There are methods for reducing the number of operations required in this process. The first is to rephrase the equaiton so that it may be calculated linear algebraically:\n",
    "\\begin{align*}\n",
    "\\phi_k=\\frac{1}{\\sqrt{N}}\\sum_{j=0}^{N-1}a_j\\omega^{jk}\n",
    "\\end{align*}\n",
    "where $\\omega=e^{2\\pi i/N}$."
   ]
  },
  {
   "cell_type": "markdown",
   "id": "8d727914-69d1-48d7-bcce-e97b9052d6ac",
   "metadata": {},
   "source": [
    "Which gives us the the matrix operations in $a = bx$ form:\n",
    "\\begin{align*}\n",
    "\\begin{pmatrix}\n",
    "\\phi_0 \\\\ \\phi_1 \\\\ \\phi_2 \\\\ \\vdots \\\\ \\phi_{N-1}\n",
    "\\end{pmatrix}=\n",
    "\\begin{pmatrix}\n",
    "1 & 1 & 1 & ... & 1 \\\\\n",
    "1 & \\omega & \\omega^2 & ... & \\omega^{N-1} \\\\\n",
    "1 & \\omega^2 & \\omega^4 & ... & \\omega^{2(N-1)} \\\\\n",
    "\\vdots & \\vdots & \\vdots & \\ddots & \\vdots \\\\\n",
    "1 & \\omega^{N-1}  & \\omega^{2(N-1)} & ... & \\omega^{(N-1)^2} \\\\\n",
    "\\end{pmatrix}\n",
    "\\begin{pmatrix}\n",
    "a_0 \\\\ a_1 \\\\ a_2 \\\\ \\vdots \\\\ a_{N-1}\n",
    "\\end{pmatrix}\n",
    "\\end{align*}"
   ]
  },
  {
   "cell_type": "markdown",
   "id": "cfc886a3-b194-42cf-ba40-341b106ee6ce",
   "metadata": {},
   "source": [
    "Most computer algebra systems utilize the FFT for calculations. More information can be found at: <br>\n",
    "<a href=\"https://en.wikipedia.org/wiki/Cooley%E2%80%93Tukey_FFT_algorithm\">https://en.wikipedia.org/wiki/Cooley%E2%80%93Tukey_FFT_algorithm</a>\n"
   ]
  },
  {
   "cell_type": "markdown",
   "id": "d53bdf1b-0474-4c37-94a6-e5e6d1123517",
   "metadata": {},
   "source": [
    "## Quantum Fourier Transformation\n",
    "The quantum variation of the discrete Fourier transform is not much diffferent from what we have so far. If $\\ket{\\phi}$ is teh quantum Fourier transform of $\\ket{\\psi}$, then:\n",
    "\\begin{align*}\n",
    "\\ket{\\psi}=\\sum_{j=0}^{N-1}a_j\\ket{j}\\rightarrow\\ket{\\phi}=\\sum_{k=0}^{N-1}\\phi_k\\ket{k}=\\frac{1}{\\sqrt{N}}\\sum_{j=0}^{N-1}\\sum_{k=0}^{N-1}a_je^{2\\pi ijk/N}\\ket{k}\n",
    "\\end{align*}\n",
    "So, for each basis state $\\ket{j}$, the QFT transforms the state from:\n",
    "\\begin{align*}\n",
    "\\ket{j}\\rightarrow\\frac{1}{\\sqrt{N}}\\sum_{k=0}^{N-1}a_je^{2\\pi ijk/N}\\ket{k}\n",
    "\\end{align*}\n",
    "Note: In the case of the qunatum Fourier transform, $N=2^n$ bits for $n$ qubits."
   ]
  },
  {
   "cell_type": "markdown",
   "id": "0c544c17-60da-4c75-9dad-7a88870805ea",
   "metadata": {},
   "source": [
    "The gates we need to emulate this equation in a quantum circuit are the Hadamard gate:\n",
    "\\begin{align*}\n",
    "H =\\frac{1}{\\sqrt{2}}\n",
    "\\begin{pmatrix}\n",
    "1 & 1 \\\\\n",
    "1 & -1\n",
    "\\end{pmatrix}\n",
    "\\end{align*}\n",
    "The rotation $R_r$ gate:\n",
    "\\begin{align*}\n",
    "R_r=\n",
    "\\begin{pmatrix}\n",
    "1 & 0 \\\\\n",
    "0 & e^{2\\pi i/2^r}\n",
    "\\end{pmatrix}\n",
    "\\end{align*}\n",
    "and the SWAP gate:\n",
    "\\begin{align*}\n",
    "SWAP =\n",
    "\\begin{pmatrix}\n",
    "1 & 0 & 0 & 0 \\\\\n",
    "0 & 0 & 1 & 0 \\\\\n",
    "0 & 1 & 0 & 0 \\\\\n",
    "0 & 0 & 0 & 1 \\\\\n",
    "\\end{pmatrix}\n",
    "\\end{align*}\n",
    "Note: We need the SWAP operation to reverse the order of the outputs $k_i$ to match the index positions of the corresponding inputs $j_i$."
   ]
  },
  {
   "cell_type": "code",
   "execution_count": 4,
   "id": "2dd8cc33-a8b2-40ab-a0af-79a724b995a8",
   "metadata": {},
   "outputs": [
    {
     "data": {
      "image/png": "[encoded data removed]",
      "text/plain": [
       "<Figure size 1541.66x367.889 with 1 Axes>"
      ]
     },
     "metadata": {},
     "output_type": "display_data"
    }
   ],
   "source": [
    "# 4 Qubit QFT\n",
    "display(QFT(4).decompose().draw(\"mpl\"))"
   ]
  }
 ],
 "metadata": {
  "kernelspec": {
   "display_name": "Quantum_Computing_venv",
   "language": "python",
   "name": "quantum_computing_venv"
  },
  "language_info": {
   "codemirror_mode": {
    "name": "ipython",
    "version": 3
   },
   "file_extension": ".py",
   "mimetype": "text/x-python",
   "name": "python",
   "nbconvert_exporter": "python",
   "pygments_lexer": "ipython3",
   "version": "3.10.14"
  }
 },
 "nbformat": 4,
 "nbformat_minor": 5
}
