{
 "cells": [
  {
   "cell_type": "code",
   "execution_count": 1,
   "id": "a9564ba1-974e-4b1b-a957-bce3c11c8afb",
   "metadata": {},
   "outputs": [],
   "source": [
    "# Author: Brent Artuch\n",
    "# Date: 2024-11-25"
   ]
  },
  {
   "cell_type": "markdown",
   "id": "2e5e9e60-8873-4996-a1a8-b624e6498f9d",
   "metadata": {},
   "source": [
    "## Brute-Force Search Problem\n",
    "If we are given a database of $N$ unordered entries, such that each entry is a number and a label, then we would need to conduct $O(N)$ queries to find the label that matches the corresponding desired number (A phonebook would be a good example of this). In terms of a function, this is equivalent to $f(\\text{label})=\\text{number}$. Thus, we are inverting the function by starting with the output and searching for the given input. "
   ]
  },
  {
   "cell_type": "markdown",
   "id": "5c519006-12fe-4ebc-9055-4bab3926559e",
   "metadata": {},
   "source": [
    "## Classical Solution\n",
    "We would need to query each of the $N=2^n$ entries in a linear fashion until the desired entry is found. Furthermore, we would need to query $N/2$ of the entries on average since there is equally probability of the desired entry being the first result as it has of being the last result. So, the complexity of this classical search is $O(N)$ as previously stated."
   ]
  },
  {
   "cell_type": "markdown",
   "id": "ceced122-1e62-4561-a33a-fc632096a59e",
   "metadata": {},
   "source": [
    "## Grover's Algorithm\n",
    "The quantum solution can solve this problem with $O(\\sqrt{N})$ queries. So, as with many quantum algorithms, the efficiency increases with the size of the database entry count $N$.  "
   ]
  },
  {
   "cell_type": "markdown",
   "id": "4153d9a4-6032-4b10-91d1-a43e5d1c45ef",
   "metadata": {},
   "source": [
    "Ignoring the answer qubit, let $\\ket{s}$ be our starting state and all qubits in $\\ket{s}$ equal to $\\ket{+}$. Thus, we have a uniform superposition over all $n$-bit strings denoted:\n",
    "\\begin{align*}\n",
    "\\ket{s}=\\ket{+}^{\\otimes n}=\\frac{1}{\\sqrt{N}}\\sum_{x\\in\\{0,1\\}^n}\\ket{x}\n",
    "\\end{align*}\n",
    "where $x$ is any binary string of lenght $n$ in the database and $N=2^n$."
   ]
  },
  {
   "cell_type": "markdown",
   "id": "4a93eaae-d101-42d0-b8b7-17977631b0a0",
   "metadata": {},
   "source": [
    "Let $\\ket{w}$ be the entry that weare looking for and $\\ket{r}$ every entry that is not what we are looking for. We get the state of being the entry we are looking for plus the other entries:\n",
    "\\begin{align*}\n",
    "\\ket{s}=\\frac{1}{\\sqrt{N}}\\ket{w}+\\sqrt{\\frac{N-1}{N}}\\ket{r}\n",
    "\\end{align*}\n",
    "* See intermediary steps in <a href=\"https://www.thomaswong.net/introduction-to-classical-and-quantum-computing-1e4p.pdf\">(Wong, 2022) Section 7.6.3 - pg 299</a>"
   ]
  },
  {
   "cell_type": "markdown",
   "id": "ee3b0bc7-b67d-4c0e-a028-0020b0aeb051",
   "metadata": {},
   "source": [
    "Using rotation matrix identities and the double angle formulas <a href=\"https://learning.quantum.ibm.com/course/fundamentals-of-quantum-algorithms/grovers-algorithm#geometric-picture\">(Watrous) Analysis/Action of the Grover Operation</a>. We get the equation:\n",
    "\\begin{align*}\n",
    "\\ket{s}=\\sin\\theta\\ket{w}+\\cos\\theta\\ket{r}\n",
    "\\end{align*}"
   ]
  },
  {
   "cell_type": "markdown",
   "id": "6b67c928-f779-4514-a3aa-fa9bedb5e0c3",
   "metadata": {},
   "source": [
    "Recall that the phase oracle $U_f$ is:\n",
    "\\begin{align*}\n",
    "\\ket{x}^{ \\ \\underrightarrow{U_f} \\ }(-1)^{f(x)}\\ket{x}\n",
    "\\end{align*}"
   ]
  },
  {
   "cell_type": "markdown",
   "id": "06d3a795-b7d8-44b1-98c7-f6f9c8314d21",
   "metadata": {},
   "source": [
    "Since $f(x)=1$ only if $x=w$, the state becomes:\n",
    "\\begin{align*}\n",
    "U_f\\ket{s}&=(-1)^1\\sin\\theta\\ket{w}+(-1)^0\\cos\\theta\\ket{r}\\\\\\\\\n",
    "&=-\\sin\\theta\\ket{w}+\\cos\\theta\\ket{r}\n",
    "\\end{align*}"
   ]
  }
 ],
 "metadata": {
  "kernelspec": {
   "display_name": "Quantum_Computing_venv",
   "language": "python",
   "name": "quantum_computing_venv"
  },
  "language_info": {
   "codemirror_mode": {
    "name": "ipython",
    "version": 3
   },
   "file_extension": ".py",
   "mimetype": "text/x-python",
   "name": "python",
   "nbconvert_exporter": "python",
   "pygments_lexer": "ipython3",
   "version": "3.12.7"
  }
 },
 "nbformat": 4,
 "nbformat_minor": 5
}
