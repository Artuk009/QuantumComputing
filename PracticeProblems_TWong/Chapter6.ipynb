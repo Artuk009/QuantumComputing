{
 "cells": [
  {
   "cell_type": "code",
   "execution_count": 1,
   "id": "46fd5c80-189e-4f00-a2ad-dfdd39ed2a89",
   "metadata": {},
   "outputs": [],
   "source": [
    "# Author: Brent Artuch\n",
    "# Date: 2024-11-22"
   ]
  },
  {
   "cell_type": "markdown",
   "id": "22e8ca33-11b1-4d34-b97e-aa3043e7f480",
   "metadata": {},
   "source": [
    "## Measurements\n",
    "6.1 - Show that\n",
    "\\begin{align*}\n",
    "\\frac{\\sqrt{3}}{2\\sqrt{2}}\\ket{00}+\\frac{\\sqrt{3}}{2\\sqrt{2}}\\ket{01}+\\frac{\\sqrt{3}}{4}\\ket{10}+\\frac{1}{4}\\ket{11}\n",
    "\\end{align*}\n",
    "cannot be factored into the tensor product of two single-qubit states."
   ]
  },
  {
   "cell_type": "markdown",
   "id": "6ede0d1c-bbf0-4a42-8a8a-47cb5681d97b",
   "metadata": {},
   "source": [
    "Answer - We can use our seperability condition from previous examples in Chapter #4:\n",
    "\\begin{align*}\n",
    "\\left(\\frac{\\sqrt{3}}{2\\sqrt{2}}\\right)\\left(\\frac{1}{4}\\right)-\\left(\\frac{\\sqrt{3}}{2\\sqrt{2}}\\right)\\left(\\frac{\\sqrt{3}}{4}\\right)=\\frac{\\sqrt{3}}{8\\sqrt{2}}-\\frac{3}{8\\sqrt{2}}\\not=0\n",
    "\\end{align*}\n",
    "Therefore, this state cannot be factored into the tensor product of two single-qubit states."
   ]
  }
 ],
 "metadata": {
  "kernelspec": {
   "display_name": "Quantum_Computing_venv",
   "language": "python",
   "name": "quantum_computing_venv"
  },
  "language_info": {
   "codemirror_mode": {
    "name": "ipython",
    "version": 3
   },
   "file_extension": ".py",
   "mimetype": "text/x-python",
   "name": "python",
   "nbconvert_exporter": "python",
   "pygments_lexer": "ipython3",
   "version": "3.12.7"
  }
 },
 "nbformat": 4,
 "nbformat_minor": 5
}
