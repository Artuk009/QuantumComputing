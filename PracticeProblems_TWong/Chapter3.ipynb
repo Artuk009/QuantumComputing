{
 "cells": [
  {
   "cell_type": "code",
   "execution_count": 1,
   "id": "587623c3-6f04-4b91-b4b1-b9367ffefd8f",
   "metadata": {},
   "outputs": [],
   "source": [
    "# Author: Brent Artuch\n",
    "# Date: 2024-10-09\n",
    "\n",
    "import sympy as sp\n",
    "import numpy as np \n",
    "from IPython.display import *\n",
    "\n",
    "from qiskit.quantum_info import Operator, Statevector\n",
    "\n",
    "sp.init_printing()"
   ]
  },
  {
   "cell_type": "markdown",
   "id": "d768ea36-6a88-4124-ace9-b0922af952bd",
   "metadata": {},
   "source": [
    "## Column Vectors\n",
    "3.1 - A qubit has the following state: <br>\n",
    "\\begin{align*}\n",
    "\\frac{1}{2}\\ket{0}-\\frac{\\sqrt{3}}{2}\\ket{1}\n",
    "\\end{align*}\n",
    "Write the state as a column vector:<br>\n",
    "Answer:<br>\n",
    "\\begin{align*}\n",
    "\\ket{\\psi}=\\frac{1}{2}\\ket{0}-\\frac{\\sqrt{3}}{2}\\ket{1}=\\frac{1}{2}\\begin{bmatrix} 1 \\\\ 0\\end{bmatrix}-\\frac{\\sqrt{3}}{2}\\begin{bmatrix} 0 \\\\ 1\\end{bmatrix}=\\begin{bmatrix} \\frac{1}{2} \\\\ 0\\end{bmatrix}+\\begin{bmatrix} 0 \\\\ -\\frac{\\sqrt{3}}{2}\\end{bmatrix}=\\begin{bmatrix} \\frac{1}{2} \\\\ -\\frac{\\sqrt{3}}{2}\\end{bmatrix}\n",
    "\\end{align*}"
   ]
  },
  {
   "cell_type": "code",
   "execution_count": 2,
   "id": "ed3ae94f-aa22-4cf9-aab3-84c8f0028eb2",
   "metadata": {},
   "outputs": [
    {
     "data": {
      "image/png": "[encoded data removed]",
      "text/latex": [
       "$\\displaystyle \\left[\\begin{matrix}\\frac{1}{2}\\\\- \\frac{\\sqrt{3}}{2}\\end{matrix}\\right]$"
      ],
      "text/plain": [
       "⎡1/2 ⎤\n",
       "⎢    ⎥\n",
       "⎢-√3 ⎥\n",
       "⎢────⎥\n",
       "⎣ 2  ⎦"
      ]
     },
     "execution_count": 2,
     "metadata": {},
     "output_type": "execute_result"
    }
   ],
   "source": [
    "psi = Statevector([1/2,-sp.sqrt(3)/2])\n",
    "column_vector = sp.Matrix([[sp.nsimplify(psi[0])],[sp.nsimplify(psi[1])]])\n",
    "column_vector"
   ]
  }
 ],
 "metadata": {
  "kernelspec": {
   "display_name": "Quantum_Computing_venv",
   "language": "python",
   "name": "quantum_computing_venv"
  },
  "language_info": {
   "codemirror_mode": {
    "name": "ipython",
    "version": 3
   },
   "file_extension": ".py",
   "mimetype": "text/x-python",
   "name": "python",
   "nbconvert_exporter": "python",
   "pygments_lexer": "ipython3",
   "version": "3.12.7"
  }
 },
 "nbformat": 4,
 "nbformat_minor": 5
}
