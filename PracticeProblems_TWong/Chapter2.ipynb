{
 "cells": [
  {
   "cell_type": "markdown",
   "id": "2fb979ee-a314-47b9-a0c1-83d185771429",
   "metadata": {},
   "source": [
    "## Measurement\n",
    "2.7 - Say you measure the qubit and get $\\ket{0}$. If you measure the qubit a second time, what is the probability of getting $\\ket{0}$ and $\\ket{1}$?<br>\n",
    "Answer: The probability of measuring $$"
   ]
  },
  {
   "cell_type": "code",
   "execution_count": null,
   "id": "f9f70839-2bf1-4845-8b5f-1bf92830eba9",
   "metadata": {},
   "outputs": [],
   "source": []
  }
 ],
 "metadata": {
  "kernelspec": {
   "display_name": "Quantum_Computing_venv",
   "language": "python",
   "name": "quantum_computing_venv"
  },
  "language_info": {
   "codemirror_mode": {
    "name": "ipython",
    "version": 3
   },
   "file_extension": ".py",
   "mimetype": "text/x-python",
   "name": "python",
   "nbconvert_exporter": "python",
   "pygments_lexer": "ipython3",
   "version": "3.12.6"
  }
 },
 "nbformat": 4,
 "nbformat_minor": 5
}
