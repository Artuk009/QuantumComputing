{
 "cells": [
  {
   "cell_type": "code",
   "execution_count": 3,
   "id": "932bf6e8-6fe6-4032-a397-9b906da980e5",
   "metadata": {},
   "outputs": [],
   "source": [
    "# Author: Brent Artuch\n",
    "# Date: 2024-11-17\n",
    "\n",
    "import numpy as np\n",
    "import sympy as sp\n",
    "import matplotlib.pyplot as plt\n",
    "\n",
    "sp.init_printing()"
   ]
  },
  {
   "cell_type": "markdown",
   "id": "64d6c920-0dc3-44b2-8c58-a0eb652dccfe",
   "metadata": {},
   "source": [
    "## Eigenvalues and Eigenvectors\n",
    "We have an $\\mathbf{eigenvector}$ when applying a unitary guantum gate results in the same vector mutliplied by some scalar called an $\\mathbf{eigenvalue}$. For example, let the gate be $X$ and $\\ket{+}$ the vector, when we apply $X$  to $\\ket{+}$, we get:\n",
    "\\begin{align*}\n",
    "X\\ket{+}=\n",
    "\\begin{pmatrix}\n",
    "0 & 1\\\\\n",
    "1 & 0\\\\\n",
    "\\end{pmatrix}\n",
    "\\begin{pmatrix}\n",
    "1/\\sqrt{2} \\\\\n",
    "1/\\sqrt{2} \\\\\n",
    "\\end{pmatrix}\n",
    "=\n",
    "\\begin{pmatrix}\n",
    "1/\\sqrt{2} \\\\\n",
    "1/\\sqrt{2} \\\\\n",
    "\\end{pmatrix}=(1)\\ket{+}\n",
    "\\end{align*}\n",
    "so $\\ket{+}$ is an eigenvector with eigenvalue $1$."
   ]
  },
  {
   "cell_type": "markdown",
   "id": "33c6549f-83f8-4143-be4e-ba3a0bbdde5e",
   "metadata": {},
   "source": [
    "Similarly, if we apply $X$ to $\\ket{-}$, we have:\n",
    "\\begin{align*}\n",
    "X\\ket{-}=\n",
    "\\begin{pmatrix}\n",
    "0 & 1\\\\\n",
    "1 & 0\\\\\n",
    "\\end{pmatrix}\n",
    "\\begin{pmatrix}\n",
    "1/\\sqrt{2} \\\\\n",
    "-1/\\sqrt{2} \\\\\n",
    "\\end{pmatrix}=\n",
    "\\begin{pmatrix}\n",
    "-1/\\sqrt{2} \\\\\n",
    "1/\\sqrt{2} \\\\\n",
    "\\end{pmatrix}=(-1)\n",
    "\\begin{pmatrix}\n",
    "1/\\sqrt{2} \\\\\n",
    "-1/\\sqrt{2} \\\\\n",
    "\\end{pmatrix}=(-1)\\ket{-}\n",
    "\\end{align*}\n",
    "so $\\ket{-}$ is an eigenvector with eigenvalue $-1$."
   ]
  },
  {
   "cell_type": "markdown",
   "id": "81f9c76d-ddc1-4ca7-bf2a-c197a37331b3",
   "metadata": {},
   "source": [
    "The general equation for eigenvectors and eigenvalues in Dirac notation is:\n",
    "\\begin{align*}\n",
    "A\\ket{u}=\\lambda\\ket{u}\n",
    "\\end{align*}\n",
    "where $A$ is a square matrix, $\\lambda$ (the eigenvalue) is a scalar, and $\\ket{u}$ (the eigenvector) is a vector."
   ]
  },
  {
   "cell_type": "markdown",
   "id": "32ff0087-6911-4365-bcfb-9c374ccf0ac1",
   "metadata": {},
   "source": [
    "The set of all eigenvectors of $A$ corresponding to the same eigenvalue $\\lambda$ is called the $\\mathbf{eigenspace}$. "
   ]
  },
  {
   "cell_type": "markdown",
   "id": "03f4a5df-501f-4d25-bd0a-aedc99f738bb",
   "metadata": {},
   "source": [
    "A $\\mathbf{diagonal\\ representation}$ for the operator $A$ on a vector space:\n",
    "\\begin{align*}\n",
    "A=\\sum_{i}\\lambda_i\\ket{i}\\bra{i}\n",
    "\\end{align*}\n",
    "where vectors $\\ket{i}$ form an orthonormal set of eignevectors for $A$ with corresponding eigenvalues $\\lambda_i$.  "
   ]
  },
  {
   "cell_type": "markdown",
   "id": "05ea0994-824f-47be-bd2a-03c2598ddf3e",
   "metadata": {},
   "source": [
    "An example using the pauli matrix $Z$:\n",
    "\\begin{align*}\n",
    "Z=\n",
    "\\begin{pmatrix}\n",
    "1 & 0 \\\\\n",
    "0 & -1 \\\\\n",
    "\\end{pmatrix}=\n",
    "1\\ket{0}\\bra{0}-1\\ket{1}\\bra{1}=\n",
    "1\\begin{pmatrix}\n",
    "1 & 0 \\\\\n",
    "0 & 0 \\\\\n",
    "\\end{pmatrix}-\n",
    "1\\begin{pmatrix}\n",
    "0 & 0 \\\\\n",
    "0 & 1 \\\\\n",
    "\\end{pmatrix}=\n",
    "\\begin{pmatrix}\n",
    "1 & 0 \\\\\n",
    "0 & 0 \\\\\n",
    "\\end{pmatrix}+\n",
    "\\begin{pmatrix}\n",
    "0 & 0 \\\\\n",
    "0 & -1 \\\\\n",
    "\\end{pmatrix}\n",
    "\\end{align*}"
   ]
  },
  {
   "cell_type": "code",
   "execution_count": 2,
   "id": "92fd693a-473c-464c-a178-84c411c4e0ca",
   "metadata": {},
   "outputs": [
    {
     "data": {
      "image/png": "[encoded data removed]",
      "text/latex": [
       "$\\displaystyle \\left( \\left[\\begin{matrix}1 & 0\\\\0 & 0\\end{matrix}\\right], \\  \\left[\\begin{matrix}0 & 0\\\\0 & 1\\end{matrix}\\right], \\  \\left[\\begin{matrix}1 & 0\\\\0 & -1\\end{matrix}\\right]\\right)$"
      ],
      "text/plain": [
       "⎛⎡1  0⎤  ⎡0  0⎤  ⎡1  0 ⎤⎞\n",
       "⎜⎢    ⎥, ⎢    ⎥, ⎢     ⎥⎟\n",
       "⎝⎣0  0⎦  ⎣0  1⎦  ⎣0  -1⎦⎠"
      ]
     },
     "execution_count": 2,
     "metadata": {},
     "output_type": "execute_result"
    }
   ],
   "source": [
    "# With Python\n",
    "ket_0 = np.array([[1],[0]])\n",
    "ket_1 = np.array([[0],[1]])\n",
    "\n",
    "sp.Matrix(np.outer(ket_0,ket_0)), sp.Matrix(np.outer(ket_1,ket_1)), sp.Matrix((1)*np.outer(ket_0,ket_0)+(-1)*np.outer(ket_1,ket_1))"
   ]
  },
  {
   "cell_type": "markdown",
   "id": "2be04c31-6c9b-4fab-bc0e-895e6ff5f3e5",
   "metadata": {},
   "source": [
    "## The Phase Estimation Problem\n",
    "We are given a quantum state $\\ket{\\psi}$ of $n$ qubits, along with a unitary quantum circuit that acts on $n$ qubits. It is assumed that $\\ket{\\psi}$ is an eigenvector of the unitary matrix $U$ that corrseponds with the circuit, and the goal is to find the eigenvalue $\\lambda$ that goes with the the eigenvector $\\ket{\\psi}$. Because $\\lambda$ lies somewhere on the complex unit circle, we have:\n",
    "\\begin{align*}\n",
    "\\lambda=e^{2\\pi i\\theta}\n",
    "\\end{align*}\n",
    "where $\\theta$ is a real number ST $0\\le\\theta<1$."
   ]
  },
  {
   "cell_type": "markdown",
   "id": "ba7a09a7-c754-4015-b311-8b5b563ea1cc",
   "metadata": {},
   "source": [
    "So the ultimate goal of this problem is to find $\\theta$."
   ]
  },
  {
   "cell_type": "markdown",
   "id": "3d7ad040-1c12-4385-9599-03c87c524052",
   "metadata": {},
   "source": [
    "## The Phase Estimation Procedure\n",
    "The general procedure for phase estimation is illustrated by the following diagram:\n",
    "<div align=\"center\">\n",
    "    <img src=\"Diagrams/PhaseEstimation.png\" alt=\"Description\" width=\"800\" height=\"800\">\n",
    "    <div class=\"caption\">(Credit: IBM Quantum Learning)</div>\n",
    "</div><br>"
   ]
  },
  {
   "cell_type": "markdown",
   "id": "8a2e646a-2d81-43ba-8fac-964eeb1e835a",
   "metadata": {},
   "source": [
    "Let's first break down the elements of this quantum circuit:\n",
    "* We have $m$ qubits in the ground state.\n",
    "* Each of those $m$ qubits are placed into the superposition state $\\ket{+}$.\n",
    "* There is a set qubits whose state is the eigenstate $\\ket{\\psi}$.\n",
    "* The controlled unitary operation $U$ is applied where every $\\ket{+}$ is a control and every state with eigenstate $\\ket{\\psi}$ is the target.\n",
    "* The inverse Quantum Fourier Transform is applied to all of the $\\ket{+}$ states and those states are measured."
   ]
  },
  {
   "cell_type": "markdown",
   "id": "82c5b19f-2063-4758-b1d6-60163d7cfa5d",
   "metadata": {},
   "source": [
    "Using thte general equation for eigenvectors and eigenvalues that we defined earlier, we have an equation with the form:\n",
    "\\begin{align*}\n",
    "U\\ket{\\psi}=e^{i\\theta}\\ket{\\psi}\n",
    "\\end{align*}\n",
    "where $U$ is our unitary operation, $\\ket{\\psi}$ is the $n$ qubit eigenstates (vectors) of $U$, and its eigenvalue takes the form $e^{i\\theta}$."
   ]
  },
  {
   "cell_type": "markdown",
   "id": "9c111425-1878-406a-9ff1-ae2044eb93f4",
   "metadata": {},
   "source": [
    "Let's step through the process of the circuit atarting with the base state. We have:\n",
    "\\begin{align*}\n",
    "\\ket{0\\dots00}\\ket{\\psi}\n",
    "\\end{align*}"
   ]
  },
  {
   "cell_type": "markdown",
   "id": "b8ab398b-1e9d-414e-a4ef-7f62392cbdfd",
   "metadata": {},
   "source": [
    "After applying $H^{\\otimes m}$ gates, we get:\n",
    "\\begin{align*}\n",
    "\\ket{+\\dots ++}\\ket{\\psi}\n",
    "\\end{align*}"
   ]
  },
  {
   "cell_type": "markdown",
   "id": "3e9e4139-a631-41a5-acfa-0677c9279d21",
   "metadata": {},
   "source": [
    "Now let's expand the first qubit set:\n",
    "\\begin{align*}\n",
    "\\frac{1}{\\sqrt{2^m}}(\\ket{0}+\\ket{1})\\dots(\\ket{0}+\\ket{1})(\\ket{0}+\\ket{1})\\ket{\\psi}\n",
    "\\end{align*}"
   ]
  },
  {
   "cell_type": "markdown",
   "id": "d0871448-ae71-4ee5-843e-4257d2ddfd97",
   "metadata": {},
   "source": [
    "Next we apply the controlled $U$ gates as shown in the diagram:\n",
    "\\begin{align*}\n",
    "\\frac{1}{\\sqrt{2^m}}(\\ket{0}+e^{2^{m-1}i\\theta}\\ket{1})\\dots(\\ket{0}+e^{2i\\theta}\\ket{1})(\\ket{0}+e^{i\\theta}\\ket{1})\\ket{\\psi}\n",
    "\\end{align*}"
   ]
  },
  {
   "cell_type": "markdown",
   "id": "b0f6b9c2-2ed6-4a31-b9b4-9de6bfba4614",
   "metadata": {},
   "source": [
    "For simplicity, we will set $\\theta=2\\pi j$, and plug it into the equation. Once we find $j$ we can simply multiply by $2\\pi$ to find $\\theta$. So now we have:\n",
    "\\begin{align*}\n",
    "\\frac{1}{\\sqrt{2^m}}(\\ket{0}+e^{2^{m-1}i2\\pi j}\\ket{1})\\dots(\\ket{0}+e^{2i2\\pi j}\\ket{1})(\\ket{0}+e^{i2\\pi j}\\ket{1})\\ket{\\psi}\n",
    "\\end{align*}"
   ]
  },
  {
   "cell_type": "markdown",
   "id": "5c289c9c-80eb-40f0-8b68-e2871d8211ed",
   "metadata": {},
   "source": [
    "Recall that:\n",
    "\\begin{align*}\n",
    "j=0.j_1j_2\\dots j_m\n",
    "\\end{align*}\n",
    "and \n",
    "\\begin{align*}\n",
    "2^mj=j_1j_2\\dots j_{m-1}.j_m\n",
    "\\end{align*}\n",
    "Note: we are only interested in the part of $j$ where $0\\le j<1$."
   ]
  },
  {
   "cell_type": "markdown",
   "id": "7e5a6d96-a7ac-4d34-82cc-0d8ad4d17bce",
   "metadata": {},
   "source": [
    "With that in mind, the equation takes the form:\n",
    "\\begin{align*}\n",
    "\\frac{1}{\\sqrt{2^m}}(\\ket{0}+e^{2\\pi i (0.j_m)}\\ket{1})\\dots(\\ket{0}+e^{2\\pi i (0.j_2\\dots j_m)}\\ket{1})(\\ket{0}+e^{2\\pi i (0.j_1\\dots j_m)}\\ket{1})\\ket{\\psi}\n",
    "\\end{align*}"
   ]
  },
  {
   "cell_type": "markdown",
   "id": "10a0cb0e-7ede-40a8-a352-2d2e97fe788e",
   "metadata": {},
   "source": [
    "This is the result of the Quantum Foruier Transformation of $\\ket{j_1j_2\\dots j_m}$, so we can use the Inverse Quatum Fourier Transformation to solve for $\\ket{j_1j_2\\dots j_m}$:\n",
    "\\begin{align*}\n",
    "\\ket{j_1j_2\\dots j_m}\\ket{\\psi}\n",
    "\\end{align*}"
   ]
  },
  {
   "cell_type": "markdown",
   "id": "d97abf8b-7984-4fd4-985d-3317a36f13c7",
   "metadata": {},
   "source": [
    "Once we measure $\\ket{j_1j_2\\dots j_m}$, we have:\n",
    "\\begin{align*}\n",
    "j_1,j_2,\\dots,j_m\n",
    "\\end{align*}\n",
    "where \n",
    "\\begin{align*}\n",
    "j=0.j_1j_2\\dots j_m=\\frac{j_1}{2}+\\frac{j_2}{4}+\\dots+\\frac{j_m}{2^m}\n",
    "\\end{align*}"
   ]
  },
  {
   "cell_type": "markdown",
   "id": "282739ba-3cfe-4aab-b219-38458574acd8",
   "metadata": {},
   "source": [
    "Finally, we have the eigenvalue:\n",
    "\\begin{align*}\n",
    "e^{i\\theta}=e^{2\\pi ij}\n",
    "\\end{align*}\n",
    "Note: this will approximate the eigenvalue up to $m$ bits of precision."
   ]
  }
 ],
 "metadata": {
  "kernelspec": {
   "display_name": "Quantum_Computing_venv",
   "language": "python",
   "name": "quantum_computing_venv"
  },
  "language_info": {
   "codemirror_mode": {
    "name": "ipython",
    "version": 3
   },
   "file_extension": ".py",
   "mimetype": "text/x-python",
   "name": "python",
   "nbconvert_exporter": "python",
   "pygments_lexer": "ipython3",
   "version": "3.10.14"
  }
 },
 "nbformat": 4,
 "nbformat_minor": 5
}
