{
 "cells": [
  {
   "cell_type": "code",
   "execution_count": 1,
   "id": "5a2c53fa-27aa-4936-9279-3fc0bcc29d44",
   "metadata": {},
   "outputs": [
    {
     "data": {
      "application/javascript": [
       "// Copyright (c) Microsoft Corporation.\n",
       "// Licensed under the MIT License.\n",
       "\n",
       "// This file provides CodeMirror syntax highlighting for Q# magic cells\n",
       "// in classic Jupyter Notebooks. It does nothing in other (Jupyter Notebook 7,\n",
       "// VS Code, Azure Notebooks, etc.) environments.\n",
       "\n",
       "// Detect the prerequisites and do nothing if they don't exist.\n",
       "if (window.require && window.CodeMirror && window.Jupyter) {\n",
       "  // The simple mode plugin for CodeMirror is not loaded by default, so require it.\n",
       "  window.require([\"codemirror/addon/mode/simple\"], function defineMode() {\n",
       "    let rules = [\n",
       "      {\n",
       "        token: \"comment\",\n",
       "        regex: /(\\/\\/).*/,\n",
       "        beginWord: false,\n",
       "      },\n",
       "      {\n",
       "        token: \"string\",\n",
       "        regex: String.raw`^\\\"(?:[^\\\"\\\\]|\\\\[\\s\\S])*(?:\\\"|$)`,\n",
       "        beginWord: false,\n",
       "      },\n",
       "      {\n",
       "        token: \"keyword\",\n",
       "        regex: String.raw`(namespace|open|as|operation|function|body|adjoint|newtype|controlled|internal)\\b`,\n",
       "        beginWord: true,\n",
       "      },\n",
       "      {\n",
       "        token: \"keyword\",\n",
       "        regex: String.raw`(if|elif|else|repeat|until|fixup|for|in|return|fail|within|apply)\\b`,\n",
       "        beginWord: true,\n",
       "      },\n",
       "      {\n",
       "        token: \"keyword\",\n",
       "        regex: String.raw`(Adjoint|Controlled|Adj|Ctl|is|self|auto|distribute|invert|intrinsic)\\b`,\n",
       "        beginWord: true,\n",
       "      },\n",
       "      {\n",
       "        token: \"keyword\",\n",
       "        regex: String.raw`(let|set|use|borrow|mutable)\\b`,\n",
       "        beginWord: true,\n",
       "      },\n",
       "      {\n",
       "        token: \"operatorKeyword\",\n",
       "        regex: String.raw`(not|and|or)\\b|(w/)`,\n",
       "        beginWord: true,\n",
       "      },\n",
       "      {\n",
       "        token: \"operatorKeyword\",\n",
       "        regex: String.raw`(=)|(!)|(<)|(>)|(\\+)|(-)|(\\*)|(/)|(\\^)|(%)|(\\|)|(&&&)|(~~~)|(\\.\\.\\.)|(\\.\\.)|(\\?)`,\n",
       "        beginWord: false,\n",
       "      },\n",
       "      {\n",
       "        token: \"meta\",\n",
       "        regex: String.raw`(Int|BigInt|Double|Bool|Qubit|Pauli|Result|Range|String|Unit)\\b`,\n",
       "        beginWord: true,\n",
       "      },\n",
       "      {\n",
       "        token: \"atom\",\n",
       "        regex: String.raw`(true|false|Pauli(I|X|Y|Z)|One|Zero)\\b`,\n",
       "        beginWord: true,\n",
       "      },\n",
       "    ];\n",
       "    let simpleRules = [];\n",
       "    for (let rule of rules) {\n",
       "      simpleRules.push({\n",
       "        token: rule.token,\n",
       "        regex: new RegExp(rule.regex, \"g\"),\n",
       "        sol: rule.beginWord,\n",
       "      });\n",
       "      if (rule.beginWord) {\n",
       "        // Need an additional rule due to the fact that CodeMirror simple mode doesn't work with ^ token\n",
       "        simpleRules.push({\n",
       "          token: rule.token,\n",
       "          regex: new RegExp(String.raw`\\W` + rule.regex, \"g\"),\n",
       "          sol: false,\n",
       "        });\n",
       "      }\n",
       "    }\n",
       "\n",
       "    // Register the mode defined above with CodeMirror\n",
       "    window.CodeMirror.defineSimpleMode(\"qsharp\", { start: simpleRules });\n",
       "    window.CodeMirror.defineMIME(\"text/x-qsharp\", \"qsharp\");\n",
       "\n",
       "    // Tell Jupyter to associate %%qsharp magic cells with the qsharp mode\n",
       "    window.Jupyter.CodeCell.options_default.highlight_modes[\"qsharp\"] = {\n",
       "      reg: [/^%%qsharp/],\n",
       "    };\n",
       "\n",
       "    // Force re-highlighting of all cells the first time this code runs\n",
       "    for (const cell of window.Jupyter.notebook.get_cells()) {\n",
       "      cell.auto_highlight();\n",
       "    }\n",
       "  });\n",
       "}\n"
      ],
      "text/plain": []
     },
     "metadata": {},
     "output_type": "display_data"
    }
   ],
   "source": [
    "# Author: Brent Artuch\n",
    "# Date: 2024-10-16\n",
    "\n",
    "import sympy as sp\n",
    "from sympy.physics.quantum import *\n",
    "import numpy as np\n",
    "from IPython.display import *\n",
    "Image(\"Diagrams/QuantumOracle.png\")\n",
    "Image(\"Diagrams/DeutchsAlgorithm.png\")\n",
    "Image(\"Diagrams/DeutschsJozsa.png\")\n",
    "\n",
    "# Qiskit and Q# libraries\n",
    "import qsharp\n",
    "from qiskit.quantum_info import Operator, Statevector\n",
    "from qiskit import QuantumCircuit, QuantumRegister, ClassicalRegister\n",
    "from qiskit_aer import AerSimulator\n",
    "\n",
    "sp.init_printing()"
   ]
  },
  {
   "cell_type": "markdown",
   "id": "2aad2c00-7789-49cf-8abc-0935f9db872d",
   "metadata": {},
   "source": [
    "## Quatum Oracles\n",
    "<img src=\"Diagrams/QuantumOracle.png\" alt=\"Description\" width=\"200\" height=\"200\"><br>\n",
    "Another way to represent this is:<br>\n",
    "\\begin{align*}\n",
    "\\ket{x}\\ket{y}^{ \\ \\underrightarrow{U_f} \\ }\\ket{x}\\ket{y \\oplus f(x)}\n",
    "\\end{align*}\n",
    "where $U_f$ is the Quantum Oracle and $x$ and $y$ are inputs/outputs.<br>\n",
    "<br>\n",
    "The four possible outcomes are:\n",
    "\\begin{align*}\n",
    "&\\ket{0}\\ket{0}^{ \\ \\underrightarrow{U_f} \\ }\\ket{0}\\ket{f(0)}\\\\\n",
    "&\\ket{0}\\ket{1}^{ \\ \\underrightarrow{U_f} \\ }\\ket{0}\\ket{1}\\\\\n",
    "&\\ket{1}\\ket{0}^{ \\ \\underrightarrow{U_f} \\ }\\ket{1}\\ket{f(1)}\\\\\n",
    "&\\ket{1}\\ket{1}^{ \\ \\underrightarrow{U_f} \\ }\\ket{1}\\ket{1}\\\\\n",
    "\\end{align*}"
   ]
  },
  {
   "cell_type": "markdown",
   "id": "156b94b0-087c-44fe-8eb4-55a206ed6c6b",
   "metadata": {},
   "source": [
    "## Phase Oracle\n",
    "To acces all of the possible outputs of the Quantum Oracle, we need a method for getting both $f(0)$ and $f(1)$ that is shown as follows:\n",
    "\\begin{align*}\n",
    "\\ket{x}\\ket{-}&=\\ket{x}\\frac{1}{\\sqrt{2}}(\\ket{0}-\\ket{1})\\\\\n",
    "&=\\frac{1}{\\sqrt{2}}(\\ket{x}\\ket{0}-\\ket{x}\\ket{1})\n",
    "\\end{align*}\n",
    "Now we can query the oracle $U_f$:\n",
    "\\begin{align*}\n",
    "&^{ \\ \\underrightarrow{U_f} \\ }\\frac{1}{\\sqrt{2}}(\\ket{x}\\ket{0 \\oplus f(x)}-\\ket{x}\\ket{1 \\oplus f(x)})\\\\\n",
    "&=\\begin{cases} \n",
    "      \\frac{1}{\\sqrt{2}}(\\ket{x}\\ket{0}-\\ket{x}\\ket{1}) & f(x)=0 \\\\\n",
    "      \\frac{1}{\\sqrt{2}}(\\ket{x}\\ket{1}-\\ket{x}\\ket{0}) & f(x)=1\\\\ \n",
    "   \\end{cases}\\\\\n",
    "&=\\begin{cases} \n",
    "  \\ket{x}\\ket{-} & f(x)=0 \\\\\n",
    "  -\\ket{x}\\ket{-} & f(x)=1\\\\ \n",
    "\\end{cases}\\\\\n",
    "&=(-1)^{f(x)}\\ket{x}\\ket{-}\n",
    "\\end{align*}\n",
    "And the general formula for the phase oracle is:\n",
    "\\begin{align*}\n",
    "\\ket{x}^{ \\ \\underrightarrow{U_f} \\ }(-1)^{f(x)}\\ket{x}\n",
    "\\end{align*}"
   ]
  },
  {
   "cell_type": "markdown",
   "id": "d0cfa0fe-53e8-42b0-9fc0-067c6079ff8e",
   "metadata": {},
   "source": [
    "## Deutsch's Algorithm\n",
    "We have two classical bits $b_0$ and $b_1$. We want to know whether the number of ones among the two bits is even or odd. The classical solution is to query the oracle $U_f$ twice plugging in $0$ and then $1$ into $f(x)$ to find the value of each bit. Then the XOR of the two bits is taken to determine whether the pair has an odd or even number of ones. The quantum solution can solve this problem in one step as shown by this qunatum circuit:<br>\n",
    "<img src=\"Diagrams/DeutchsAlgorithm.png\" alt=\"Description\" width=\"500\" height=\"500\">\n",
    "<br>\n",
    "Now we will walk through the operations of this cirucit mathematically. First, to put the controll bit into the minus state, we need to flip ($X$-gate) the base state ($\\ket{0}$) to the excited state ($\\ket{1}$) and then apply the $H$-gate to get the minus state ($\\ket{-}$). \n",
    "\\begin{align*}\n",
    "HX\\ket{0}=H\\ket{1}=\\frac{1}{\\sqrt{2}}(\\ket{0}-\\ket{1})=\\ket{-}\n",
    "\\end{align*}\n",
    "Now we move down to the target qubit and apply the $H$-gate :\n",
    "\\begin{align*}\n",
    "H\\ket{0}=\\frac{1}{\\sqrt{2}}(\\ket{0}+\\ket{1})\n",
    "\\end{align*}\n",
    "Next we apply the Quantum Oracle $U_f$ :\n",
    "\\begin{align*}\n",
    "\\frac{1}{\\sqrt{2}}((-1)^{f(0)}\\ket{0}+(-1)^{f(1)}\\ket{1})\\\\\n",
    "\\end{align*}\n",
    "And set $f(0)=b_0$ and $f(1)=b_1$ :\n",
    "\\begin{align*}\n",
    "=\\frac{1}{\\sqrt{2}}((-1)^{b_0}\\ket{0}+(-1)^{b_1}\\ket{1})\\\\\n",
    "\\end{align*}\n",
    "Then factor $(-1)^{b_0}$ :\n",
    "\\begin{align*}\n",
    "=(-1)^{b_0}\\frac{1}{\\sqrt{2}}(\\ket{0}+(-1)^{b_1-b_0}\\ket{1})\\\\\n",
    "\\end{align*}\n",
    "And we get :\n",
    "\\begin{align*}\n",
    "&=\\begin{cases} \n",
    "  (-1)^{b_0}\\frac{1}{\\sqrt{2}}(\\ket{0}+\\ket{1}) & b_0=b_1 \\\\\n",
    "  (-1)^{b_0}\\frac{1}{\\sqrt{2}}(\\ket{0}-\\ket{1}) & b_0\\not =b_1\\\\ \n",
    "\\end{cases}\\\\\n",
    "&=\\begin{cases} \n",
    "  (-1)^{b_0}\\ket{+} & b_0=b_1 \\\\\n",
    "  (-1)^{b_0}\\ket{-} & b_0\\not =b_1\\\\ \n",
    "\\end{cases}\n",
    "\\end{align*}  \n",
    "Apply the Hadamard gate:\n",
    "\\begin{align*}\n",
    "&=\\begin{cases} \n",
    "  (-1)^{b_0}H\\ket{+} & b_0=b_1 \\\\\n",
    "  (-1)^{b_0}H\\ket{-} & b_0\\not =b_1\\\\ \n",
    "\\end{cases}\\\\\n",
    "&=\\begin{cases} \n",
    "  (-1)^{b_0}\\ket{0} & b_0=b_1 \\\\\n",
    "  (-1)^{b_0}\\ket{1} & b_0\\not =b_1\\\\ \n",
    "\\end{cases}\n",
    "\\end{align*}\n",
    "And lastly drop the global phase:\n",
    "=\\begin{cases} \n",
    "  \\ket{0} & b_0=b_1 \\\\\n",
    "  \\ket{1} & b_0\\not =b_1\\\\ \n",
    "\\end{cases}\n",
    "Therefore, when we measure the target qubit, if we get $\\ket{0}$ the parity is even becuase $b_0=b_1$ and if we get $\\ket{1}$ the parity is odd becuase $b_0\\not =b_1$ (ie. $1=1$, $0=0$, $1\\not = 0$, and $0\\not = 1$)"
   ]
  },
  {
   "cell_type": "markdown",
   "id": "d9199908-8423-43cb-a39a-321eb858ae3f",
   "metadata": {},
   "source": [
    "The problem is presented a little differently for the Qiskit and Q# examples but has the same idea:<br>\n",
    "<br>\n",
    "Input: a function $f:\\{0,1\\} \\ \\to \\ \\{0,1\\}$<br>\n",
    "Output: $0$ if $f$ is constant, $1$ if $f$ is balanced<br>\n",
    "\\begin{array}{c c}\n",
    "\\text{function} & \\text{string}\\\\ \n",
    "\\hline % Put a horizontal line between the table header and the rest.\n",
    "f_1 & 00 \\\\\n",
    "f_2 & 01 \\\\\n",
    "f_3 & 10 \\\\\n",
    "f_4 & 11 \\\\\n",
    "\\end{array}\n",
    "Constant means $f(0)=f(1)$ and balanced means $f(0)\\not = f(1)$"
   ]
  },
  {
   "cell_type": "code",
   "execution_count": 2,
   "id": "e470d1a2-e2ee-4198-b2d6-03c968bbd49d",
   "metadata": {},
   "outputs": [
    {
     "data": {
      "image/png": "[encoded data removed]",
      "text/plain": [
       "<Figure size 203.683x200.667 with 1 Axes>"
      ]
     },
     "metadata": {},
     "output_type": "display_data"
    }
   ],
   "source": [
    "# Qiskit implementation of the Deutsch Algorithm\n",
    "\n",
    "def deutsch_function(case: int):\n",
    "    \"\"\"\n",
    "    Generate a valid Deutsch function as a `QuantumCircuit`.\n",
    "    \"\"\"\n",
    "    if case not in [1, 2, 3, 4]:\n",
    "        raise ValueError(\"`case` must be 1, 2, 3, or 4.\")\n",
    "\n",
    "    f = QuantumCircuit(2)\n",
    "    if case in [2, 3]:\n",
    "        f.cx(0, 1)\n",
    "    if case in [3, 4]:\n",
    "        f.x(1)\n",
    "    return f\n",
    "\n",
    "display(deutsch_function(4).draw(\"mpl\"))"
   ]
  },
  {
   "cell_type": "code",
   "execution_count": 3,
   "id": "586fd741-7178-4ae3-a8f1-cc091c229dc6",
   "metadata": {},
   "outputs": [
    {
     "data": {
      "image/png": "[encoded data removed]",
      "text/plain": [
       "<Figure size 705.35x284.278 with 1 Axes>"
      ]
     },
     "metadata": {},
     "output_type": "display_data"
    }
   ],
   "source": [
    "def compile_circuit(function: QuantumCircuit):\n",
    "    \"\"\"\n",
    "    Compiles a circuit for use in Deutsch's algorithm.\n",
    "    \"\"\"\n",
    "    n = function.num_qubits - 1\n",
    "    qc = QuantumCircuit(n + 1, n)\n",
    "\n",
    "    qc.x(n)\n",
    "    qc.h(range(n + 1))\n",
    "\n",
    "    qc.barrier()\n",
    "    qc.compose(function, inplace=True)\n",
    "    qc.barrier()\n",
    "\n",
    "    qc.h(range(n))\n",
    "    qc.measure(range(n), range(n))\n",
    "\n",
    "    return qc\n",
    "\n",
    "display(compile_circuit(deutsch_function(2)).draw(\"mpl\"))"
   ]
  },
  {
   "cell_type": "code",
   "execution_count": 4,
   "id": "95331e3f-cbf2-4a6c-9c2f-a2cea9b3f18e",
   "metadata": {},
   "outputs": [
    {
     "data": {
      "image/png": "[encoded data removed]",
      "text/plain": [
       "<Figure size 203.683x200.667 with 1 Axes>"
      ]
     },
     "metadata": {},
     "output_type": "display_data"
    },
    {
     "data": {
      "text/plain": [
       "'constant'"
      ]
     },
     "metadata": {},
     "output_type": "display_data"
    }
   ],
   "source": [
    "def deutsch_algorithm(function: QuantumCircuit):\n",
    "    \"\"\"\n",
    "    Determine if a Deutsch function is constant or balanced.\n",
    "    \"\"\"\n",
    "    qc = compile_circuit(function)\n",
    "\n",
    "    result = AerSimulator().run(qc, shots=1, memory=True).result()\n",
    "    measurements = result.get_memory()\n",
    "    if measurements[0] == \"0\":\n",
    "        return \"constant\"\n",
    "    return \"balanced\"\n",
    "\n",
    "f = deutsch_function(4)\n",
    "display(f.draw(\"mpl\"))\n",
    "display(deutsch_algorithm(f))"
   ]
  },
  {
   "cell_type": "markdown",
   "id": "5abe6ed5-b0d5-4582-9ef9-c8b2e53d229b",
   "metadata": {},
   "source": [
    "Q# Version"
   ]
  },
  {
   "cell_type": "code",
   "execution_count": 5,
   "id": "368f00e2-905a-4c64-ad68-519876da80b2",
   "metadata": {},
   "outputs": [
    {
     "data": {
      "text/plain": [
       "f0 is constant."
      ]
     },
     "metadata": {},
     "output_type": "display_data"
    },
    {
     "data": {},
     "metadata": {},
     "output_type": "display_data"
    },
    {
     "data": {
      "text/plain": [
       "f1 is constant."
      ]
     },
     "metadata": {},
     "output_type": "display_data"
    },
    {
     "data": {},
     "metadata": {},
     "output_type": "display_data"
    },
    {
     "data": {
      "text/plain": [
       "f2 is balanced."
      ]
     },
     "metadata": {},
     "output_type": "display_data"
    },
    {
     "data": {},
     "metadata": {},
     "output_type": "display_data"
    },
    {
     "data": {
      "text/plain": [
       "f3 is balanced."
      ]
     },
     "metadata": {},
     "output_type": "display_data"
    },
    {
     "data": {},
     "metadata": {},
     "output_type": "display_data"
    }
   ],
   "source": [
    "%%qsharp\n",
    "\n",
    "import Std.Diagnostics.*;\n",
    "\n",
    "@EntryPoint()\n",
    "operation Main() : Unit {\n",
    "    // Output results\n",
    "    Message($\"f0 is {RunDeutschAlogirthm(OracleF0) ? \"constant\" | \"balanced\"}.\");\n",
    "    Message($\"f1 is {RunDeutschAlogirthm(OracleF1) ? \"constant\" | \"balanced\"}.\");\n",
    "    Message($\"f2 is {RunDeutschAlogirthm(OracleF2) ? \"constant\" | \"balanced\"}.\");\n",
    "    Message($\"f3 is {RunDeutschAlogirthm(OracleF3) ? \"constant\" | \"balanced\"}.\");\n",
    "}\n",
    "\n",
    "operation RunDeutschAlogirthm(oracle : ((Qubit, Qubit) => Unit)) : Bool {\n",
    "    mutable isFunctionConstant = true;\n",
    "    use (q1, q2) = (Qubit(), Qubit()) {\n",
    "        X(q2); // ket0 -> ket1  \n",
    "        H(q1); // ket0 -> ket+                                   \n",
    "        H(q2); // ket1 -> ket-\n",
    "\n",
    "        oracle(q1, q2); // Either flip q1 or do nothing to q1  \n",
    "\n",
    "        H(q1); // Return q1 to the Z-basis \n",
    "\n",
    "        set isFunctionConstant = MResetZ(q1) == Zero; // Record result         \n",
    "        Reset(q2);       \n",
    "    }\n",
    "    return isFunctionConstant;\n",
    "}\n",
    "\n",
    "operation OracleF0(q1 : Qubit, q2 : Qubit) : Unit is Adj {\n",
    "    // f(0) = f(1) = 0\n",
    "    // Do nothing\n",
    "}\n",
    "\n",
    "operation OracleF1(q1 : Qubit, q2 : Qubit) : Unit is Adj  {\n",
    "    // constant 1\n",
    "    // f(0) = f(1) = 1\n",
    "    X(q2); // Flip q2: ket- -> ket+\n",
    "}\n",
    "\n",
    "operation OracleF2(q1 : Qubit, q2 : Qubit) : Unit is Adj  {\n",
    "    // f(0) = 0, f(1) = 1\n",
    "    CNOT(q1, q2); // Entangle states then flip q1: ket+ -> ket-\n",
    "}\n",
    "\n",
    "operation OracleF3(q1 : Qubit, q2 : Qubit) : Unit is Adj {\n",
    "    // f(0) = 1, f(1) = 0\n",
    "    CNOT(q1, q2); // Entangle states then flip q1: ket+ -> ket-\n",
    "    X(q2); // flip the entangled state: ket-- -> ket++\n",
    "}\n",
    "\n",
    "Main()"
   ]
  },
  {
   "cell_type": "markdown",
   "id": "8a6edcef-ec77-41b4-b51a-a9cdf69b5309",
   "metadata": {},
   "source": [
    "## Deutsch-Jozsa Algorithm\n",
    "Now we have a set of classical bits $\\{b_0,b_1,...,b_n\\}$ and we need to determine if the set is constant (all $1$s or all $0$s) or if it is balanced (half $1$s and half $0$s). Classically, we need to execute $2^{n-1}+1$ queries to solve this problem because we need to know the value of half of the total bits plus one to be certain that a set of bits is constant or balanced. Say the first half of the bits measured are constant, we cannot say for certain that the entire set will be constant until we measure the next bit. The quantum solution can do this with a single query thus giving the solution exponential speedup. The quantum circuit for this algorithm is:\n",
    "<img src=\"Diagrams/DeutschJozsa.png\" alt=\"Description\" width=\"400\" height=\"400\"><br>"
   ]
  }
 ],
 "metadata": {
  "kernelspec": {
   "display_name": "Quantum_Computing_venv",
   "language": "python",
   "name": "quantum_computing_venv"
  },
  "language_info": {
   "codemirror_mode": {
    "name": "ipython",
    "version": 3
   },
   "file_extension": ".py",
   "mimetype": "text/x-python",
   "name": "python",
   "nbconvert_exporter": "python",
   "pygments_lexer": "ipython3",
   "version": "3.10.14"
  }
 },
 "nbformat": 4,
 "nbformat_minor": 5
}
