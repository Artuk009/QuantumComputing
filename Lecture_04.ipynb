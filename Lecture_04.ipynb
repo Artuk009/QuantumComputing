{
 "cells": [
  {
   "cell_type": "code",
   "execution_count": 3,
   "id": "5a2c53fa-27aa-4936-9279-3fc0bcc29d44",
   "metadata": {},
   "outputs": [],
   "source": [
    "# Author: Brent Artuch\n",
    "# Date: 2024-10-16\n",
    "\n",
    "import sympy as sp\n",
    "from sympy.physics.quantum import *\n",
    "import numpy as np\n",
    "from IPython.display import *\n",
    "Image(\"Diagrams/QuantumOracle.png\")\n",
    "\n",
    "# Qiskit and Q# libraries\n",
    "import qsharp\n",
    "from qiskit.quantum_info import Operator, Statevector\n",
    "from qiskit import QuantumCircuit, QuantumRegister, ClassicalRegister\n",
    "\n",
    "sp.init_printing()"
   ]
  },
  {
   "cell_type": "markdown",
   "id": "2aad2c00-7789-49cf-8abc-0935f9db872d",
   "metadata": {},
   "source": [
    "## Quatum Oracles\n",
    "![title](Diagrams/QuantumOracle.png) <br>\n",
    "Another way to represent this is:<br>\n",
    "\\begin{align*}\n",
    "\\ket{x}\\ket{y}^{ \\ \\underrightarrow{U_f} \\ }\\ket{x}\\ket{y \\oplus f(x)}\n",
    "\\end{align*}\n",
    "where $U_f$ is the Quantum Oracle and $x$ and $y$ are inputs/outputs.<br>\n",
    "<br>\n",
    "The four possible outcomes are:\n",
    "\\begin{align*}\n",
    "&\\ket{0}\\ket{0}^{ \\ \\underrightarrow{U_f} \\ }\\ket{0}\\ket{f(0)}\\\\\n",
    "&\\ket{0}\\ket{1}^{ \\ \\underrightarrow{U_f} \\ }\\ket{0}\\ket{1}\\\\\n",
    "&\\ket{1}\\ket{0}^{ \\ \\underrightarrow{U_f} \\ }\\ket{1}\\ket{f(1)}\\\\\n",
    "&\\ket{1}\\ket{1}^{ \\ \\underrightarrow{U_f} \\ }\\ket{1}\\ket{1}\\\\\n",
    "\\end{align*}"
   ]
  },
  {
   "cell_type": "markdown",
   "id": "156b94b0-087c-44fe-8eb4-55a206ed6c6b",
   "metadata": {},
   "source": [
    "## Phase Oracle\n"
   ]
  }
 ],
 "metadata": {
  "kernelspec": {
   "display_name": "Quantum_Computing_venv",
   "language": "python",
   "name": "quantum_computing_venv"
  },
  "language_info": {
   "codemirror_mode": {
    "name": "ipython",
    "version": 3
   },
   "file_extension": ".py",
   "mimetype": "text/x-python",
   "name": "python",
   "nbconvert_exporter": "python",
   "pygments_lexer": "ipython3",
   "version": "3.12.7"
  }
 },
 "nbformat": 4,
 "nbformat_minor": 5
}
