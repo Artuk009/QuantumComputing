{
 "cells": [
  {
   "cell_type": "code",
   "execution_count": 1,
   "id": "a9564ba1-974e-4b1b-a957-bce3c11c8afb",
   "metadata": {},
   "outputs": [],
   "source": [
    "# Author: Brent Artuch\n",
    "# Date: 2024-11-25"
   ]
  },
  {
   "cell_type": "markdown",
   "id": "2e5e9e60-8873-4996-a1a8-b624e6498f9d",
   "metadata": {},
   "source": [
    "## Brute-Force Search Problem\n",
    "If we are given a database of $N$ unordered entries, such that each entry is a number and a label, then we would need to conduct $O(N)$ queries to find the label that matches the corresponding desired number (A phonebook would be a good example of this). In terms of a function, this is equivalent to $f(\\text{label})=\\text{number}$. Thus, we are inverting the function by starting with the output and searching for the given input. "
   ]
  }
 ],
 "metadata": {
  "kernelspec": {
   "display_name": "Quantum_Computing_venv",
   "language": "python",
   "name": "quantum_computing_venv"
  },
  "language_info": {
   "codemirror_mode": {
    "name": "ipython",
    "version": 3
   },
   "file_extension": ".py",
   "mimetype": "text/x-python",
   "name": "python",
   "nbconvert_exporter": "python",
   "pygments_lexer": "ipython3",
   "version": "3.12.7"
  }
 },
 "nbformat": 4,
 "nbformat_minor": 5
}
