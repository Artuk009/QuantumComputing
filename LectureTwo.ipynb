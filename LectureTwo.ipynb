{
 "cells": [
  {
   "cell_type": "markdown",
   "id": "bcaee3ed-1462-42cd-bb63-51d347fa7573",
   "metadata": {},
   "source": [
    "## Classical Boolean Logic\n",
    "<p style=\"text-align: center\">AND Gate</p>\n",
    "\\begin{array}{|c c|c|}\n",
    "x_0 & x_1 & x_0 \\land x_1\\\\ \n",
    "\\hline % Put a horizontal line between the table header and the rest.\n",
    "0 & 0 & 0\\\\\n",
    "0 & 1 & 0\\\\\n",
    "1 & 0 & 0\\\\\n",
    "1 & 1 & 1\\\\\n",
    "\\end{array}\n",
    "\n",
    "<p style=\"text-align: center\">OR Gate</p>\n",
    "\\begin{array}{|c c|c|}\n",
    "x_0 & x_1 & x_0 \\lor x_1\\\\ \n",
    "\\hline % Put a horizontal line between the table header and the rest.\n",
    "0 & 0 & 0\\\\\n",
    "0 & 1 & 1\\\\\n",
    "1 & 0 & 1\\\\\n",
    "1 & 1 & 1\\\\\n",
    "\\end{array}\n",
    "\n",
    "<p style=\"text-align: center\">NAND Gate</p>\n",
    "\\begin{array}{|c c|c|}\n",
    "x_0 & x_1 & \\neg (x_0 \\land x_1)\\\\ \n",
    "\\hline % Put a horizontal line between the table header and the rest.\n",
    "0 & 0 & 1\\\\\n",
    "0 & 1 & 1\\\\\n",
    "1 & 0 & 1\\\\\n",
    "1 & 1 & 0\\\\\n",
    "\\end{array}\n",
    "\n",
    "<p style=\"text-align: center\">NOT Gate</p>\n",
    "\\begin{array}{|c|c|}\n",
    "x_0 & \\neg x_0\\\\ \n",
    "\\hline % Put a horizontal line between the table header and the rest.\n",
    "0 & 1\\\\\n",
    "1 & 0\\\\\n",
    "\\end{array}\n",
    "\n",
    "Quantum gates must be reversable such that $UU^\\dagger$ = $U^\\dagger U$ = $I$. Thus, for each output state there is a unique input state. <br>\n",
    "Of the given classical gates, the not gate is the only one that is reversable, therefore we can represent it as a matrix that we will label $X$. <br>\n"
   ]
  },
  {
   "cell_type": "code",
   "execution_count": 1,
   "id": "2345f210-67b3-41dc-a282-c8d073cda398",
   "metadata": {},
   "outputs": [],
   "source": [
    "from sympy import *\n",
    "from sympy.physics.quantum import *\n",
    "from sympy.physics.quantum.circuitplot import circuit_plot\n",
    "from sympy.physics.quantum.qubit import * # Package allows for easy quibit creation\n",
    "from sympy.physics.quantum.gate import * # easy gate reference\n",
    "\n",
    "# Qiskit libraries\n",
    "from qiskit.quantum_info import Operator\n",
    "from qiskit import QuantumCircuit, QuantumRegister, ClassicalRegister\n",
    "from qiskit.primitives import Sampler\n",
    "from qiskit.visualization import plot_histogram\n",
    "\n",
    "init_printing()"
   ]
  },
  {
   "cell_type": "code",
   "execution_count": 2,
   "id": "52b5fb75-ca39-45ea-ba67-cd5fb18ebccf",
   "metadata": {},
   "outputs": [
    {
     "data": {
      "text/latex": [
       "$\\displaystyle \\left( \\left[\\begin{matrix}0 & 1\\\\1 & 0\\end{matrix}\\right], \\  \\left[\\begin{matrix}b\\\\1 - b\\end{matrix}\\right], \\  \\left[\\begin{matrix}1 - b\\\\b\\end{matrix}\\right], \\  \\left[\\begin{matrix}b\\\\1 - b\\end{matrix}\\right]\\right)$"
      ],
      "text/plain": [
       "⎛⎡0  1⎤  ⎡  b  ⎤  ⎡1 - b⎤  ⎡  b  ⎤⎞\n",
       "⎜⎢    ⎥, ⎢     ⎥, ⎢     ⎥, ⎢     ⎥⎟\n",
       "⎝⎣1  0⎦  ⎣1 - b⎦  ⎣  b  ⎦  ⎣1 - b⎦⎠"
      ]
     },
     "execution_count": 2,
     "metadata": {},
     "output_type": "execute_result"
    }
   ],
   "source": [
    "# define X\n",
    "b = symbols(\"b\")\n",
    "X = Matrix([[0, 1], [1, 0]])\n",
    "ket_b = Matrix([[b], [1-b]])\n",
    "\n",
    "# Apply X gate to the state vector\n",
    "X_on_ket_b = X * ket_b\n",
    "\n",
    "# Apply X gate twice\n",
    "XX_on_ket_b = X * (X_on_ket_b)\n",
    "# Notice this flips the state back to its original value (identity), thus X is unitary.\n",
    "(X, ket_b, X_on_ket_b, XX_on_ket_b)"
   ]
  },
  {
   "cell_type": "markdown",
   "id": "47961bc8-b20e-4f74-8b71-11dd88513354",
   "metadata": {},
   "source": [
    "## Controlled Not Gate\n",
    "$\\ket{a,b} \\rightarrow \\ket{a, a \\ \\oplus \\ b}$"
   ]
  },
  {
   "cell_type": "code",
   "execution_count": 3,
   "id": "57d32e20-1057-4449-a442-da65bb6ca7d8",
   "metadata": {},
   "outputs": [
    {
     "data": {
      "text/html": [
       "<pre style=\"word-wrap: normal;white-space: pre;background: #fff0;line-height: 1.1;font-family: &quot;Courier New&quot;,Courier,monospace\">        \n",
       "a: ──■──\n",
       "   ┌─┴─┐\n",
       "b: ┤ X ├\n",
       "   └───┘</pre>"
      ],
      "text/plain": [
       "        \n",
       "a: ──■──\n",
       "   ┌─┴─┐\n",
       "b: ┤ X ├\n",
       "   └───┘"
      ]
     },
     "metadata": {},
     "output_type": "display_data"
    }
   ],
   "source": [
    "# Define states\n",
    "a = QuantumRegister(1, \"a\")\n",
    "b = QuantumRegister(1, \"b\")\n",
    "\n",
    "# Initialize circuit based on states\n",
    "circuit = QuantumCircuit(a,b)\n",
    "\n",
    "# Apply CNOT gate\n",
    "circuit.cx(0, 1)\n",
    "\n",
    "display(circuit.draw())"
   ]
  },
  {
   "cell_type": "code",
   "execution_count": 4,
   "id": "8ab45808-ac00-4827-a6e5-60424a2e2d20",
   "metadata": {},
   "outputs": [
    {
     "data": {
      "text/latex": [
       "$\\displaystyle \\left( \\left[\\begin{matrix}c_{0}\\\\c_{1}\\\\c_{2}\\\\c_{3}\\end{matrix}\\right], \\  \\left[\\begin{matrix}c_{0}\\\\c_{1}\\\\c_{3}\\\\c_{2}\\end{matrix}\\right]\\right)$"
      ],
      "text/plain": [
       "⎛⎡c₀⎤  ⎡c₀⎤⎞\n",
       "⎜⎢  ⎥  ⎢  ⎥⎟\n",
       "⎜⎢c₁⎥  ⎢c₁⎥⎟\n",
       "⎜⎢  ⎥, ⎢  ⎥⎟\n",
       "⎜⎢c₂⎥  ⎢c₃⎥⎟\n",
       "⎜⎢  ⎥  ⎢  ⎥⎟\n",
       "⎝⎣c₃⎦  ⎣c₂⎦⎠"
      ]
     },
     "execution_count": 4,
     "metadata": {},
     "output_type": "execute_result"
    }
   ],
   "source": [
    "c_0, c_1, c_2, c_3 = symbols(\"c_0, c_1, c_2, c_3\")\n",
    "ket_psi = Matrix([[c_0], [c_1], [c_2], [c_3]])\n",
    "\n",
    "# Define CX/CNOT matrix\n",
    "CX = Matrix([\n",
    " [1, 0, 0, 0],\n",
    " [0, 1, 0, 0],\n",
    " [0, 0, 0, 1],\n",
    " [0, 0, 1, 0]])\n",
    "# apply to ket psi to swap the elements of the bottom right quadrant\n",
    "CX_on_ket_psi = CX * ket_psi\n",
    "\n",
    "(ket_psi, CX_on_ket_psi)"
   ]
  },
  {
   "cell_type": "code",
   "execution_count": 5,
   "id": "f34ec6ed-5523-4918-bb80-b0e3d5a8981e",
   "metadata": {},
   "outputs": [
    {
     "data": {
      "text/latex": [
       "$\\displaystyle \\left( \\left[\\begin{matrix}\\frac{\\sqrt{2}}{2}\\\\\\frac{\\sqrt{2}}{2}\\end{matrix}\\right], \\  \\left[\\begin{matrix}1\\\\0\\end{matrix}\\right], \\  \\left[\\begin{matrix}\\frac{\\sqrt{2}}{2}\\\\0\\\\\\frac{\\sqrt{2}}{2}\\\\0\\end{matrix}\\right], \\  \\left[\\begin{matrix}\\frac{\\sqrt{2}}{2}\\\\0\\\\0\\\\\\frac{\\sqrt{2}}{2}\\end{matrix}\\right]\\right)$"
      ],
      "text/plain": [
       "⎛           ⎡√2⎤  ⎡√2⎤⎞\n",
       "⎜           ⎢──⎥  ⎢──⎥⎟\n",
       "⎜⎡√2⎤       ⎢2 ⎥  ⎢2 ⎥⎟\n",
       "⎜⎢──⎥       ⎢  ⎥  ⎢  ⎥⎟\n",
       "⎜⎢2 ⎥  ⎡1⎤  ⎢0 ⎥  ⎢0 ⎥⎟\n",
       "⎜⎢  ⎥, ⎢ ⎥, ⎢  ⎥, ⎢  ⎥⎟\n",
       "⎜⎢√2⎥  ⎣0⎦  ⎢√2⎥  ⎢0 ⎥⎟\n",
       "⎜⎢──⎥       ⎢──⎥  ⎢  ⎥⎟\n",
       "⎜⎣2 ⎦       ⎢2 ⎥  ⎢√2⎥⎟\n",
       "⎜           ⎢  ⎥  ⎢──⎥⎟\n",
       "⎝           ⎣0 ⎦  ⎣2 ⎦⎠"
      ]
     },
     "execution_count": 5,
     "metadata": {},
     "output_type": "execute_result"
    }
   ],
   "source": [
    "# Define the common states\n",
    "qubits = (Matrix([[1], [0]]), Matrix([[0], [1]]), Matrix([[c_0], [c_1]]))\n",
    "\n",
    "# 1-Qubit\n",
    "ket_0 = qubits[0]\n",
    "ket_1 = qubits[1]\n",
    "ket_plus = 1/sqrt(2)*(ket_0 + ket_1)\n",
    "ket_minus = 1/sqrt(2)*(ket_0 - ket_1)\n",
    "ket_i = 1/sqrt(2)*(ket_0 + I*ket_1)\n",
    "ket_minus_i = 1/sqrt(2)*(ket_0 - I*ket_1)\n",
    "# 2-Qubit\n",
    "ket_00 = TensorProduct(ket_0, ket_0)\n",
    "ket_01 = TensorProduct(ket_0, ket_1)\n",
    "ket_10 = TensorProduct(ket_1, ket_0)\n",
    "ket_11 = TensorProduct(ket_1, ket_1)\n",
    "\n",
    "# Example of CNOT application\n",
    "ket_plus_0 = TensorProduct(ket_plus, ket_0)\n",
    "# We get |00> and |10>\n",
    "CX_on_ket_plus_0 = CX * ket_plus_0\n",
    "# Notice the resulting flip giving us |00> and |11>\n",
    "(ket_plus, ket_0, ket_plus_0, CX_on_ket_plus_0)"
   ]
  },
  {
   "cell_type": "code",
   "execution_count": 6,
   "id": "fd08e5ce-098e-4c7a-aa87-6e6319f17008",
   "metadata": {},
   "outputs": [
    {
     "data": {
      "text/latex": [
       "$\\displaystyle \\left( \\left[\\begin{matrix}\\frac{\\sqrt{2}}{2}\\\\\\frac{\\sqrt{2}}{2}\\end{matrix}\\right], \\  \\left[\\begin{matrix}\\frac{\\sqrt{2}}{2}\\\\- \\frac{\\sqrt{2}}{2}\\end{matrix}\\right], \\  \\left[\\begin{matrix}\\frac{1}{2}\\\\- \\frac{1}{2}\\\\\\frac{1}{2}\\\\- \\frac{1}{2}\\end{matrix}\\right], \\  \\left[\\begin{matrix}\\frac{1}{2}\\\\- \\frac{1}{2}\\\\- \\frac{1}{2}\\\\\\frac{1}{2}\\end{matrix}\\right]\\right)$"
      ],
      "text/plain": [
       "⎛⎡√2⎤  ⎡ √2 ⎤  ⎡1/2 ⎤  ⎡1/2 ⎤⎞\n",
       "⎜⎢──⎥  ⎢ ── ⎥  ⎢    ⎥  ⎢    ⎥⎟\n",
       "⎜⎢2 ⎥  ⎢ 2  ⎥  ⎢-1/2⎥  ⎢-1/2⎥⎟\n",
       "⎜⎢  ⎥, ⎢    ⎥, ⎢    ⎥, ⎢    ⎥⎟\n",
       "⎜⎢√2⎥  ⎢-√2 ⎥  ⎢1/2 ⎥  ⎢-1/2⎥⎟\n",
       "⎜⎢──⎥  ⎢────⎥  ⎢    ⎥  ⎢    ⎥⎟\n",
       "⎝⎣2 ⎦  ⎣ 2  ⎦  ⎣-1/2⎦  ⎣1/2 ⎦⎠"
      ]
     },
     "execution_count": 6,
     "metadata": {},
     "output_type": "execute_result"
    }
   ],
   "source": [
    "# Example 2\n",
    "ket_plus_minus = TensorProduct(ket_plus, ket_minus)\n",
    "CX_on_ket_plus_minus = CX * ket_plus_minus\n",
    "# Note the resulting flip in rows 3 and 4\n",
    "(ket_plus, ket_minus, ket_plus_minus, CX_on_ket_plus_minus)"
   ]
  },
  {
   "cell_type": "markdown",
   "id": "afaac72d-3603-4843-857f-5d92ee08af0d",
   "metadata": {},
   "source": [
    "## Circuit Diagrams"
   ]
  },
  {
   "cell_type": "code",
   "execution_count": 7,
   "id": "402d866b-611c-47d0-9cb8-1380fdb33337",
   "metadata": {},
   "outputs": [
    {
     "data": {
      "text/latex": [
       "$$\n",
       "\n",
       "\\begin{bmatrix}\n",
       "\\frac{\\sqrt{2}}{2} & \\frac{\\sqrt{2}}{2}  \\\\\n",
       " \\frac{\\sqrt{2}}{2} & - \\frac{\\sqrt{2}}{2}  \\\\\n",
       " \\end{bmatrix}\n",
       "$$"
      ],
      "text/plain": [
       "<IPython.core.display.Latex object>"
      ]
     },
     "execution_count": 7,
     "metadata": {},
     "output_type": "execute_result"
    }
   ],
   "source": [
    "# Define basic Gate operators with qiskit\n",
    "X = Operator([[0, 1], [1, 0]])\n",
    "Y = Operator([[0, -1.0j], [1.0j, 0]])\n",
    "Z = Operator([[1, 0], [0, -1]])\n",
    "H = Operator([[1 / sqrt(2), 1 / sqrt(2)], [1 / sqrt(2), -1 / sqrt(2)]])\n",
    "S = Operator([[1, 0], [0, 1.0j]])\n",
    "T = Operator([[1, 0], [0, (1 + 1.0j) / sqrt(2)]])\n",
    "\n",
    "H.draw(\"latex\")"
   ]
  },
  {
   "cell_type": "code",
   "execution_count": 8,
   "id": "7c0d7e4d-d793-469b-bd9d-11786fd3e058",
   "metadata": {},
   "outputs": [
    {
     "data": {
      "text/html": [
       "<pre style=\"word-wrap: normal;white-space: pre;background: #fff0;line-height: 1.1;font-family: &quot;Courier New&quot;,Courier,monospace\">   ┌───┐┌───┐┌───┐┌───┐┌───┐\n",
       "q: ┤ H ├┤ T ├┤ H ├┤ T ├┤ Z ├\n",
       "   └───┘└───┘└───┘└───┘└───┘</pre>"
      ],
      "text/plain": [
       "   ┌───┐┌───┐┌───┐┌───┐┌───┐\n",
       "q: ┤ H ├┤ T ├┤ H ├┤ T ├┤ Z ├\n",
       "   └───┘└───┘└───┘└───┘└───┘"
      ]
     },
     "execution_count": 8,
     "metadata": {},
     "output_type": "execute_result"
    }
   ],
   "source": [
    "# Initialize circuit\n",
    "circuit = QuantumCircuit(1)\n",
    "\n",
    "# Add gates to the circuit\n",
    "circuit.h(0)\n",
    "circuit.t(0)\n",
    "circuit.h(0)\n",
    "circuit.t(0)\n",
    "circuit.z(0)\n",
    "\n",
    "circuit.draw()"
   ]
  }
 ],
 "metadata": {
  "kernelspec": {
   "display_name": "Quantum_Computing_venv",
   "language": "python",
   "name": "quantum_computing_venv"
  },
  "language_info": {
   "codemirror_mode": {
    "name": "ipython",
    "version": 3
   },
   "file_extension": ".py",
   "mimetype": "text/x-python",
   "name": "python",
   "nbconvert_exporter": "python",
   "pygments_lexer": "ipython3",
   "version": "3.12.6"
  }
 },
 "nbformat": 4,
 "nbformat_minor": 5
}
