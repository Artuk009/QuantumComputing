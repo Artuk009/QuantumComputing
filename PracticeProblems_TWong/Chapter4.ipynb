{
 "cells": [
  {
   "cell_type": "code",
   "execution_count": 1,
   "id": "2cb3f1d5-f92b-4bae-8799-8fa3fc448519",
   "metadata": {},
   "outputs": [],
   "source": [
    "# Author: Brent Artuch\n",
    "# Date: 2024-10-22\n",
    "\n",
    "import sympy as sp\n",
    "from sympy.physics.quantum import *\n",
    "import numpy as np\n",
    "\n",
    "from qiskit.quantum_info import Operator, Statevector\n",
    "from qiskit import QuantumCircuit, QuantumRegister, ClassicalRegister\n",
    "\n",
    "sp.init_printing()"
   ]
  },
  {
   "cell_type": "markdown",
   "id": "6f8f1e19-bd7c-4d25-9992-952d43b66404",
   "metadata": {},
   "source": [
    "## Tensor Products\n",
    "4.3 - Calculate the following inner products: \n",
    "\\begin{align*}\n",
    "&\\braket{10|11}\\\\\n",
    "&\\braket{+-|11}\\\\\n",
    "&\\braket{1+0|1-0}\\\\\n",
    "\\end{align*}"
   ]
  },
  {
   "cell_type": "markdown",
   "id": "e1e5ed10-73db-4e12-b8f7-32bafe8afc54",
   "metadata": {},
   "source": [
    "Answer:<br>\n",
    "\\begin{align*}\n",
    "\\braket{10|11}&=\\braket{1|0} \\cdot \\braket{1|1}=1\\cdot 0=0\\\\\n",
    "\\braket{+-|11}&=\\braket{+|0} \\cdot \\braket{-|1}=\\frac{1}{\\sqrt{2}} \\cdot -\\frac{1}{\\sqrt{2}}=-\\frac{1}{2}\\\\\n",
    "\\braket{1+0|1-0}&=\\braket{1|1} \\cdot \\braket{+|-} \\cdot \\braket{0|1}=0\\cdot 1 \\cdot 1=0\n",
    "\\end{align*}"
   ]
  },
  {
   "cell_type": "code",
   "execution_count": 2,
   "id": "e274cf33-0552-4e68-8c54-586ab4d9cee6",
   "metadata": {},
   "outputs": [
    {
     "data": {
      "image/png": "[encoded data removed]",
      "text/latex": [
       "$\\displaystyle \\left( 0.0, \\  -0.5, \\  0.0\\right)$"
      ],
      "text/plain": [
       "(0.0, -0.4999999999999999, 0.0)"
      ]
     },
     "execution_count": 2,
     "metadata": {},
     "output_type": "execute_result"
    }
   ],
   "source": [
    "# With Python\n",
    "\n",
    "# Single-Qubit States\n",
    "ket_zero = Statevector([1,0])\n",
    "ket_one = Statevector([0,1])\n",
    "ket_plus = Statevector([1/np.sqrt(2),1/np.sqrt(2)])\n",
    "ket_minus = Statevector([1/np.sqrt(2),-1/np.sqrt(2)])\n",
    "\n",
    "# Product States\n",
    "ket_one_zero = ket_one.tensor(ket_zero)\n",
    "ket_one_one = ket_one.tensor(ket_one)\n",
    "ket_plus_minus = ket_plus.tensor(ket_minus)\n",
    "ket_one_plus_zero = ket_one.tensor(ket_plus).tensor(ket_zero)\n",
    "ket_one_minus_zero = ket_one.tensor(ket_minus).tensor(ket_zero)\n",
    "\n",
    "# Inner Products\n",
    "a = ket_one_zero.inner(ket_one_one).item().real\n",
    "b = ket_plus_minus.inner(ket_one_one).item().real\n",
    "c = ket_one_plus_zero.inner(ket_one_minus_zero).item().real\n",
    "\n",
    "a,b,c"
   ]
  },
  {
   "cell_type": "markdown",
   "id": "2f9683c4-f58a-4f4d-8e10-20754e057b3d",
   "metadata": {},
   "source": [
    "4.4 - Calculate $\\ket{1}\\otimes\\ket{1}\\otimes\\ket{0}$ and draw it as a column vector."
   ]
  },
  {
   "cell_type": "code",
   "execution_count": 3,
   "id": "3f448116-3b4a-4b42-8c08-3bd42a3ec9c8",
   "metadata": {},
   "outputs": [
    {
     "data": {
      "image/png": "[encoded data removed]",
      "text/latex": [
       "$\\displaystyle \\left[\\begin{matrix}0.0\\\\0.0\\\\0.0\\\\0.0\\\\0.0\\\\0.0\\\\1.0\\\\0.0\\end{matrix}\\right]$"
      ],
      "text/plain": [
       "⎡0.0⎤\n",
       "⎢   ⎥\n",
       "⎢0.0⎥\n",
       "⎢   ⎥\n",
       "⎢0.0⎥\n",
       "⎢   ⎥\n",
       "⎢0.0⎥\n",
       "⎢   ⎥\n",
       "⎢0.0⎥\n",
       "⎢   ⎥\n",
       "⎢0.0⎥\n",
       "⎢   ⎥\n",
       "⎢1.0⎥\n",
       "⎢   ⎥\n",
       "⎣0.0⎦"
      ]
     },
     "execution_count": 3,
     "metadata": {},
     "output_type": "execute_result"
    }
   ],
   "source": [
    "answer = ket_one.tensor(ket_one).tensor(ket_zero)\n",
    "\n",
    "elements = []\n",
    "for i in range(len(answer)):\n",
    "    elements.append(answer[i].item().real)\n",
    "\n",
    "vector = sp.Matrix(elements)\n",
    "vector"
   ]
  }
 ],
 "metadata": {
  "kernelspec": {
   "display_name": "Quantum_Computing_venv",
   "language": "python",
   "name": "quantum_computing_venv"
  },
  "language_info": {
   "codemirror_mode": {
    "name": "ipython",
    "version": 3
   },
   "file_extension": ".py",
   "mimetype": "text/x-python",
   "name": "python",
   "nbconvert_exporter": "python",
   "pygments_lexer": "ipython3",
   "version": "3.10.14"
  }
 },
 "nbformat": 4,
 "nbformat_minor": 5
}
