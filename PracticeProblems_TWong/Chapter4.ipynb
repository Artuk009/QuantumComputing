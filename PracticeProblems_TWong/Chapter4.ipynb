{
 "cells": [
  {
   "cell_type": "code",
   "execution_count": 1,
   "id": "2cb3f1d5-f92b-4bae-8799-8fa3fc448519",
   "metadata": {},
   "outputs": [],
   "source": [
    "# Author: Brent Artuch\n",
    "# Date: 2024-10-22\n",
    "\n",
    "import sympy as sp\n",
    "from sympy.physics.quantum import *\n",
    "import numpy as np\n",
    "from IPython.display import *\n",
    "Image(\"Diagrams/circuit_01.png\")\n",
    "\n",
    "from qiskit.quantum_info import Operator, Statevector\n",
    "from qiskit import QuantumCircuit, QuantumRegister, ClassicalRegister\n",
    "\n",
    "sp.init_printing()"
   ]
  },
  {
   "cell_type": "markdown",
   "id": "6f8f1e19-bd7c-4d25-9992-952d43b66404",
   "metadata": {},
   "source": [
    "## Tensor Products\n",
    "4.3 - Calculate the following inner products: \n",
    "\\begin{align*}\n",
    "&\\braket{10|11}\\\\\n",
    "&\\braket{+-|11}\\\\\n",
    "&\\braket{1+0|1-0}\\\\\n",
    "\\end{align*}"
   ]
  },
  {
   "cell_type": "markdown",
   "id": "e1e5ed10-73db-4e12-b8f7-32bafe8afc54",
   "metadata": {},
   "source": [
    "Answer:<br>\n",
    "\\begin{align*}\n",
    "\\braket{10|11}&=\\braket{1|0} \\cdot \\braket{1|1}=1\\cdot 0=0\\\\\n",
    "\\braket{+-|11}&=\\braket{+|0} \\cdot \\braket{-|1}=\\frac{1}{\\sqrt{2}} \\cdot -\\frac{1}{\\sqrt{2}}=-\\frac{1}{2}\\\\\n",
    "\\braket{1+0|1-0}&=\\braket{1|1} \\cdot \\braket{+|-} \\cdot \\braket{0|1}=0\\cdot 1 \\cdot 1=0\n",
    "\\end{align*}"
   ]
  },
  {
   "cell_type": "code",
   "execution_count": 2,
   "id": "e274cf33-0552-4e68-8c54-586ab4d9cee6",
   "metadata": {},
   "outputs": [
    {
     "data": {
      "image/png": "[encoded data removed]",
      "text/latex": [
       "$\\displaystyle \\left( 0.0, \\  -0.5, \\  0.0\\right)$"
      ],
      "text/plain": [
       "(0.0, -0.4999999999999999, 0.0)"
      ]
     },
     "execution_count": 2,
     "metadata": {},
     "output_type": "execute_result"
    }
   ],
   "source": [
    "# With Python\n",
    "\n",
    "# Single-Qubit States\n",
    "ket_zero = Statevector([1,0])\n",
    "ket_one = Statevector([0,1])\n",
    "ket_plus = Statevector([1/np.sqrt(2),1/np.sqrt(2)])\n",
    "ket_minus = Statevector([1/np.sqrt(2),-1/np.sqrt(2)])\n",
    "\n",
    "# Product States\n",
    "ket_one_zero = ket_one.tensor(ket_zero)\n",
    "ket_one_one = ket_one.tensor(ket_one)\n",
    "ket_plus_minus = ket_plus.tensor(ket_minus)\n",
    "ket_one_plus_zero = ket_one.tensor(ket_plus).tensor(ket_zero)\n",
    "ket_one_minus_zero = ket_one.tensor(ket_minus).tensor(ket_zero)\n",
    "\n",
    "# Inner Products\n",
    "a = ket_one_zero.inner(ket_one_one).item().real\n",
    "b = ket_plus_minus.inner(ket_one_one).item().real\n",
    "c = ket_one_plus_zero.inner(ket_one_minus_zero).item().real\n",
    "\n",
    "a,b,c"
   ]
  },
  {
   "cell_type": "markdown",
   "id": "2f9683c4-f58a-4f4d-8e10-20754e057b3d",
   "metadata": {},
   "source": [
    "4.4 - Calculate $\\ket{1}\\otimes\\ket{1}\\otimes\\ket{0}$ and draw it as a column vector."
   ]
  },
  {
   "cell_type": "code",
   "execution_count": 3,
   "id": "3f448116-3b4a-4b42-8c08-3bd42a3ec9c8",
   "metadata": {},
   "outputs": [
    {
     "data": {
      "image/png": "[encoded data removed]",
      "text/latex": [
       "$\\displaystyle \\left[\\begin{matrix}0.0\\\\0.0\\\\0.0\\\\0.0\\\\0.0\\\\0.0\\\\1.0\\\\0.0\\end{matrix}\\right]$"
      ],
      "text/plain": [
       "⎡0.0⎤\n",
       "⎢   ⎥\n",
       "⎢0.0⎥\n",
       "⎢   ⎥\n",
       "⎢0.0⎥\n",
       "⎢   ⎥\n",
       "⎢0.0⎥\n",
       "⎢   ⎥\n",
       "⎢0.0⎥\n",
       "⎢   ⎥\n",
       "⎢0.0⎥\n",
       "⎢   ⎥\n",
       "⎢1.0⎥\n",
       "⎢   ⎥\n",
       "⎣0.0⎦"
      ]
     },
     "execution_count": 3,
     "metadata": {},
     "output_type": "execute_result"
    }
   ],
   "source": [
    "answer = ket_one.tensor(ket_one).tensor(ket_zero)\n",
    "\n",
    "elements = []\n",
    "for i in range(len(answer)):\n",
    "    elements.append(answer[i].item().real)\n",
    "\n",
    "vector = sp.Matrix(elements)\n",
    "vector"
   ]
  },
  {
   "cell_type": "markdown",
   "id": "bcce76c8-22a5-4bc8-bf23-8a4844f5e438",
   "metadata": {},
   "source": [
    "4.5 - Consider the two-qubit state:\n",
    "\\begin{align*}\n",
    "\\ket{\\psi}=\\frac{1}{2}\\ket{00}+\\frac{i}{\\sqrt{2}}\\ket{10}+\\frac{\\sqrt{3}+i}{4}\\ket{11}\n",
    "\\end{align*}\n",
    "Express this state as a column vector and its conjugate row vector."
   ]
  },
  {
   "cell_type": "code",
   "execution_count": 4,
   "id": "c28a468f-d0f9-4c31-b739-c990eb4fdfeb",
   "metadata": {},
   "outputs": [
    {
     "data": {
      "image/png": "[encoded data removed]",
      "text/latex": [
       "$\\displaystyle \\left( \\left[\\begin{matrix}\\frac{1}{2}\\\\0\\\\\\frac{\\sqrt{2} i}{2}\\\\\\frac{\\sqrt{3}}{4} + \\frac{i}{4}\\end{matrix}\\right], \\  \\left[\\begin{matrix}\\frac{1}{2} & 0 & - \\frac{\\sqrt{2} i}{2} & \\frac{\\sqrt{3}}{4} - \\frac{i}{4}\\end{matrix}\\right]\\right)$"
      ],
      "text/plain": [
       "⎛⎡ 1/2  ⎤                          ⎞\n",
       "⎜⎢      ⎥                          ⎟\n",
       "⎜⎢  0   ⎥                          ⎟\n",
       "⎜⎢      ⎥                          ⎟\n",
       "⎜⎢ √2⋅ⅈ ⎥  ⎡        -√2⋅ⅈ   √3   ⅈ⎤⎟\n",
       "⎜⎢ ──── ⎥, ⎢1/2  0  ──────  ── - ─⎥⎟\n",
       "⎜⎢  2   ⎥  ⎣          2     4    4⎦⎟\n",
       "⎜⎢      ⎥                          ⎟\n",
       "⎜⎢√3   ⅈ⎥                          ⎟\n",
       "⎜⎢── + ─⎥                          ⎟\n",
       "⎝⎣4    4⎦                          ⎠"
      ]
     },
     "execution_count": 4,
     "metadata": {},
     "output_type": "execute_result"
    }
   ],
   "source": [
    "ket_psi = Statevector([1/2,0,1.0j/np.sqrt(2),((np.sqrt(3)+1.0j)/4)])\n",
    "\n",
    "elements = []\n",
    "for i in range(len(ket_psi)):\n",
    "    elements.append(sp.nsimplify(ket_psi[i].item()))\n",
    "\n",
    "column_vector = sp.Matrix(elements)\n",
    "\n",
    "row_vector = Dagger(column_vector)\n",
    "\n",
    "column_vector, row_vector"
   ]
  },
  {
   "cell_type": "markdown",
   "id": "26d4503e-2b3f-47f2-b59a-12712ce5e77b",
   "metadata": {},
   "source": [
    "## Measuring Individual Qubits\n",
    "4.7 - Two qubits are in the state:\n",
    "\\begin{align*}\n",
    "\\ket{\\psi}=\\frac{i}{\\sqrt{10}}\\ket{00}+\\frac{1-2i}{\\sqrt{10}}\\ket{01}+\\frac{e^{i\\pi/100}}{\\sqrt{10}}\\ket{10}+\\frac{\\sqrt{3}}{\\sqrt{10}}\\ket{11}\n",
    "\\end{align*}"
   ]
  },
  {
   "cell_type": "code",
   "execution_count": 5,
   "id": "faa2f517-93f0-4e14-92b0-d80bbe22cb5f",
   "metadata": {},
   "outputs": [
    {
     "data": {
      "image/png": "[encoded data removed]",
      "text/latex": [
       "$\\displaystyle \\left( \\frac{1}{10}, \\  \\frac{1}{2}, \\  \\frac{1}{10}, \\  \\frac{3}{10}\\right)$"
      ],
      "text/plain": [
       "(1/10, 1/2, 1/10, 3/10)"
      ]
     },
     "execution_count": 5,
     "metadata": {},
     "output_type": "execute_result"
    }
   ],
   "source": [
    "# Amplitudes\n",
    "amplitude_00 = 1.0j/np.sqrt(10)\n",
    "amplitude_01 = (1-2.0j)/np.sqrt(10)\n",
    "amplitude_10 = (np.exp(1.0j*np.pi/100))/np.sqrt(10)\n",
    "amplitude_11 = np.sqrt(3)/np.sqrt(10)\n",
    "\n",
    "# Probabilities\n",
    "prob_00 = sp.nsimplify(amplitude_00*sp.conjugate(amplitude_00))\n",
    "prob_01 = sp.nsimplify(amplitude_01*sp.conjugate(amplitude_01))\n",
    "prob_10 = sp.nsimplify(amplitude_10*sp.conjugate(amplitude_10))\n",
    "prob_11 = sp.nsimplify(amplitude_11*sp.conjugate(amplitude_11))\n",
    "\n",
    "prob_00,prob_01,prob_10,prob_11"
   ]
  },
  {
   "cell_type": "markdown",
   "id": "f8788042-ab37-4f0c-9a30-dd89a5bb19d9",
   "metadata": {},
   "source": [
    "4.8 - Normalize the following quantum state:\n",
    "\\begin{align*}\n",
    "A\\left(\\frac{1}{2}\\ket{00}+i\\ket{01}+\\sqrt{2}\\ket{10}-\\ket{11}\\right)\n",
    "\\end{align*}"
   ]
  },
  {
   "cell_type": "markdown",
   "id": "0ec59010-d504-4403-9b6a-e1968d96db18",
   "metadata": {},
   "source": [
    "Answer: To normalize this state we need to solve for $A$ such that the amplitudes of the state have a total probability of $1$. \n",
    "\\begin{align*}\n",
    "1&=\\left|\\frac{1}{2}A\\right|^2+|iA|^2+|\\sqrt{2}A|^2+|-1A|^2\\\\\n",
    "&=\\frac{1}{4}|A|^2+|A|^2+2|A|^2+|A|^2\\\\\n",
    "&=\\frac{1}{4}|A|^2+\\frac{4}{4}|A|^2+\\frac{8}{4}|A|^2+\\frac{4}{4}|A|^2\\\\\n",
    "&=\\frac{17}{4}|A|^2\\\\\n",
    "|A|^2&=\\frac{4}{17}\\\\\n",
    "A&=\\frac{2}{\\sqrt{17}}\n",
    "\\end{align*}"
   ]
  },
  {
   "cell_type": "markdown",
   "id": "09920ec1-d14e-4168-afab-921ba2059cc0",
   "metadata": {},
   "source": [
    "## Sequential Single-Qubit Measurements\n",
    "4.9 - Consider the two-qubit state:\n",
    "\\begin{align*}\n",
    "\\frac{1}{4}\\ket{00}+\\frac{1}{2}\\ket{01}+\\frac{1}{\\sqrt{2}}\\ket{10}+\\frac{\\sqrt{3}}{4}\\ket{11}\n",
    "\\end{align*}\n",
    "If you measure only the left qubit, what are the resulting states with what probabilities?<br>\n",
    "Answer:\n",
    "\\begin{align*}\n",
    "Pr(\\text{ Left is }\\ket{0})=\\left|\\frac{1}{4}\\right|^2+\\left|\\frac{1}{2}\\right|^2=\\frac{1}{16}+\\frac{1}{4}=\\frac{5}{16}\n",
    "\\end{align*}\n",
    "And the state collapses to:\n",
    "\\begin{align*}\n",
    "\\frac{1/4\\ket{00}+1/2\\ket{01}}{\\sqrt{5/16}}=\\frac{\\sqrt{16}/4\\ket{00}+\\sqrt{16}/2\\ket{01}}{\\sqrt{5}}=\\frac{1}{\\sqrt{5}}\\ket{00}+\\frac{2}{\\sqrt{5}}\\ket{01}\n",
    "\\end{align*}"
   ]
  },
  {
   "cell_type": "markdown",
   "id": "7e6179b8-f1c9-4ae2-aad8-9399636c9e11",
   "metadata": {},
   "source": [
    "\\begin{align*}\n",
    "Pr(\\text{ Left is }\\ket{1})=\\left|\\frac{1}{\\sqrt{2}}\\right|^2+\\left|\\frac{\\sqrt{3}}{4}\\right|^2=\\frac{1}{2}+\\frac{3}{16}=\\frac{11}{16}\n",
    "\\end{align*}\n",
    "And the state collapses to:\n",
    "\\begin{align*}\n",
    "\\frac{1/\\sqrt{2}\\ket{10}+\\sqrt{3}/4\\ket{11}}{\\sqrt{11/16}}=\\frac{4/\\sqrt{2}\\ket{10}+4\\sqrt{3}/4\\ket{11}}{\\sqrt{11}}=\\frac{2\\sqrt{2}}{\\sqrt{11}}\\ket{10}+\\sqrt{\\frac{3}{11}}\\ket{11}\n",
    "\\end{align*}"
   ]
  },
  {
   "cell_type": "code",
   "execution_count": 6,
   "id": "72ee6742-3441-4c5f-9042-050bc9bf87ea",
   "metadata": {},
   "outputs": [
    {
     "data": {
      "text/latex": [
       "$$\\frac{1}{4} |00\\rangle+\\frac{1}{2} |01\\rangle+\\frac{\\sqrt{2}}{2} |10\\rangle+\\frac{\\sqrt{3}}{4} |11\\rangle$$"
      ],
      "text/plain": [
       "<IPython.core.display.Latex object>"
      ]
     },
     "metadata": {},
     "output_type": "display_data"
    },
    {
     "name": "stdout",
     "output_type": "stream",
     "text": [
      "The probability of the left qubit measuring 0:  5/16\n",
      "The probability of the left qubit measuring 1:  11/16\n",
      "\n",
      "Left qubit result:  1\n"
     ]
    },
    {
     "data": {
      "text/latex": [
       "$$\\frac{2 \\sqrt{22}}{11} |10\\rangle+\\frac{\\sqrt{33}}{11} |11\\rangle$$"
      ],
      "text/plain": [
       "<IPython.core.display.Latex object>"
      ]
     },
     "metadata": {},
     "output_type": "display_data"
    }
   ],
   "source": [
    "# With Qiskit\n",
    "psi = Statevector([1/4,1/2,1/np.sqrt(2),np.sqrt(3)/4])\n",
    "display(psi.draw(\"latex\"))\n",
    "outcome, state = psi.measure([1])\n",
    "\n",
    "prob_0 = psi[0]**2+psi[1]**2\n",
    "prob_1 = psi[2]**2+psi[3]**2\n",
    "\n",
    "print(\"The probability of the left qubit measuring 0: \", sp.nsimplify(prob_0.item().real))\n",
    "print(\"The probability of the left qubit measuring 1: \", sp.nsimplify(prob_1.item().real))\n",
    "print(\"\")\n",
    "print(\"Left qubit result: \",outcome.item())\n",
    "display(state.draw(\"latex\"))"
   ]
  },
  {
   "cell_type": "markdown",
   "id": "057d88dd-1c0e-4d3d-a719-7b5605c8ad0e",
   "metadata": {},
   "source": [
    "4.10 - Consider the three qubit state:\n",
    "\\begin{align*}\n",
    "\\frac{1}{6}\\ket{000}+\\frac{1}{3\\sqrt{2}}\\ket{001}+\\frac{1}{\\sqrt{6}}\\ket{010}+\\frac{1}{2}\\ket{011}+\\frac{1}{6}\\ket{100}+\\frac{1}{3}\\ket{101}+\\frac{1}{6}\\ket{110}+\\frac{1}{\\sqrt{3}}\\ket{111}\n",
    "\\end{align*}\n",
    "If you measure the right and the left but not the middle, what states do you get with what probabilities?<br>\n",
    "Answer:"
   ]
  },
  {
   "cell_type": "code",
   "execution_count": 7,
   "id": "a9fb76c5-96b8-48a8-a8f9-ed658b01186b",
   "metadata": {},
   "outputs": [
    {
     "data": {
      "text/latex": [
       "$$\\frac{1}{6} |000\\rangle+\\frac{\\sqrt{2}}{6} |001\\rangle+\\frac{\\sqrt{6}}{6} |010\\rangle+\\frac{1}{2} |011\\rangle+\\frac{1}{6} |100\\rangle+\\frac{1}{3} |101\\rangle+\\frac{1}{6} |110\\rangle+\\frac{\\sqrt{3}}{3} |111\\rangle$$"
      ],
      "text/plain": [
       "<IPython.core.display.Latex object>"
      ]
     },
     "metadata": {},
     "output_type": "display_data"
    },
    {
     "name": "stdout",
     "output_type": "stream",
     "text": [
      "The probability of the left qubit measuring 00:  1/12\n",
      "The probability of the left qubit measuring 01:  5/12\n",
      "The probability of the left qubit measuring 10:  5/36\n",
      "The probability of the left qubit measuring 11:  13/36\n",
      "\n",
      "Left qubit result:  11\n"
     ]
    },
    {
     "data": {
      "text/latex": [
       "$$\\frac{1}{2} |101\\rangle+\\frac{\\sqrt{3}}{2} |111\\rangle$$"
      ],
      "text/plain": [
       "<IPython.core.display.Latex object>"
      ]
     },
     "metadata": {},
     "output_type": "display_data"
    }
   ],
   "source": [
    "# With Qiskit\n",
    "\n",
    "# This is slightly different because qiskit autmatically rationalizes the denominator of the amplitudes and the\n",
    "# author did not which leads to different probability results, so the third element of the state vector has \n",
    "# been adjusted st the probabilities will sum to 0. \n",
    "\n",
    "psi = Statevector([1/6,np.sqrt(2)/6,1/np.sqrt(6),1/2,1/6,1/3,1/6,1/np.sqrt(3)])\n",
    "display(psi.draw(\"latex\"))\n",
    "outcome, state = psi.measure([0,2])\n",
    "\n",
    "prob_00 = psi[0]**2+psi[1]**2\n",
    "prob_01 = psi[2]**2+psi[3]**2\n",
    "prob_10 = psi[4]**2+psi[5]**2\n",
    "prob_11 = psi[6]**2+psi[7]**2\n",
    "\n",
    "print(\"The probability of the left qubit measuring 00: \", sp.nsimplify(prob_00.item().real))\n",
    "print(\"The probability of the left qubit measuring 01: \", sp.nsimplify(prob_01.item().real))\n",
    "print(\"The probability of the left qubit measuring 10: \", sp.nsimplify(prob_10.item().real))\n",
    "print(\"The probability of the left qubit measuring 11: \", sp.nsimplify(prob_11.item().real))\n",
    "print(\"\")\n",
    "print(\"Left qubit result: \",outcome.item())\n",
    "display(state.draw(\"latex\"))"
   ]
  },
  {
   "cell_type": "markdown",
   "id": "af85953d-d3e5-4526-9c3b-2e8dee2ca59c",
   "metadata": {},
   "source": [
    "4.11 - Product state or entangled state?<br>\n",
    "a)\n",
    "\\begin{align*}\n",
    "\\frac{1}{\\sqrt{2}}(\\ket{01}+\\ket{10})\n",
    "\\end{align*}\n",
    "Answer - First, we must list the cooresponding amplitudes:\n",
    "\\begin{align*}\n",
    "\\alpha_1\\alpha_0=0\\ , \\ \\alpha_1\\beta_0=\\frac{1}{\\sqrt{2}}\\ , \\ \\alpha_0\\beta_1=\\frac{1}{\\sqrt{2}}\\ , \\ \\beta_1\\beta_0=0\n",
    "\\end{align*}"
   ]
  },
  {
   "cell_type": "markdown",
   "id": "c531fd3e-7cd9-4ee2-a16d-9c75f49d925d",
   "metadata": {},
   "source": [
    "For the state to be seperable into a product state, the amplitudes must satisfy the condition:\n",
    "\\begin{align*}\n",
    "&(\\alpha_1\\alpha_0)(\\beta_1\\beta_0)=(\\alpha_1\\beta_0)( \\alpha_0\\beta_1)\\\\\n",
    "& \\text{ * By the associative property of multiplication.}\\\\\n",
    "&(\\alpha_1\\alpha_0)(\\beta_1\\beta_0)-(\\alpha_1\\beta_0)( \\alpha_0\\beta_1)=0\n",
    "\\end{align*}"
   ]
  },
  {
   "cell_type": "markdown",
   "id": "0f02d037-785c-49eb-a219-47ee8a6c84bc",
   "metadata": {},
   "source": [
    "Using this:\n",
    "\\begin{align*}\n",
    "(0)(0)-\\left(\\frac{1}{\\sqrt{2}}\\right)\\left(\\frac{1}{\\sqrt{2}}\\right)=-\\frac{1}{2}\\not = 0\n",
    "\\end{align*}"
   ]
  },
  {
   "cell_type": "markdown",
   "id": "113f6719-8201-4356-8390-0fcb71677353",
   "metadata": {},
   "source": [
    "Therefore, this is an entangled state."
   ]
  },
  {
   "cell_type": "markdown",
   "id": "cd17efa0-6205-4470-8eaa-4a8ee23976be",
   "metadata": {},
   "source": [
    "b)\n",
    "\\begin{align*}\n",
    "\\frac{1}{\\sqrt{2}}(\\ket{10}+i\\ket{11})\n",
    "\\end{align*}"
   ]
  },
  {
   "cell_type": "markdown",
   "id": "4b064801-3e8a-479d-94dd-a1322fd97b9e",
   "metadata": {},
   "source": [
    "\\begin{align*}\n",
    "\\alpha_1\\alpha_0=0\\ , \\ \\alpha_1\\beta_0=0\\ , \\ \\alpha_0\\beta_1=\\frac{1}{\\sqrt{2}}\\ , \\ \\beta_1\\beta_0=\\frac{i}{\\sqrt{2}}\n",
    "\\end{align*}"
   ]
  },
  {
   "cell_type": "markdown",
   "id": "a5383d41-22e1-4b1b-8dc5-29aabb765f58",
   "metadata": {},
   "source": [
    "Now we can plug the values into the seperation condition:\n",
    "\\begin{align*}\n",
    "(0)\\left(\\frac{i}{\\sqrt{2}}\\right)-(0)\\left(\\frac{1}{\\sqrt{2}}\\right)=0\n",
    "\\end{align*}"
   ]
  },
  {
   "cell_type": "markdown",
   "id": "e5dda457-3036-41af-9dc6-d018c2b69139",
   "metadata": {},
   "source": [
    "So, this is a product state and, by general observation, it appears to be the product of the $1$ state and $i$ state. Let's verify:\n",
    "\\begin{align*}\n",
    "\\ket{1}\\ket{i}&=\\ket{1}\\otimes \\frac{1}{\\sqrt{2}}(\\ket{0}+i\\ket{1})\\\\\n",
    "&=\\frac{1}{\\sqrt{2}}(\\ket{1}\\ket{0}+i\\ket{1}\\ket{1})\\\\\n",
    "&=\\frac{1}{\\sqrt{2}}(\\ket{10}+i\\ket{11})\n",
    "\\end{align*}"
   ]
  },
  {
   "cell_type": "markdown",
   "id": "f2dfcaf1-1f30-4af4-9b30-1985495f5a11",
   "metadata": {},
   "source": [
    "4.12 - Product State or Entagled State?<br>\n",
    "a)\n",
    "\\begin{align*}\n",
    "\\frac{1}{4}(3\\ket{00}-\\sqrt{3}\\ket{01}+\\sqrt{3}\\ket{10}-\\ket{11})\n",
    "\\end{align*}"
   ]
  },
  {
   "cell_type": "markdown",
   "id": "76984308-b1c5-4a77-a059-b6f899183ebd",
   "metadata": {},
   "source": [
    "\\begin{align*}\n",
    "\\alpha_1\\alpha_0=\\frac{3}{4}\\ , \\ \\alpha_1\\beta_0=-\\frac{\\sqrt{3}}{4}\\ , \\ \\alpha_0\\beta_1=\\frac{\\sqrt{3}}{4}\\ , \\ \\beta_1\\beta_0=-\\frac{1}{4}\n",
    "\\end{align*}"
   ]
  },
  {
   "cell_type": "markdown",
   "id": "4b0f6998-c981-42fc-bcf3-2bf3c9f1e5ca",
   "metadata": {},
   "source": [
    "Now we can plug the values into the seperation condition:\n",
    "\\begin{align*}\n",
    "\\left(\\frac{3}{4}\\right)\\left(-\\frac{1}{4}\\right)-\\left(-\\frac{\\sqrt{3}}{4}\\right)\\left(\\frac{\\sqrt{3}}{4}\\right)=-\\frac{3}{16}+\\frac{3}{16}=0\n",
    "\\end{align*}"
   ]
  },
  {
   "cell_type": "markdown",
   "id": "c205b713-6fbd-45cb-825b-3f1bef3da852",
   "metadata": {},
   "source": [
    "Now that we know that this is a product state, let's factor it. First, we will solve for the individual $\\alpha$ and $\\beta$ variables:\n",
    "\\begin{align*}\n",
    "\\alpha_1&=\\frac{3}{4\\alpha_0}\\\\\\\\\n",
    "\\beta_0&=-\\frac{\\sqrt{3}}{4}\\frac{4\\alpha_0}{3}=-\\frac{\\alpha_0 \\sqrt{3}}{3}\\\\\\\\\n",
    "\\beta_1&=\\frac{\\sqrt{3}}{4\\alpha_0}\n",
    "\\end{align*}"
   ]
  },
  {
   "cell_type": "markdown",
   "id": "dee8ff23-ef33-48f0-aea8-407e0b589bb4",
   "metadata": {},
   "source": [
    "Now we can use the fourth equation to verify our solutions:\n",
    "\\begin{align*}\n",
    "\\beta_1\\beta_0=\\left(\\frac{\\sqrt{3}}{4\\alpha_0}\\right)\\left(-\\frac{\\alpha_0\\sqrt{3}}{3}\\right)=-\\frac{3}{12}=-\\frac{1}{4}\n",
    "\\end{align*}"
   ]
  },
  {
   "cell_type": "markdown",
   "id": "ff351d07-7192-46a1-a8d8-52639f5a6f7b",
   "metadata": {},
   "source": [
    "Next, we plug the solved variables into the product state equation:\n",
    "\\begin{align*}\n",
    "\\ket{\\psi_1}\\ket{\\psi_0}&=(\\alpha_1\\ket{0}+\\beta_1\\ket{1})(\\alpha_0\\ket{0}+\\beta_0\\ket{1})\\\\\n",
    "&=\\left(\\frac{3}{4\\alpha_0}\\ket{0}+\\frac{\\sqrt{3}}{4\\alpha_0}\\ket{1}\\right)\\left(\\alpha_0\\ket{0}-\\frac{\\alpha_0 \\sqrt{3}}{3}\\ket{1}\\right)\\\\\n",
    "&=\\frac{1}{\\alpha_0}\\left(\\frac{3}{4}\\ket{0}+\\frac{\\sqrt{3}}{4}\\ket{1}\\right)\\alpha_0\\left(\\ket{0}-\\frac{ \\sqrt{3}}{3}\\ket{1}\\right)\\\\\n",
    "&=\\left(\\frac{3}{4}\\ket{0}+\\frac{\\sqrt{3}}{4}\\ket{1}\\right)\\left(\\ket{0}-\\frac{ \\sqrt{3}}{3}\\ket{1}\\right)\\\\\n",
    "\\end{align*}"
   ]
  },
  {
   "cell_type": "markdown",
   "id": "987c5805-0fcc-4d92-8e28-8c23a15512a9",
   "metadata": {},
   "source": [
    "Another reasanable answer by 'guess-and-check' factoring would be:\n",
    "\\begin{align*}\n",
    "\\left(\\frac{\\sqrt{3}}{2}\\ket{0}+\\frac{1}{2}\\ket{1}\\right)\\left(\\frac{\\sqrt{3}}{2}\\ket{0}-\\frac{1}{2}\\ket{1}\\right)\n",
    "\\end{align*}"
   ]
  },
  {
   "cell_type": "markdown",
   "id": "43aa6ea5-e86b-4be8-a015-d367d55d6117",
   "metadata": {},
   "source": [
    "b)\n",
    "\\begin{align*}\n",
    "\\frac{1}{\\sqrt{3}}\\ket{0}\\ket{+}+\\sqrt{\\frac{2}{3}}\\ket{1}\\ket{-}\n",
    "\\end{align*}"
   ]
  },
  {
   "cell_type": "markdown",
   "id": "4dc2a4b7-823d-403b-834f-c91090198d37",
   "metadata": {},
   "source": [
    "First, we need to write $\\ket{+}$ and $\\ket{-}$ in terms of the $\\{\\ket{0},\\ket{1}\\}$ basis: \n",
    "\\begin{align*}\n",
    "\\frac{1}{\\sqrt{3}}\\ket{0}\\otimes\\frac{1}{\\sqrt{2}}(\\ket{0}+\\ket{1})+\\sqrt{\\frac{2}{3}}\\ket{1}\\otimes\\frac{1}{\\sqrt{2}}(\\ket{0}-\\ket{1})\n",
    "\\end{align*}"
   ]
  },
  {
   "cell_type": "markdown",
   "id": "eb7f53f2-5b46-44c1-92d9-ff90a29ccf63",
   "metadata": {},
   "source": [
    "Next, distribute:\n",
    "\\begin{align*}\n",
    "&\\frac{1}{\\sqrt{3}}\\ket{0}\\otimes\\left(\\frac{1}{\\sqrt{2}}\\ket{0}+\\frac{1}{\\sqrt{2}}\\ket{1}\\right)+\\sqrt{\\frac{2}{3}}\\ket{1}\\otimes\\left(\\frac{1}{\\sqrt{2}}\\ket{0}-\\frac{1}{\\sqrt{2}}\\ket{1}\\right)\\\\\n",
    "&=\\frac{1}{\\sqrt{2}\\sqrt{3}}\\ket{00}+\\frac{1}{\\sqrt{2}\\sqrt{3}}\\ket{01}+\\frac{1}{\\sqrt{3}}\\ket{10}-\\frac{1}{\\sqrt{3}}\\ket{11}\\\\\n",
    "\\end{align*}"
   ]
  },
  {
   "cell_type": "markdown",
   "id": "83d2a17c-abd1-46dc-8dd7-96feb72d49d9",
   "metadata": {},
   "source": [
    "\\begin{align*}\n",
    "\\alpha_1\\alpha_0=\\frac{1}{\\sqrt{2}\\sqrt{3}}\\ , \\ \\alpha_1\\beta_0=\\frac{1}{\\sqrt{2}\\sqrt{3}}\\ , \\ \\alpha_0\\beta_1=\\frac{1}{\\sqrt{3}}\\ , \\ \\beta_1\\beta_0=-\\frac{1}{\\sqrt{3}}\n",
    "\\end{align*}"
   ]
  },
  {
   "cell_type": "markdown",
   "id": "f47a7d61-208a-4243-a1fa-84874fbe4b86",
   "metadata": {},
   "source": [
    "Now we can plug the values into the seperation condition:\n",
    "\\begin{align*}\n",
    "\\left(\\frac{1}{\\sqrt{2}\\sqrt{3}}\\right)\\left(-\\frac{1}{\\sqrt{3}}\\right)-\\left(\\frac{1}{\\sqrt{2}\\sqrt{3}}\\right)\\left(\\frac{1}{\\sqrt{3}}\\right)=-\\frac{1}{3\\sqrt{2}}-\\frac{1}{3\\sqrt{2}}\\not=0\n",
    "\\end{align*}\n",
    "Therefore, this is an entangled state."
   ]
  },
  {
   "cell_type": "markdown",
   "id": "069d3238-fd71-428b-9f58-35df1b510965",
   "metadata": {},
   "source": [
    "4.13 - For each of the bell states, show that appling the $X$ gate to either qubit flips the state symbol of the bell state in question up to a global phase. (i.e. $\\ket{\\Phi^+}\\rightarrow\\ket{\\Psi^+}$ or $\\ket{\\Phi^-}\\rightarrow -\\ket{\\Psi^-}$).<br>\n",
    "Answer:"
   ]
  },
  {
   "cell_type": "code",
   "execution_count": 8,
   "id": "924b7802-a466-4ddf-84e0-fb1b8269dc41",
   "metadata": {},
   "outputs": [
    {
     "data": {
      "text/latex": [
       "$$\\frac{\\sqrt{2}}{2} |00\\rangle+\\frac{\\sqrt{2}}{2} |11\\rangle$$"
      ],
      "text/plain": [
       "<IPython.core.display.Latex object>"
      ]
     },
     "metadata": {},
     "output_type": "display_data"
    },
    {
     "data": {
      "text/latex": [
       "$$\\frac{\\sqrt{2}}{2} |00\\rangle- \\frac{\\sqrt{2}}{2} |11\\rangle$$"
      ],
      "text/plain": [
       "<IPython.core.display.Latex object>"
      ]
     },
     "metadata": {},
     "output_type": "display_data"
    },
    {
     "data": {
      "text/latex": [
       "$$\\frac{\\sqrt{2}}{2} |01\\rangle+\\frac{\\sqrt{2}}{2} |10\\rangle$$"
      ],
      "text/plain": [
       "<IPython.core.display.Latex object>"
      ]
     },
     "metadata": {},
     "output_type": "display_data"
    },
    {
     "data": {
      "text/latex": [
       "$$\\frac{\\sqrt{2}}{2} |01\\rangle- \\frac{\\sqrt{2}}{2} |10\\rangle$$"
      ],
      "text/plain": [
       "<IPython.core.display.Latex object>"
      ]
     },
     "metadata": {},
     "output_type": "display_data"
    }
   ],
   "source": [
    "# With Qiskit\n",
    "ket_zero = Statevector([1, 0]) \n",
    "ket_one = Statevector([0, 1]) \n",
    "\n",
    "# Define H and CNOT gates\n",
    "H = Operator([[1 / np.sqrt(2), 1 / np.sqrt(2)], [1 / np.sqrt(2), -1 / np.sqrt(2)]])\n",
    "CX = Operator([\n",
    " [1, 0, 0, 0],\n",
    " [0, 1, 0, 0],\n",
    " [0, 0, 0, 1],\n",
    " [0, 0, 1, 0]])\n",
    "\n",
    "# Plus and minus states\n",
    "ket_plus = ket_zero.evolve(H)\n",
    "ket_minus = ket_one.evolve(H)\n",
    "\n",
    "# Evaluate tensor products\n",
    "ket_plus_zero = ket_plus.tensor(ket_zero)\n",
    "ket_minus_zero = ket_minus.tensor(ket_zero)\n",
    "ket_plus_one = ket_plus.tensor(ket_one)\n",
    "ket_minus_one = ket_minus.tensor(ket_one)\n",
    "\n",
    "# Apply the CNOT gate\n",
    "phi_plus = ket_plus_zero.evolve(CX)\n",
    "phi_minus = ket_minus_zero.evolve(CX)\n",
    "psi_plus = ket_plus_one.evolve(CX)\n",
    "psi_minus = ket_minus_one.evolve(CX)\n",
    "\n",
    "bell_states = [phi_plus,phi_minus,psi_plus,psi_minus]\n",
    "\n",
    "for state in bell_states:\n",
    "    display(state.draw(\"latex\"))"
   ]
  },
  {
   "cell_type": "code",
   "execution_count": 9,
   "id": "27b31b29-1247-44a1-b8ca-724bfa3a3995",
   "metadata": {},
   "outputs": [
    {
     "data": {
      "text/latex": [
       "$$\\frac{\\sqrt{2}}{2} |01\\rangle+\\frac{\\sqrt{2}}{2} |10\\rangle$$"
      ],
      "text/plain": [
       "<IPython.core.display.Latex object>"
      ]
     },
     "metadata": {},
     "output_type": "display_data"
    },
    {
     "data": {
      "text/latex": [
       "$$- \\frac{\\sqrt{2}}{2} |01\\rangle+\\frac{\\sqrt{2}}{2} |10\\rangle$$"
      ],
      "text/plain": [
       "<IPython.core.display.Latex object>"
      ]
     },
     "metadata": {},
     "output_type": "display_data"
    },
    {
     "data": {
      "text/latex": [
       "$$\\frac{\\sqrt{2}}{2} |00\\rangle+\\frac{\\sqrt{2}}{2} |11\\rangle$$"
      ],
      "text/plain": [
       "<IPython.core.display.Latex object>"
      ]
     },
     "metadata": {},
     "output_type": "display_data"
    },
    {
     "data": {
      "text/latex": [
       "$$- \\frac{\\sqrt{2}}{2} |00\\rangle+\\frac{\\sqrt{2}}{2} |11\\rangle$$"
      ],
      "text/plain": [
       "<IPython.core.display.Latex object>"
      ]
     },
     "metadata": {},
     "output_type": "display_data"
    },
    {
     "data": {
      "text/latex": [
       "$$\\frac{\\sqrt{2}}{2} |01\\rangle+\\frac{\\sqrt{2}}{2} |10\\rangle$$"
      ],
      "text/plain": [
       "<IPython.core.display.Latex object>"
      ]
     },
     "metadata": {},
     "output_type": "display_data"
    },
    {
     "data": {
      "text/latex": [
       "$$\\frac{\\sqrt{2}}{2} |01\\rangle- \\frac{\\sqrt{2}}{2} |10\\rangle$$"
      ],
      "text/plain": [
       "<IPython.core.display.Latex object>"
      ]
     },
     "metadata": {},
     "output_type": "display_data"
    },
    {
     "data": {
      "text/latex": [
       "$$\\frac{\\sqrt{2}}{2} |00\\rangle+\\frac{\\sqrt{2}}{2} |11\\rangle$$"
      ],
      "text/plain": [
       "<IPython.core.display.Latex object>"
      ]
     },
     "metadata": {},
     "output_type": "display_data"
    },
    {
     "data": {
      "text/latex": [
       "$$\\frac{\\sqrt{2}}{2} |00\\rangle- \\frac{\\sqrt{2}}{2} |11\\rangle$$"
      ],
      "text/plain": [
       "<IPython.core.display.Latex object>"
      ]
     },
     "metadata": {},
     "output_type": "display_data"
    }
   ],
   "source": [
    "I = Operator([\n",
    "    [1,0],\n",
    "    [0,1]\n",
    "])\n",
    "X = Operator([\n",
    "    [0,1],\n",
    "    [1,0]\n",
    "])\n",
    "\n",
    "XI = X.tensor(I)\n",
    "IX = I.tensor(X)\n",
    "\n",
    "# Transform each bell state with XI operation\n",
    "for state in bell_states:\n",
    "    evolved_state = state.evolve(XI)\n",
    "    display(evolved_state.draw(\"latex\"))\n",
    "\n",
    "# Transform each bell state with IX operation\n",
    "for state in bell_states:\n",
    "    evolved_state = state.evolve(IX)\n",
    "    display(evolved_state.draw(\"latex\"))"
   ]
  },
  {
   "cell_type": "markdown",
   "id": "6a91687f-9e5d-4fd3-9754-e47f8138eb64",
   "metadata": {},
   "source": [
    "Note: For two of these results we observe that the signs are incorrect. However, if we apply a global phase of $-1$, this will be corrected. That's why we can say that applying the $X$ operation flips the symbol for all bell states up to a global phase."
   ]
  },
  {
   "cell_type": "markdown",
   "id": "b282d53f-137e-4105-a952-f0124624110e",
   "metadata": {},
   "source": [
    "4.14 - Consider the quantum state:\n",
    "\\begin{align*}\n",
    "\\ket{\\psi}=\\frac{1}{4}\\ket{00}+\\frac{1}{2}\\ket{01}+\\frac{1}{\\sqrt{2}}\\ket{10}+\\frac{\\sqrt{3}}{4}\\ket{11}\n",
    "\\end{align*}\n",
    "What is $(H\\otimes X)\\ket{\\psi}$?<br>\n",
    "Answer:"
   ]
  },
  {
   "cell_type": "code",
   "execution_count": 10,
   "id": "b8af2205-f711-447b-a261-839534788a1e",
   "metadata": {},
   "outputs": [
    {
     "data": {
      "text/latex": [
       "$$0.6597396084 |00\\rangle+0.6767766953 |01\\rangle+0.0473671727 |10\\rangle-0.3232233047 |11\\rangle$$"
      ],
      "text/plain": [
       "<IPython.core.display.Latex object>"
      ]
     },
     "execution_count": 10,
     "metadata": {},
     "output_type": "execute_result"
    }
   ],
   "source": [
    "# With Qiskit\n",
    "HX = H.tensor(X)\n",
    "psi = Statevector([1/4,1/2,1/np.sqrt(2),np.sqrt(3)/4])\n",
    "\n",
    "psi.evolve(HX).draw(\"latex\")"
   ]
  },
  {
   "cell_type": "code",
   "execution_count": 11,
   "id": "1687edd3-3c87-4315-b6ad-affc1ab05a3d",
   "metadata": {},
   "outputs": [
    {
     "data": {
      "image/png": "[encoded data removed]",
      "text/latex": [
       "$\\displaystyle \\left( \\left[\\begin{matrix}0 & \\frac{\\sqrt{2}}{2} & 0 & \\frac{\\sqrt{2}}{2}\\\\\\frac{\\sqrt{2}}{2} & 0 & \\frac{\\sqrt{2}}{2} & 0\\\\0 & \\frac{\\sqrt{2}}{2} & 0 & - \\frac{\\sqrt{2}}{2}\\\\\\frac{\\sqrt{2}}{2} & 0 & - \\frac{\\sqrt{2}}{2} & 0\\end{matrix}\\right], \\  \\left[\\begin{matrix}\\frac{\\sqrt{6}}{8} + 0.25 \\sqrt{2}\\\\0.125 \\sqrt{2} + \\frac{1}{2}\\\\- \\frac{\\sqrt{6}}{8} + 0.25 \\sqrt{2}\\\\- \\frac{1}{2} + 0.125 \\sqrt{2}\\end{matrix}\\right], \\  \\left[\\begin{matrix}0.659739608441171\\\\0.676776695296637\\\\0.0473671727453765\\\\-0.323223304703363\\end{matrix}\\right]\\right)$"
      ],
      "text/plain": [
       "⎛⎡    √2         √2 ⎤                                         ⎞\n",
       "⎜⎢0   ──   0     ── ⎥                                         ⎟\n",
       "⎜⎢    2          2  ⎥  ⎡ √6            ⎤                      ⎟\n",
       "⎜⎢                  ⎥  ⎢ ── + 0.25⋅√2  ⎥                      ⎟\n",
       "⎜⎢√2       √2       ⎥  ⎢ 8             ⎥  ⎡0.659739608441171 ⎤⎟\n",
       "⎜⎢──  0    ──    0  ⎥  ⎢               ⎥  ⎢                  ⎥⎟\n",
       "⎜⎢2        2        ⎥  ⎢0.125⋅√2 + 1/2 ⎥  ⎢0.676776695296637 ⎥⎟\n",
       "⎜⎢                  ⎥, ⎢               ⎥, ⎢                  ⎥⎟\n",
       "⎜⎢    √2        -√2 ⎥  ⎢  √6           ⎥  ⎢0.0473671727453765⎥⎟\n",
       "⎜⎢0   ──   0    ────⎥  ⎢- ── + 0.25⋅√2 ⎥  ⎢                  ⎥⎟\n",
       "⎜⎢    2          2  ⎥  ⎢  8            ⎥  ⎣-0.323223304703363⎦⎟\n",
       "⎜⎢                  ⎥  ⎢               ⎥                      ⎟\n",
       "⎜⎢√2      -√2       ⎥  ⎣-1/2 + 0.125⋅√2⎦                      ⎟\n",
       "⎜⎢──  0   ────   0  ⎥                                         ⎟\n",
       "⎝⎣2        2        ⎦                                         ⎠"
      ]
     },
     "execution_count": 11,
     "metadata": {},
     "output_type": "execute_result"
    }
   ],
   "source": [
    "# Confirm with sympy\n",
    "H = sp.Matrix([\n",
    "    [1 / sp.sqrt(2), 1 / sp.sqrt(2)],\n",
    "    [1 / sp.sqrt(2), -1 / sp.sqrt(2)]\n",
    "])\n",
    "\n",
    "X = sp.Matrix([\n",
    "    [0,1],\n",
    "    [1,0]\n",
    "])\n",
    "\n",
    "HX = TensorProduct(H,X)\n",
    "\n",
    "psi = sp.Matrix([1/4,1/2,1/sp.sqrt(2),sp.sqrt(3)/4])\n",
    "\n",
    "result = HX*psi\n",
    "\n",
    "HX, result, result.evalf() "
   ]
  },
  {
   "cell_type": "markdown",
   "id": "0ff36f1c-2bc4-4f4a-abe0-82cd0999f581",
   "metadata": {},
   "source": [
    "4.15 - Prove the following circuit identities:<br>\n",
    "a)\n",
    "\\begin{align*}\n",
    "CNOT(X\\otimes I)=(X\\otimes X)CNOT\n",
    "\\end{align*}"
   ]
  },
  {
   "cell_type": "code",
   "execution_count": 12,
   "id": "df99337d-24e7-40c6-9034-57b48cf19b8e",
   "metadata": {},
   "outputs": [],
   "source": [
    "# Define Gates\n",
    "CNOT = sp.Matrix([\n",
    "    [1,0,0,0],\n",
    "    [0,1,0,0],\n",
    "    [0,0,0,1],\n",
    "    [0,0,1,0]\n",
    "])\n",
    "\n",
    "X = sp.Matrix([\n",
    "    [0,1],\n",
    "    [1,0]\n",
    "])\n",
    "\n",
    "I = sp.Matrix([\n",
    "    [1,0],\n",
    "    [0,1]\n",
    "])\n",
    "\n",
    "Z = sp.Matrix([\n",
    "    [1,0],\n",
    "    [0,-1]\n",
    "])"
   ]
  },
  {
   "cell_type": "code",
   "execution_count": 13,
   "id": "b08f95e2-7c67-4a32-9174-efff01ffc8fc",
   "metadata": {},
   "outputs": [
    {
     "data": {
      "image/png": "[encoded data removed]",
      "text/latex": [
       "$\\displaystyle \\left( \\left[\\begin{matrix}0 & 0 & 1 & 0\\\\0 & 0 & 0 & 1\\\\0 & 1 & 0 & 0\\\\1 & 0 & 0 & 0\\end{matrix}\\right], \\  \\left[\\begin{matrix}0 & 0 & 1 & 0\\\\0 & 0 & 0 & 1\\\\0 & 1 & 0 & 0\\\\1 & 0 & 0 & 0\\end{matrix}\\right]\\right)$"
      ],
      "text/plain": [
       "⎛⎡0  0  1  0⎤  ⎡0  0  1  0⎤⎞\n",
       "⎜⎢          ⎥  ⎢          ⎥⎟\n",
       "⎜⎢0  0  0  1⎥  ⎢0  0  0  1⎥⎟\n",
       "⎜⎢          ⎥, ⎢          ⎥⎟\n",
       "⎜⎢0  1  0  0⎥  ⎢0  1  0  0⎥⎟\n",
       "⎜⎢          ⎥  ⎢          ⎥⎟\n",
       "⎝⎣1  0  0  0⎦  ⎣1  0  0  0⎦⎠"
      ]
     },
     "execution_count": 13,
     "metadata": {},
     "output_type": "execute_result"
    }
   ],
   "source": [
    "XI = TensorProduct(X,I)\n",
    "XX = TensorProduct(X,X)\n",
    "CNOT*XI, XX*CNOT"
   ]
  },
  {
   "cell_type": "markdown",
   "id": "b4aca786-629a-4474-a48c-41f7fe44cf3c",
   "metadata": {},
   "source": [
    "b)\n",
    "\\begin{align*}\n",
    "CNOT(I\\otimes X)=(I\\otimes X)CNOT\n",
    "\\end{align*}"
   ]
  },
  {
   "cell_type": "code",
   "execution_count": 14,
   "id": "84924bc3-8a5e-41ff-be57-f9ed349d7a39",
   "metadata": {},
   "outputs": [
    {
     "data": {
      "image/png": "[encoded data removed]",
      "text/latex": [
       "$\\displaystyle \\left( \\left[\\begin{matrix}0 & 1 & 0 & 0\\\\1 & 0 & 0 & 0\\\\0 & 0 & 1 & 0\\\\0 & 0 & 0 & 1\\end{matrix}\\right], \\  \\left[\\begin{matrix}0 & 1 & 0 & 0\\\\1 & 0 & 0 & 0\\\\0 & 0 & 1 & 0\\\\0 & 0 & 0 & 1\\end{matrix}\\right]\\right)$"
      ],
      "text/plain": [
       "⎛⎡0  1  0  0⎤  ⎡0  1  0  0⎤⎞\n",
       "⎜⎢          ⎥  ⎢          ⎥⎟\n",
       "⎜⎢1  0  0  0⎥  ⎢1  0  0  0⎥⎟\n",
       "⎜⎢          ⎥, ⎢          ⎥⎟\n",
       "⎜⎢0  0  1  0⎥  ⎢0  0  1  0⎥⎟\n",
       "⎜⎢          ⎥  ⎢          ⎥⎟\n",
       "⎝⎣0  0  0  1⎦  ⎣0  0  0  1⎦⎠"
      ]
     },
     "execution_count": 14,
     "metadata": {},
     "output_type": "execute_result"
    }
   ],
   "source": [
    "IX = TensorProduct(I,X)\n",
    "CNOT*IX, IX*CNOT"
   ]
  },
  {
   "cell_type": "markdown",
   "id": "3d219554-d26a-4c0d-ae02-2db4db4aae4f",
   "metadata": {},
   "source": [
    "c) \n",
    "\\begin{align*}\n",
    "CNOT(Z\\otimes I)=(Z\\otimes I)CNOT\n",
    "\\end{align*}"
   ]
  },
  {
   "cell_type": "code",
   "execution_count": 15,
   "id": "b06c164b-2108-4694-b9d3-7a12f664bb3c",
   "metadata": {},
   "outputs": [
    {
     "data": {
      "image/png": "[encoded data removed]",
      "text/latex": [
       "$\\displaystyle \\left( \\left[\\begin{matrix}1 & 0 & 0 & 0\\\\0 & 1 & 0 & 0\\\\0 & 0 & 0 & -1\\\\0 & 0 & -1 & 0\\end{matrix}\\right], \\  \\left[\\begin{matrix}1 & 0 & 0 & 0\\\\0 & 1 & 0 & 0\\\\0 & 0 & 0 & -1\\\\0 & 0 & -1 & 0\\end{matrix}\\right]\\right)$"
      ],
      "text/plain": [
       "⎛⎡1  0  0   0 ⎤  ⎡1  0  0   0 ⎤⎞\n",
       "⎜⎢            ⎥  ⎢            ⎥⎟\n",
       "⎜⎢0  1  0   0 ⎥  ⎢0  1  0   0 ⎥⎟\n",
       "⎜⎢            ⎥, ⎢            ⎥⎟\n",
       "⎜⎢0  0  0   -1⎥  ⎢0  0  0   -1⎥⎟\n",
       "⎜⎢            ⎥  ⎢            ⎥⎟\n",
       "⎝⎣0  0  -1  0 ⎦  ⎣0  0  -1  0 ⎦⎠"
      ]
     },
     "execution_count": 15,
     "metadata": {},
     "output_type": "execute_result"
    }
   ],
   "source": [
    "ZI = TensorProduct(Z,I)\n",
    "CNOT*ZI, ZI*CNOT"
   ]
  },
  {
   "cell_type": "markdown",
   "id": "c4df66b7-880f-4148-884b-039e0239bbb3",
   "metadata": {},
   "source": [
    "d)\n",
    "\\begin{align*}\n",
    "CNOT(I\\otimes Z)=(Z\\otimes Z)CNOT\n",
    "\\end{align*}"
   ]
  },
  {
   "cell_type": "code",
   "execution_count": 16,
   "id": "e351cda3-6004-42e3-9e2d-ff68f608e587",
   "metadata": {},
   "outputs": [
    {
     "data": {
      "image/png": "[encoded data removed]",
      "text/latex": [
       "$\\displaystyle \\left( \\left[\\begin{matrix}1 & 0 & 0 & 0\\\\0 & -1 & 0 & 0\\\\0 & 0 & 0 & -1\\\\0 & 0 & 1 & 0\\end{matrix}\\right], \\  \\left[\\begin{matrix}1 & 0 & 0 & 0\\\\0 & -1 & 0 & 0\\\\0 & 0 & 0 & -1\\\\0 & 0 & 1 & 0\\end{matrix}\\right]\\right)$"
      ],
      "text/plain": [
       "⎛⎡1  0   0  0 ⎤  ⎡1  0   0  0 ⎤⎞\n",
       "⎜⎢            ⎥  ⎢            ⎥⎟\n",
       "⎜⎢0  -1  0  0 ⎥  ⎢0  -1  0  0 ⎥⎟\n",
       "⎜⎢            ⎥, ⎢            ⎥⎟\n",
       "⎜⎢0  0   0  -1⎥  ⎢0  0   0  -1⎥⎟\n",
       "⎜⎢            ⎥  ⎢            ⎥⎟\n",
       "⎝⎣0  0   1  0 ⎦  ⎣0  0   1  0 ⎦⎠"
      ]
     },
     "execution_count": 16,
     "metadata": {},
     "output_type": "execute_result"
    }
   ],
   "source": [
    "IZ = TensorProduct(I,Z)\n",
    "ZZ = TensorProduct(Z,Z)\n",
    "CNOT*IZ, ZZ*CNOT"
   ]
  },
  {
   "cell_type": "markdown",
   "id": "d90f5851-5926-4b5c-ba56-ddac8642377e",
   "metadata": {},
   "source": [
    "4.17 - Show the matrix of the anit-controlled not gate:\n",
    "\\begin{align*}\n",
    "(X\\otimes I)CNOT(X\\otimes I)\n",
    "\\end{align*}"
   ]
  },
  {
   "cell_type": "code",
   "execution_count": 17,
   "id": "7375a903-cf00-432a-a270-bdebfcbf7d11",
   "metadata": {},
   "outputs": [
    {
     "data": {
      "image/png": "[encoded data removed]",
      "text/latex": [
       "$\\displaystyle \\left[\\begin{matrix}0 & 1 & 0 & 0\\\\1 & 0 & 0 & 0\\\\0 & 0 & 1 & 0\\\\0 & 0 & 0 & 1\\end{matrix}\\right]$"
      ],
      "text/plain": [
       "⎡0  1  0  0⎤\n",
       "⎢          ⎥\n",
       "⎢1  0  0  0⎥\n",
       "⎢          ⎥\n",
       "⎢0  0  1  0⎥\n",
       "⎢          ⎥\n",
       "⎣0  0  0  1⎦"
      ]
     },
     "execution_count": 17,
     "metadata": {},
     "output_type": "execute_result"
    }
   ],
   "source": [
    "XI*CNOT*XI"
   ]
  },
  {
   "cell_type": "markdown",
   "id": "9f1e4bc4-a69e-4fb4-9143-2914fa90451a",
   "metadata": {},
   "source": [
    "4.18 - Prove that:\n",
    "\\begin{align*}\n",
    "CNOT\\ket{+}\\ket{+}=\\ket{+}\\ket{+}\\\\\n",
    "CNOT\\ket{+}\\ket{-}=\\ket{-}\\ket{-}\\\\\n",
    "CNOT\\ket{-}\\ket{+}=\\ket{-}\\ket{+}\\\\\n",
    "CNOT\\ket{-}\\ket{-}=\\ket{+}\\ket{-}\\\\\n",
    "\\end{align*}"
   ]
  },
  {
   "cell_type": "markdown",
   "id": "c6761b48-42e9-4a74-8671-0dcb456951e0",
   "metadata": {},
   "source": [
    "From previous sections, recall that using the Hadamard operation on both sides of a $CNOT$ or $CNOT_{01}$ for both qubits reverses the target and control bits. So:\n",
    "\\begin{align*}\n",
    "CNOT=(H\\otimes H)CNOT_{01}(H\\otimes H)\n",
    "\\end{align*}"
   ]
  },
  {
   "cell_type": "markdown",
   "id": "67d61143-5a49-4de2-8cc5-006d349a342a",
   "metadata": {},
   "source": [
    "a)\n",
    "\\begin{align*}\n",
    "CNOT\\ket{+}\\ket{+}&=(H\\otimes H)CNOT_{01}(H\\otimes H)\\ket{+}\\ket{+}\\\\\n",
    "&=(H\\otimes H)CNOT_{01}\\ket{0}\\ket{0}\\\\\n",
    "&=(H\\otimes H)\\ket{0}\\ket{0}\\\\\n",
    "&=\\ket{+}\\ket{+}\\\\\n",
    "\\end{align*}"
   ]
  },
  {
   "cell_type": "markdown",
   "id": "51268de1-a431-4c73-b65d-c530a106f6db",
   "metadata": {},
   "source": [
    "b)\n",
    "\\begin{align*}\n",
    "CNOT\\ket{+}\\ket{-}&=(H\\otimes H)CNOT_{01}(H\\otimes H)\\ket{+}\\ket{-}\\\\\n",
    "&=(H\\otimes H)CNOT_{01}\\ket{0}\\ket{1}\\\\\n",
    "&=(H\\otimes H)\\ket{1}\\ket{1}\\\\\n",
    "&=\\ket{-}\\ket{-}\\\\\n",
    "\\end{align*}"
   ]
  },
  {
   "cell_type": "markdown",
   "id": "e952da09-ea0c-4ff1-b4a5-8279ea8eb67c",
   "metadata": {},
   "source": [
    "c)\n",
    "\\begin{align*}\n",
    "CNOT\\ket{-}\\ket{+}&=(H\\otimes H)CNOT_{01}(H\\otimes H)\\ket{-}\\ket{+}\\\\\n",
    "&=(H\\otimes H)CNOT_{01}\\ket{1}\\ket{0}\\\\\n",
    "&=(H\\otimes H)\\ket{1}\\ket{0}\\\\\n",
    "&=\\ket{-}\\ket{+}\\\\\n",
    "\\end{align*}"
   ]
  },
  {
   "cell_type": "markdown",
   "id": "ab44c8f3-0add-4532-b5cd-b42738d06ad1",
   "metadata": {},
   "source": [
    "d)\n",
    "\\begin{align*}\n",
    "CNOT\\ket{-}\\ket{-}&=(H\\otimes H)CNOT_{01}(H\\otimes H)\\ket{-}\\ket{-}\\\\\n",
    "&=(H\\otimes H)CNOT_{01}\\ket{1}\\ket{1}\\\\\n",
    "&=(H\\otimes H)\\ket{0}\\ket{1}\\\\\n",
    "&=\\ket{+}\\ket{-}\\\\\n",
    "\\end{align*}"
   ]
  },
  {
   "cell_type": "markdown",
   "id": "1862339a-8230-47ac-9c14-f3e3a7cfba12",
   "metadata": {},
   "source": [
    "4.19 - Prove that the Bell basis $\\Sigma =\\{\\Phi^+,\\Phi^-,\\Psi^+,\\Psi^-\\}$satisfies the completeness relation:\n",
    "\\begin{align*}\n",
    "\\sum_{i\\in\\Sigma}\\ket{i}\\bra{i}=I\n",
    "\\end{align*}"
   ]
  },
  {
   "cell_type": "code",
   "execution_count": 18,
   "id": "925a2fb3-25bb-4b58-b651-6ed16080b3d7",
   "metadata": {},
   "outputs": [
    {
     "data": {
      "image/png": "[encoded data removed]",
      "text/latex": [
       "$\\displaystyle \\left[\\begin{matrix}1 & 0 & 0 & 0\\\\0 & 1 & 0 & 0\\\\0 & 0 & 1 & 0\\\\0 & 0 & 0 & 1\\end{matrix}\\right]$"
      ],
      "text/plain": [
       "⎡1  0  0  0⎤\n",
       "⎢          ⎥\n",
       "⎢0  1  0  0⎥\n",
       "⎢          ⎥\n",
       "⎢0  0  1  0⎥\n",
       "⎢          ⎥\n",
       "⎣0  0  0  1⎦"
      ]
     },
     "execution_count": 18,
     "metadata": {},
     "output_type": "execute_result"
    }
   ],
   "source": [
    "phi_plus = (1/sp.sqrt(2)) * sp.Matrix([1,0,0,1])\n",
    "phi_minus = (1/sp.sqrt(2)) * sp.Matrix([1,0,0,-1])\n",
    "psi_plus = (1/sp.sqrt(2)) * sp.Matrix([0,1,1,0])\n",
    "psi_minus = (1/sp.sqrt(2)) * sp.Matrix([0,1,-1,0])\n",
    "\n",
    "bell_states = [phi_plus,phi_minus,psi_plus,psi_minus]\n",
    "\n",
    "result = 0\n",
    "for state in bell_states:\n",
    "    result += np.outer(state,state)\n",
    "\n",
    "sp.simplify(result)"
   ]
  },
  {
   "cell_type": "markdown",
   "id": "495bda34-bed8-4815-8b2c-84fa26ffb83e",
   "metadata": {},
   "source": [
    "4.20 - Write the controlled $Z$ gate as a matrix:<br>\n",
    "Answer - Just like the $CX_{10}$ gate, we simply take the $2\\times 2$ $Z$ gate and place it in the bottom-right quandrant of a $4\\times 4$ identity matrix:\n",
    "\\begin{align*}\n",
    "CZ=\n",
    "\\begin{pmatrix}\n",
    "1 & 0 & 0 & 0\\\\\n",
    "0 & 1 & 0 & 0\\\\\n",
    "0 & 0 & 1 & 0\\\\\n",
    "0 & 0 & 0 & -1\\\\\n",
    "\\end{pmatrix}\n",
    "\\end{align*}"
   ]
  },
  {
   "cell_type": "markdown",
   "id": "85d52169-7952-49c5-bf30-4d7358760afc",
   "metadata": {},
   "source": [
    "4.35 - Given the state:\n",
    "\\begin{align*}\n",
    "\\ket{\\psi00}=(\\alpha\\ket{0}+\\beta\\ket{1})\\ket{00}=\\alpha\\ket{000}+\\beta\\ket{100}\n",
    "\\end{align*}\n",
    "Show that the result of the following circuit diagram is:\n",
    "\\begin{align*}\n",
    "\\alpha\\ket{000}+\\beta\\ket{111}\n",
    "\\end{align*}\n",
    "<div align=\"center\"><img src=\"Diagrams/circuit_01.png\" alt=\"Description\" width=\"200\" height=\"200\"></div><br>"
   ]
  },
  {
   "cell_type": "markdown",
   "id": "5c20b283-e1ed-4830-b810-56fa8e1cdb47",
   "metadata": {},
   "source": [
    "Answer - We need to execute the $CNOT$ gates sequentially:\n",
    "\\begin{align*}\n",
    "CNOT_{21}(\\alpha\\ket{000}+\\beta\\ket{100})&=\\alpha\\ket{000}+\\beta\\ket{110}\\\\\\\\\n",
    "CNOT_{20}(\\alpha\\ket{000}+\\beta\\ket{110})&=\\alpha\\ket{000}+\\beta\\ket{111}_\\square\n",
    "\\end{align*}"
   ]
  }
 ],
 "metadata": {
  "kernelspec": {
   "display_name": "Quantum_Computing_venv",
   "language": "python",
   "name": "quantum_computing_venv"
  },
  "language_info": {
   "codemirror_mode": {
    "name": "ipython",
    "version": 3
   },
   "file_extension": ".py",
   "mimetype": "text/x-python",
   "name": "python",
   "nbconvert_exporter": "python",
   "pygments_lexer": "ipython3",
   "version": "3.10.14"
  }
 },
 "nbformat": 4,
 "nbformat_minor": 5
}
