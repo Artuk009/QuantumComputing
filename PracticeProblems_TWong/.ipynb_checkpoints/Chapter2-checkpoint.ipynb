{
 "cells": [
  {
   "cell_type": "code",
   "execution_count": 1,
   "id": "51159486-7437-4bae-b337-ef839a690c25",
   "metadata": {},
   "outputs": [],
   "source": [
    "# Author: Brent Artuch\n",
    "# Date: 2024-09-27\n",
    "\n",
    "import numpy as np\n",
    "import sympy as sp\n",
    "from IPython.display import *\n",
    "\n",
    "sp.init_printing()"
   ]
  },
  {
   "cell_type": "markdown",
   "id": "2fb979ee-a314-47b9-a0c1-83d185771429",
   "metadata": {},
   "source": [
    "## Measurement\n",
    "2.7 - Say you measure the qubit and get $\\ket{0}$. If you measure the qubit a second time, what is the probability of getting $\\ket{0}$ and $\\ket{1}$?<br>\n",
    "Answer: The probability of measuring $\\ket{0}$ is equal to 1 because measurement caused the state to collapse to the 0 state. Therefore, the probability of measureing $\\ket{1}$ is now 0."
   ]
  },
  {
   "cell_type": "markdown",
   "id": "e39318d3-cbd8-4214-9513-9f65ff71bd06",
   "metadata": {},
   "source": [
    "2.8 A Qubit is in the state $$\\frac{e^{i\\pi/8}}{\\sqrt{5}}\\ket{0}+\\beta\\ket{1}$$ What is the value of $\\beta$?<br>\n",
    "Answer: We need to solve for $\\beta$ ST $\\beta$ = $\\sqrt{1 - |\\frac{e^{i\\pi/8}}{\\sqrt{5}}|^2}$"
   ]
  },
  {
   "cell_type": "code",
   "execution_count": 2,
   "id": "87f02dc8-b0cb-4a28-b513-c1ba19469c72",
   "metadata": {},
   "outputs": [
    {
     "data": {
      "image/png": "[encoded data removed]",
      "text/latex": [
       "$\\displaystyle 0.89$"
      ],
      "text/plain": [
       "0.89"
      ]
     },
     "execution_count": 2,
     "metadata": {},
     "output_type": "execute_result"
    }
   ],
   "source": [
    "# solve for norm sqaured alpha\n",
    "alpha_squared = 1/5\n",
    "beta = round(sp.sqrt(1 - alpha_squared), 2)\n",
    "beta # 2/sqrt(5)"
   ]
  },
  {
   "cell_type": "markdown",
   "id": "bb510342-c936-4bc8-97f3-1a3df048a9e7",
   "metadata": {},
   "source": [
    "2.9 - A qubit is in the state: $$A(2e^{i\\pi/6}\\ket{0}-3\\ket{1})$$\n",
    "a) Normalize the state b) find the probability of measuring $\\ket{0}$ and $\\ket{1}$<br>\n",
    "Answer: to normalize this state, we need to solve for $A$ ST the amplitudes of the state have a total probability equal to 1:\n",
    "\\begin{align*}\n",
    "1&=|2e^{i\\pi/6}A|^2+|-3A|^2c\\\\\n",
    "1&=4|A|^2+9|A^2|\\\\\n",
    "1&=13|A|^2\\\\\n",
    "|A|^2 & = \\frac{1}{13}\\\\\n",
    "A&= \\frac{1}{\\sqrt{13}}\n",
    "\\end{align*}"
   ]
  },
  {
   "cell_type": "code",
   "execution_count": 3,
   "id": "da3f0235-82f7-4f03-a86b-2aeef1c454ed",
   "metadata": {},
   "outputs": [
    {
     "data": {
      "image/png": "[encoded data removed]",
      "text/latex": [
       "$\\displaystyle \\left( \\frac{4}{13}, \\  \\frac{9}{13}\\right)$"
      ],
      "text/plain": [
       "(4/13, 9/13)"
      ]
     },
     "execution_count": 3,
     "metadata": {},
     "output_type": "execute_result"
    }
   ],
   "source": [
    "# Now we can find the probabilities\n",
    "alpha = 1/sp.sqrt(13) * 2\n",
    "beta = 1/sp.sqrt(13) * -3\n",
    "prob_ket_0 = alpha * sp.conjugate(alpha)\n",
    "prob_ket_1 = beta * sp.conjugate(beta)\n",
    "(prob_ket_0, prob_ket_1)"
   ]
  },
  {
   "cell_type": "markdown",
   "id": "088e6139-3baa-4279-a676-3ae981ac2d44",
   "metadata": {},
   "source": [
    "## Measurement in Other Bases\n",
    "2.10 - A qubit is in the state:\n",
    "$$\n",
    "\\frac{1}{2}\\ket{0}-\\frac{\\sqrt{3}}{2}\\ket{1}\n",
    "$$\n",
    "a) If you measure in the Z-basis $\\{\\ket{0}, \\ket{1}\\}$, what states can you get with what probabilities?<br>\n",
    "Answer: We get $\\ket{0}$ with probability $\\frac{1}{4}$ and $\\ket{1}$ with probability $\\frac{3}{4}$<br>\n",
    "<br>\n",
    "b) Write the qubit states in terms of $\\ket{+}$ and $\\ket{-}$.<br>\n",
    "Answer: \n",
    "\\begin{align*}\n",
    "\\frac{1}{2}\\ket{0}-\\frac{\\sqrt{3}}{2}\\ket{1} &= \\frac{1}{2}\\frac{1}{\\sqrt{2}}(\\ket{+}+\\ket{-})-\\frac{\\sqrt{3}}{2}\\frac{1}{\\sqrt{2}}(\\ket{+}-\\ket{-}) \\\\\n",
    "&= \\frac{1}{2\\sqrt{2}}(\\ket{+}+\\ket{-})-\\frac{\\sqrt{3}}{2\\sqrt{2}}(\\ket{+}-\\ket{-}) \\\\\n",
    "&= \\frac{1}{2\\sqrt{2}}\\ket{+}+\\frac{1}{2\\sqrt{2}}\\ket{-}-\\frac{\\sqrt{3}}{2\\sqrt{2}}\\ket{+}+\\frac{\\sqrt{3}}{2\\sqrt{2}}\\ket{-} \\\\\n",
    "&= \\frac{1-\\sqrt{3}}{2\\sqrt{2}}\\ket{+}+\\frac{1+\\sqrt{3}}{2\\sqrt{2}}\\ket{-}\n",
    "\\end{align*}"
   ]
  },
  {
   "cell_type": "code",
   "execution_count": 4,
   "id": "30bff002-4fe0-4e0e-b5f0-de0740f5ccd7",
   "metadata": {},
   "outputs": [
    {
     "data": {
      "image/png": "[encoded data removed]",
      "text/latex": [
       "$\\displaystyle \\left( 0.07, \\  0.93\\right)$"
      ],
      "text/plain": [
       "(0.07, 0.93)"
      ]
     },
     "execution_count": 4,
     "metadata": {},
     "output_type": "execute_result"
    }
   ],
   "source": [
    "# Probabilities\n",
    "alpha = (1-np.sqrt(3)) / (2*np.sqrt(2))\n",
    "beta = (1+np.sqrt(3)) / (2*np.sqrt(2))\n",
    "prob_ket_plus = round(alpha * np.conjugate(alpha), 2)\n",
    "prob_ket_minus = round(beta * np.conjugate(beta), 2)\n",
    "(prob_ket_plus, prob_ket_minus)"
   ]
  },
  {
   "cell_type": "markdown",
   "id": "52e1b004-e25f-410e-8b01-c6f9158f1926",
   "metadata": {},
   "source": [
    "c) If you measure in the basis $\\{\\ket{+}, \\ket{-}\\}$, what states can you get with what probabilities?<br>\n",
    "Answer: We get $\\ket{+}$ with probability $0.07$ and $\\ket{-}$ with probability $0.93$"
   ]
  },
  {
   "cell_type": "markdown",
   "id": "951d99f4-df49-4c6c-a878-099662fd4d39",
   "metadata": {},
   "source": [
    "2.11 - The following two states are opposite points on the Bloch sphere:\n",
    "\\begin{align*}\n",
    "\\ket{a} &= \\frac{\\sqrt{3}}{2}\\ket{0}+\\frac{i}{2}\\ket{1}\\\\\n",
    "\\ket{b} &= \\frac{i}{2}\\ket{0}+\\frac{\\sqrt{3}}{2}\\ket{1}\n",
    "\\end{align*}\n",
    "Now consider a qubit state:<br>\n",
    "$$\n",
    "\\frac{1}{2}\\ket{0}-\\frac{\\sqrt{3}}{2}\\ket{1}\n",
    "$$\n",
    "a) Write the qubit's state in terms pf $\\ket{a}$ and $\\ket{b}$.<br>\n",
    "Answer: First express $\\ket{0}$ and $\\ket{1}$ in terms of $\\ket{a}$ and $\\ket{b}$:<br>\n",
    "$$\n",
    "\\ket{0}=\\frac{\\sqrt{3}}{2}\\ket{a}-\\frac{i}{2}\\ket{b}, \\ \\ \\ \\ \\  \\ket{1}=-\\frac{i}{2}\\ket{a}+\\frac{\\sqrt{3}}{2}\\ket{b}\n",
    "$$\n",
    "Then plug the new values for $\\ket{0}$ and $\\ket{1}$ into the state equation:<br>\n",
    "\\begin{align*}\n",
    "\\frac{1}{2}\\ket{0}-\\frac{\\sqrt{3}}{2}\\ket{1}&=\\frac{1}{2}(\\frac{\\sqrt{3}}{2}\\ket{a}-\\frac{i}{2}\\ket{b})-\\frac{\\sqrt{3}}{2}(-\\frac{i}{2}\\ket{a}+\\frac{\\sqrt{3}}{2}\\ket{b})\\\\\n",
    "&= \\frac{\\sqrt{3}}{4}\\ket{a}-\\frac{i}{4}\\ket{b}+\\frac{i\\sqrt{3}}{4}\\ket{a}-\\frac{3}{4}\\ket{b}\\\\\n",
    "&= \\frac{\\sqrt{3}(1+i)}{4}\\ket{a}-\\frac{i-3}{4}\\ket{b}\n",
    "\\end{align*}"
   ]
  },
  {
   "cell_type": "code",
   "execution_count": 5,
   "id": "a1406dc1-67d6-4d40-9b76-7680d033298c",
   "metadata": {},
   "outputs": [
    {
     "data": {
      "image/png": "[encoded data removed]",
      "text/latex": [
       "$\\displaystyle \\left( 0.38, \\  0.62\\right)$"
      ],
      "text/plain": [
       "(0.38, 0.62)"
      ]
     },
     "execution_count": 5,
     "metadata": {},
     "output_type": "execute_result"
    }
   ],
   "source": [
    "alpha = (sp.sqrt(3)*(1+sp.I))/4\n",
    "beta = -((sp.I-3)/4)\n",
    "prob_ket_a = round(alpha * sp.conjugate(alpha), 2)\n",
    "prob_ket_b = round(beta * sp.conjugate(beta), 2)\n",
    "(prob_ket_a, prob_ket_b)"
   ]
  },
  {
   "cell_type": "markdown",
   "id": "6cf7c7ad-3dfd-48df-9d22-12710950b4aa",
   "metadata": {},
   "source": [
    "b) If you measure in the basis $\\{\\ket{a}, \\ket{b}\\}$, what states can you get with what probabilities?<br>\n",
    "Answer: We get $\\ket{a}$ with probability $0.38$ and $\\ket{b}$ with probability $0.62$"
   ]
  }
 ],
 "metadata": {
  "kernelspec": {
   "display_name": "Quantum_Computing_venv",
   "language": "python",
   "name": "quantum_computing_venv"
  },
  "language_info": {
   "codemirror_mode": {
    "name": "ipython",
    "version": 3
   },
   "file_extension": ".py",
   "mimetype": "text/x-python",
   "name": "python",
   "nbconvert_exporter": "python",
   "pygments_lexer": "ipython3",
   "version": "3.12.6"
  }
 },
 "nbformat": 4,
 "nbformat_minor": 5
}
