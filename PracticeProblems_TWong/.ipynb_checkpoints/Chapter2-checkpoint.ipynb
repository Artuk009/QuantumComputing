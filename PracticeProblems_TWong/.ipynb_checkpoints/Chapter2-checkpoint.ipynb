{
 "cells": [
  {
   "cell_type": "markdown",
   "id": "2fb979ee-a314-47b9-a0c1-83d185771429",
   "metadata": {},
   "source": [
    "## Measurement\n",
    "2.7 - Say you measure the qubit and get $\\ket{0}$. If you measure the qubit a second time, what is the probability of getting $\\ket{0}$ and $\\ket{1}$?<br>\n",
    "Answer: The probability of measuring $\\ket{0}$ is equal to 1 because measurement caused the state to collapse to the 0 state. Therefore, the probability of measureing $\\ket{1}$ is now 0."
   ]
  },
  {
   "cell_type": "markdown",
   "id": "e39318d3-cbd8-4214-9513-9f65ff71bd06",
   "metadata": {},
   "source": [
    "2.8 A Qubit is in the state $$\\frac{e^{i\\pi/8}}{\\sqrt{5}}\\ket{0}+\\beta\\ket{1}$$ What is the value of $\\beta$?<br>"
   ]
  },
  {
   "cell_type": "code",
   "execution_count": null,
   "id": "87f02dc8-b0cb-4a28-b513-c1ba19469c72",
   "metadata": {},
   "outputs": [],
   "source": []
  }
 ],
 "metadata": {
  "kernelspec": {
   "display_name": "Quantum_Computing_venv",
   "language": "python",
   "name": "quantum_computing_venv"
  },
  "language_info": {
   "codemirror_mode": {
    "name": "ipython",
    "version": 3
   },
   "file_extension": ".py",
   "mimetype": "text/x-python",
   "name": "python",
   "nbconvert_exporter": "python",
   "pygments_lexer": "ipython3",
   "version": "3.12.6"
  }
 },
 "nbformat": 4,
 "nbformat_minor": 5
}
