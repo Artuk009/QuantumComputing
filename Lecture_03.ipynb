{
 "cells": [
  {
   "cell_type": "code",
   "execution_count": 1,
   "id": "383d79aa-8b79-40ed-bd22-70595786c0e3",
   "metadata": {},
   "outputs": [],
   "source": [
    "# Author: Brent Artuch\n",
    "# Date: 2024-10-07\n",
    "\n",
    "import sympy as sp\n",
    "import numpy as np\n",
    "\n",
    "# Qiskit libraries\n",
    "from qiskit.quantum_info import Operator, Statevector\n",
    "from qiskit import QuantumCircuit, QuantumRegister, ClassicalRegister\n",
    "\n",
    "sp.init_printing()"
   ]
  },
  {
   "cell_type": "markdown",
   "id": "24218c39-c684-495a-9303-022caa884f1a",
   "metadata": {},
   "source": [
    "## Bell States\n",
    "The collection of all four Bell states is known as the Bell basis; all four of the Bell states represent entanglement between two qubits.\n",
    "\\begin{align*}\n",
    "\\ket{\\beta_{00}}=\\ket{\\Phi^+}=\\frac{1}{\\sqrt{2}}(\\ket{00}+\\ket{11})=CNOT(H)\\ket{0}\\ket{0}\\\\\n",
    "\\ket{\\beta_{10}}=\\ket{\\Phi^-}=\\frac{1}{\\sqrt{2}}(\\ket{00}-\\ket{11})=CNOT(H)\\ket{1}\\ket{0}\\\\\n",
    "\\ket{\\beta_{01}}=\\ket{\\Psi^+}=\\frac{1}{\\sqrt{2}}(\\ket{01}+\\ket{10})=CNOT(H)\\ket{0}\\ket{1}\\\\\n",
    "\\ket{\\beta_{11}}=\\ket{\\Psi^-}=\\frac{1}{\\sqrt{2}}(\\ket{01}-\\ket{10})=CNOT(H)\\ket{1}\\ket{1}\\\\\n",
    "\\end{align*}\n",
    "These states can also be derived from the formula:<br>\n",
    "\\begin{align*}\n",
    "\\ket{\\beta_{x,y}}=\\frac{1}{\\sqrt{2}}\\left(\\ket{0,y}+(-1)^x\\ket{1,\\neg y}\\right)\n",
    "\\end{align*}"
   ]
  },
  {
   "cell_type": "code",
   "execution_count": 2,
   "id": "c10b0336-be86-46c1-8cfa-1c20fa20c559",
   "metadata": {},
   "outputs": [
    {
     "data": {
      "text/latex": [
       "$$\\frac{\\sqrt{2}}{2} |00\\rangle+\\frac{\\sqrt{2}}{2} |11\\rangle$$"
      ],
      "text/plain": [
       "<IPython.core.display.Latex object>"
      ]
     },
     "metadata": {},
     "output_type": "display_data"
    },
    {
     "data": {
      "text/latex": [
       "$$\\frac{\\sqrt{2}}{2} |00\\rangle- \\frac{\\sqrt{2}}{2} |11\\rangle$$"
      ],
      "text/plain": [
       "<IPython.core.display.Latex object>"
      ]
     },
     "metadata": {},
     "output_type": "display_data"
    },
    {
     "data": {
      "text/latex": [
       "$$\\frac{\\sqrt{2}}{2} |01\\rangle+\\frac{\\sqrt{2}}{2} |10\\rangle$$"
      ],
      "text/plain": [
       "<IPython.core.display.Latex object>"
      ]
     },
     "metadata": {},
     "output_type": "display_data"
    },
    {
     "data": {
      "text/latex": [
       "$$\\frac{\\sqrt{2}}{2} |01\\rangle- \\frac{\\sqrt{2}}{2} |10\\rangle$$"
      ],
      "text/plain": [
       "<IPython.core.display.Latex object>"
      ]
     },
     "metadata": {},
     "output_type": "display_data"
    }
   ],
   "source": [
    "# Define |0> and |1>\n",
    "ket_zero = Statevector([1, 0]) \n",
    "ket_one = Statevector([0, 1]) \n",
    "\n",
    "# Define H and CNOT gates\n",
    "H = Operator([[1 / np.sqrt(2), 1 / np.sqrt(2)], [1 / np.sqrt(2), -1 / np.sqrt(2)]])\n",
    "CX = Operator([\n",
    " [1, 0, 0, 0],\n",
    " [0, 1, 0, 0],\n",
    " [0, 0, 0, 1],\n",
    " [0, 0, 1, 0]])\n",
    "\n",
    "# Plus and minus states\n",
    "ket_plus = ket_zero.evolve(H)\n",
    "ket_minus = ket_one.evolve(H)\n",
    "\n",
    "# Evaluate tensor products\n",
    "ket_plus_zero = ket_plus.tensor(ket_zero)\n",
    "ket_minus_zero = ket_minus.tensor(ket_zero)\n",
    "ket_plus_one = ket_plus.tensor(ket_one)\n",
    "ket_minus_one = ket_minus.tensor(ket_one)\n",
    "\n",
    "# Apply the CNOT gate\n",
    "phi_plus = ket_plus_zero.evolve(CX)\n",
    "phi_minus = ket_minus_zero.evolve(CX)\n",
    "psi_plus = ket_plus_one.evolve(CX)\n",
    "psi_minus = ket_minus_one.evolve(CX)\n",
    "\n",
    "bell_states = [phi_plus,phi_minus,psi_plus,psi_minus]\n",
    "\n",
    "for state in bell_states:\n",
    "    display(state.draw(\"latex\"))"
   ]
  },
  {
   "cell_type": "markdown",
   "id": "99dd4461-98d6-4783-b5d4-a3ede22096a8",
   "metadata": {},
   "source": [
    "We can express the Bell States as computational basis vectors of 2-qubit systems, or indeed any complex vector at all having entries corresponding to the four classical states of two bits, can be expressed as a linear combination of the four Bell states. For example, let's find $\\ket{00}$ in the Bell Basis:<br>\n",
    "\\begin{align*}\n",
    "\\ket{\\Phi^+}&=\\frac{1}{\\sqrt{2}}(\\ket{00}+\\ket{11})\\\\\n",
    "\\ket{\\Phi^+}&=\\frac{1}{\\sqrt{2}}\\ket{00}+\\frac{1}{\\sqrt{2}}\\ket{11}\\\\\n",
    "-1( -\\frac{1}{\\sqrt{2}}\\ket{00}&=\\frac{1}{\\sqrt{2}}\\ket{11}-\\ket{\\Phi^+})\\\\\n",
    "\\frac{1}{\\sqrt{2}}\\ket{00}&=\\ket{\\Phi^+}-\\frac{1}{\\sqrt{2}}\\ket{11}\\\\\n",
    "\\sqrt{2}\\ket{00}&=\\ket{\\Phi^+}+\\frac{1}{\\sqrt{2}}\\ket{00}-\\frac{1}{\\sqrt{2}}\\ket{11}\\\\\n",
    "\\ket{00}&=\\ket{\\Phi^+}+\\ket{\\Phi^-}\\\\\n",
    "\\ket{00}&=\\frac{1}{\\sqrt{2}}\\ket{\\Phi^+}+\\frac{1}{\\sqrt{2}}\\ket{\\Phi^-}\\\\\n",
    "\\end{align*}\n",
    "The four Z-basis in terms of the Bell Basis:<br>\n",
    "\\begin{align*}\n",
    "\\ket{00}&=\\frac{1}{\\sqrt{2}}\\ket{\\Phi^+}+\\frac{1}{\\sqrt{2}}\\ket{\\Phi^-}\\\\\n",
    "\\ket{01}&=\\frac{1}{\\sqrt{2}}\\ket{\\Psi^+}+\\frac{1}{\\sqrt{2}}\\ket{\\Psi^-}\\\\\n",
    "\\ket{10}&=\\frac{1}{\\sqrt{2}}\\ket{\\Psi^+}-\\frac{1}{\\sqrt{2}}\\ket{\\Psi^-}\\\\\n",
    "\\ket{11}&=\\frac{1}{\\sqrt{2}}\\ket{\\Phi^+}-\\frac{1}{\\sqrt{2}}\\ket{\\Phi^-}\\\\\n",
    "\\end{align*}"
   ]
  },
  {
   "cell_type": "code",
   "execution_count": 3,
   "id": "8088a9d7-5295-4933-990b-c6a79a5be57b",
   "metadata": {},
   "outputs": [
    {
     "ename": "CircuitError",
     "evalue": "\"Bit 'Clbit(ClassicalRegister(1, 'B'), 0)' is not in the circuit.\"",
     "output_type": "error",
     "traceback": [
      "\u001b[1;31m---------------------------------------------------------------------------\u001b[0m",
      "\u001b[1;31mCircuitError\u001b[0m                              Traceback (most recent call last)",
      "Cell \u001b[1;32mIn[3], line 15\u001b[0m\n\u001b[0;32m     12\u001b[0m circuit\u001b[38;5;241m.\u001b[39mcx(X, Y)\n\u001b[0;32m     14\u001b[0m \u001b[38;5;66;03m# Measurement\u001b[39;00m\n\u001b[1;32m---> 15\u001b[0m \u001b[43mcircuit\u001b[49m\u001b[38;5;241;43m.\u001b[39;49m\u001b[43mmeasure\u001b[49m\u001b[43m(\u001b[49m\u001b[43mX\u001b[49m\u001b[43m,\u001b[49m\u001b[43m \u001b[49m\u001b[43mB\u001b[49m\u001b[43m)\u001b[49m\n\u001b[0;32m     16\u001b[0m circuit\u001b[38;5;241m.\u001b[39mmeasure(Y, A)\n\u001b[0;32m     18\u001b[0m display(circuit\u001b[38;5;241m.\u001b[39mdraw())\n",
      "File \u001b[1;32m~\\PythonProjects\\ST-QuantumComputingLectures\\Quantum_Computing_venv\\Lib\\site-packages\\qiskit\\circuit\\quantumcircuit.py:3905\u001b[0m, in \u001b[0;36mQuantumCircuit.measure\u001b[1;34m(self, qubit, cbit)\u001b[0m\n\u001b[0;32m   3831\u001b[0m \u001b[38;5;250m\u001b[39m\u001b[38;5;124mr\u001b[39m\u001b[38;5;124;03m\"\"\"Measure a quantum bit (``qubit``) in the Z basis into a classical bit (``cbit``).\u001b[39;00m\n\u001b[0;32m   3832\u001b[0m \n\u001b[0;32m   3833\u001b[0m \u001b[38;5;124;03mWhen a quantum state is measured, a qubit is projected in the computational (Pauli Z) basis\u001b[39;00m\n\u001b[1;32m   (...)\u001b[0m\n\u001b[0;32m   3901\u001b[0m \n\u001b[0;32m   3902\u001b[0m \u001b[38;5;124;03m\"\"\"\u001b[39;00m\n\u001b[0;32m   3903\u001b[0m \u001b[38;5;28;01mfrom\u001b[39;00m \u001b[38;5;21;01m.\u001b[39;00m\u001b[38;5;21;01mmeasure\u001b[39;00m \u001b[38;5;28;01mimport\u001b[39;00m Measure\n\u001b[1;32m-> 3905\u001b[0m \u001b[38;5;28;01mreturn\u001b[39;00m \u001b[38;5;28;43mself\u001b[39;49m\u001b[38;5;241;43m.\u001b[39;49m\u001b[43mappend\u001b[49m\u001b[43m(\u001b[49m\u001b[43mMeasure\u001b[49m\u001b[43m(\u001b[49m\u001b[43m)\u001b[49m\u001b[43m,\u001b[49m\u001b[43m \u001b[49m\u001b[43m[\u001b[49m\u001b[43mqubit\u001b[49m\u001b[43m]\u001b[49m\u001b[43m,\u001b[49m\u001b[43m \u001b[49m\u001b[43m[\u001b[49m\u001b[43mcbit\u001b[49m\u001b[43m]\u001b[49m\u001b[43m,\u001b[49m\u001b[43m \u001b[49m\u001b[43mcopy\u001b[49m\u001b[38;5;241;43m=\u001b[39;49m\u001b[38;5;28;43;01mFalse\u001b[39;49;00m\u001b[43m)\u001b[49m\n",
      "File \u001b[1;32m~\\PythonProjects\\ST-QuantumComputingLectures\\Quantum_Computing_venv\\Lib\\site-packages\\qiskit\\circuit\\quantumcircuit.py:2518\u001b[0m, in \u001b[0;36mQuantumCircuit.append\u001b[1;34m(self, instruction, qargs, cargs, copy)\u001b[0m\n\u001b[0;32m   2512\u001b[0m         \u001b[38;5;28;01mraise\u001b[39;00m CircuitError(\n\u001b[0;32m   2513\u001b[0m             \u001b[38;5;124mf\u001b[39m\u001b[38;5;124m\"\u001b[39m\u001b[38;5;124mControl-flow op attempts to capture \u001b[39m\u001b[38;5;124m'\u001b[39m\u001b[38;5;132;01m{\u001b[39;00mbad_captures\u001b[38;5;132;01m}\u001b[39;00m\u001b[38;5;124m'\u001b[39m\u001b[38;5;124m\"\u001b[39m\n\u001b[0;32m   2514\u001b[0m             \u001b[38;5;124m\"\u001b[39m\u001b[38;5;124m which are not in this circuit\u001b[39m\u001b[38;5;124m\"\u001b[39m\n\u001b[0;32m   2515\u001b[0m         )\n\u001b[0;32m   2517\u001b[0m expanded_qargs \u001b[38;5;241m=\u001b[39m [\u001b[38;5;28mself\u001b[39m\u001b[38;5;241m.\u001b[39m_qbit_argument_conversion(qarg) \u001b[38;5;28;01mfor\u001b[39;00m qarg \u001b[38;5;129;01min\u001b[39;00m qargs \u001b[38;5;129;01mor\u001b[39;00m []]\n\u001b[1;32m-> 2518\u001b[0m expanded_cargs \u001b[38;5;241m=\u001b[39m [\u001b[38;5;28;43mself\u001b[39;49m\u001b[38;5;241;43m.\u001b[39;49m\u001b[43m_cbit_argument_conversion\u001b[49m\u001b[43m(\u001b[49m\u001b[43mcarg\u001b[49m\u001b[43m)\u001b[49m \u001b[38;5;28;01mfor\u001b[39;00m carg \u001b[38;5;129;01min\u001b[39;00m cargs \u001b[38;5;129;01mor\u001b[39;00m []]\n\u001b[0;32m   2520\u001b[0m instructions \u001b[38;5;241m=\u001b[39m InstructionSet(resource_requester\u001b[38;5;241m=\u001b[39mcircuit_scope\u001b[38;5;241m.\u001b[39mresolve_classical_resource)\n\u001b[0;32m   2521\u001b[0m \u001b[38;5;66;03m# For Operations that are non-Instructions, we use the Instruction's default method\u001b[39;00m\n",
      "File \u001b[1;32m~\\PythonProjects\\ST-QuantumComputingLectures\\Quantum_Computing_venv\\Lib\\site-packages\\qiskit\\circuit\\quantumcircuit.py:2401\u001b[0m, in \u001b[0;36mQuantumCircuit._cbit_argument_conversion\u001b[1;34m(self, clbit_representation)\u001b[0m\n\u001b[0;32m   2390\u001b[0m \u001b[38;5;28;01mdef\u001b[39;00m \u001b[38;5;21m_cbit_argument_conversion\u001b[39m(\u001b[38;5;28mself\u001b[39m, clbit_representation: ClbitSpecifier) \u001b[38;5;241m-\u001b[39m\u001b[38;5;241m>\u001b[39m \u001b[38;5;28mlist\u001b[39m[Clbit]:\n\u001b[0;32m   2391\u001b[0m \u001b[38;5;250m    \u001b[39m\u001b[38;5;124;03m\"\"\"\u001b[39;00m\n\u001b[0;32m   2392\u001b[0m \u001b[38;5;124;03m    Converts several classical bit representations (such as indexes, range, etc.)\u001b[39;00m\n\u001b[0;32m   2393\u001b[0m \u001b[38;5;124;03m    into a list of classical bits.\u001b[39;00m\n\u001b[1;32m   (...)\u001b[0m\n\u001b[0;32m   2399\u001b[0m \u001b[38;5;124;03m        A list of tuples where each tuple is a classical bit.\u001b[39;00m\n\u001b[0;32m   2400\u001b[0m \u001b[38;5;124;03m    \"\"\"\u001b[39;00m\n\u001b[1;32m-> 2401\u001b[0m     \u001b[38;5;28;01mreturn\u001b[39;00m \u001b[43m_bit_argument_conversion\u001b[49m\u001b[43m(\u001b[49m\n\u001b[0;32m   2402\u001b[0m \u001b[43m        \u001b[49m\u001b[43mclbit_representation\u001b[49m\u001b[43m,\u001b[49m\u001b[43m \u001b[49m\u001b[38;5;28;43mself\u001b[39;49m\u001b[38;5;241;43m.\u001b[39;49m\u001b[43mclbits\u001b[49m\u001b[43m,\u001b[49m\u001b[43m \u001b[49m\u001b[38;5;28;43mself\u001b[39;49m\u001b[38;5;241;43m.\u001b[39;49m\u001b[43m_clbit_indices\u001b[49m\u001b[43m,\u001b[49m\u001b[43m \u001b[49m\u001b[43mClbit\u001b[49m\n\u001b[0;32m   2403\u001b[0m \u001b[43m    \u001b[49m\u001b[43m)\u001b[49m\n",
      "File \u001b[1;32m~\\PythonProjects\\ST-QuantumComputingLectures\\Quantum_Computing_venv\\Lib\\site-packages\\qiskit\\circuit\\quantumcircuit.py:6759\u001b[0m, in \u001b[0;36m_bit_argument_conversion\u001b[1;34m(specifier, bit_sequence, bit_set, type_)\u001b[0m\n\u001b[0;32m   6756\u001b[0m     \u001b[38;5;28;01mreturn\u001b[39;00m bit_sequence[specifier]\n\u001b[0;32m   6757\u001b[0m \u001b[38;5;28;01mtry\u001b[39;00m:\n\u001b[0;32m   6758\u001b[0m     \u001b[38;5;28;01mreturn\u001b[39;00m [\n\u001b[1;32m-> 6759\u001b[0m         \u001b[43m_bit_argument_conversion_scalar\u001b[49m\u001b[43m(\u001b[49m\u001b[43mindex\u001b[49m\u001b[43m,\u001b[49m\u001b[43m \u001b[49m\u001b[43mbit_sequence\u001b[49m\u001b[43m,\u001b[49m\u001b[43m \u001b[49m\u001b[43mbit_set\u001b[49m\u001b[43m,\u001b[49m\u001b[43m \u001b[49m\u001b[43mtype_\u001b[49m\u001b[43m)\u001b[49m\n\u001b[0;32m   6760\u001b[0m         \u001b[38;5;28;01mfor\u001b[39;00m index \u001b[38;5;129;01min\u001b[39;00m specifier\n\u001b[0;32m   6761\u001b[0m     ]\n\u001b[0;32m   6762\u001b[0m \u001b[38;5;28;01mexcept\u001b[39;00m \u001b[38;5;167;01mTypeError\u001b[39;00m \u001b[38;5;28;01mas\u001b[39;00m ex:\n\u001b[0;32m   6763\u001b[0m     message \u001b[38;5;241m=\u001b[39m (\n\u001b[0;32m   6764\u001b[0m         \u001b[38;5;124mf\u001b[39m\u001b[38;5;124m\"\u001b[39m\u001b[38;5;124mIncorrect bit type: expected \u001b[39m\u001b[38;5;124m'\u001b[39m\u001b[38;5;132;01m{\u001b[39;00mtype_\u001b[38;5;241m.\u001b[39m\u001b[38;5;18m__name__\u001b[39m\u001b[38;5;132;01m}\u001b[39;00m\u001b[38;5;124m'\u001b[39m\u001b[38;5;124m but got \u001b[39m\u001b[38;5;124m'\u001b[39m\u001b[38;5;132;01m{\u001b[39;00m\u001b[38;5;28mtype\u001b[39m(specifier)\u001b[38;5;241m.\u001b[39m\u001b[38;5;18m__name__\u001b[39m\u001b[38;5;132;01m}\u001b[39;00m\u001b[38;5;124m'\u001b[39m\u001b[38;5;124m\"\u001b[39m\n\u001b[0;32m   6765\u001b[0m         \u001b[38;5;28;01mif\u001b[39;00m \u001b[38;5;28misinstance\u001b[39m(specifier, Bit)\n\u001b[0;32m   6766\u001b[0m         \u001b[38;5;28;01melse\u001b[39;00m \u001b[38;5;124mf\u001b[39m\u001b[38;5;124m\"\u001b[39m\u001b[38;5;124mInvalid bit index: \u001b[39m\u001b[38;5;124m'\u001b[39m\u001b[38;5;132;01m{\u001b[39;00mspecifier\u001b[38;5;132;01m}\u001b[39;00m\u001b[38;5;124m'\u001b[39m\u001b[38;5;124m of type \u001b[39m\u001b[38;5;124m'\u001b[39m\u001b[38;5;132;01m{\u001b[39;00m\u001b[38;5;28mtype\u001b[39m(specifier)\u001b[38;5;132;01m}\u001b[39;00m\u001b[38;5;124m'\u001b[39m\u001b[38;5;124m\"\u001b[39m\n\u001b[0;32m   6767\u001b[0m     )\n",
      "File \u001b[1;32m~\\PythonProjects\\ST-QuantumComputingLectures\\Quantum_Computing_venv\\Lib\\site-packages\\qiskit\\circuit\\quantumcircuit.py:6775\u001b[0m, in \u001b[0;36m_bit_argument_conversion_scalar\u001b[1;34m(specifier, bit_sequence, bit_set, type_)\u001b[0m\n\u001b[0;32m   6773\u001b[0m     \u001b[38;5;28;01mif\u001b[39;00m specifier \u001b[38;5;129;01min\u001b[39;00m bit_set:\n\u001b[0;32m   6774\u001b[0m         \u001b[38;5;28;01mreturn\u001b[39;00m specifier\n\u001b[1;32m-> 6775\u001b[0m     \u001b[38;5;28;01mraise\u001b[39;00m CircuitError(\u001b[38;5;124mf\u001b[39m\u001b[38;5;124m\"\u001b[39m\u001b[38;5;124mBit \u001b[39m\u001b[38;5;124m'\u001b[39m\u001b[38;5;132;01m{\u001b[39;00mspecifier\u001b[38;5;132;01m}\u001b[39;00m\u001b[38;5;124m'\u001b[39m\u001b[38;5;124m is not in the circuit.\u001b[39m\u001b[38;5;124m\"\u001b[39m)\n\u001b[0;32m   6776\u001b[0m \u001b[38;5;28;01mif\u001b[39;00m \u001b[38;5;28misinstance\u001b[39m(specifier, (\u001b[38;5;28mint\u001b[39m, np\u001b[38;5;241m.\u001b[39minteger)):\n\u001b[0;32m   6777\u001b[0m     \u001b[38;5;28;01mtry\u001b[39;00m:\n",
      "\u001b[1;31mCircuitError\u001b[0m: \"Bit 'Clbit(ClassicalRegister(1, 'B'), 0)' is not in the circuit.\""
     ]
    }
   ],
   "source": [
    "# Circuit representation for formulation of the Bell States\n",
    "# Define control and target\n",
    "X = QuantumRegister(1, \"X\")\n",
    "Y = QuantumRegister(1, \"Y\")\n",
    "# Define clssical bits for measurement results\n",
    "A = ClassicalRegister(1, \"A\")\n",
    "B = ClassicalRegister(1, \"B\")\n",
    "\n",
    "# Apply H gate to control and then CNOT \n",
    "circuit = QuantumCircuit(X, Y)\n",
    "circuit.h(X)\n",
    "circuit.cx(X, Y)\n",
    "\n",
    "# Measurement\n",
    "circuit.measure(X, B)\n",
    "circuit.measure(Y, A)\n",
    "\n",
    "display(circuit.draw())"
   ]
  }
 ],
 "metadata": {
  "kernelspec": {
   "display_name": "Quantum_Computing_venv",
   "language": "python",
   "name": "quantum_computing_venv"
  },
  "language_info": {
   "codemirror_mode": {
    "name": "ipython",
    "version": 3
   },
   "file_extension": ".py",
   "mimetype": "text/x-python",
   "name": "python",
   "nbconvert_exporter": "python",
   "pygments_lexer": "ipython3",
   "version": "3.12.6"
  }
 },
 "nbformat": 4,
 "nbformat_minor": 5
}
