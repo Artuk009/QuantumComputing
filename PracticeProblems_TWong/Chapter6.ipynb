{
 "cells": [
  {
   "cell_type": "code",
   "execution_count": 1,
   "id": "46fd5c80-189e-4f00-a2ad-dfdd39ed2a89",
   "metadata": {},
   "outputs": [],
   "source": [
    "# Author: Brent Artuch\n",
    "# Date: 2024-11-22\n",
    "\n",
    "\n",
    "import sympy as sp\n",
    "from sympy.physics.quantum import *\n",
    "import numpy as np\n",
    "from IPython.display import *\n",
    "Image(\"Diagrams/circuit_01.png\")\n",
    "\n",
    "from qiskit.quantum_info import Operator, Statevector\n",
    "from qiskit import QuantumCircuit, QuantumRegister, ClassicalRegister\n",
    "\n",
    "sp.init_printing()"
   ]
  },
  {
   "cell_type": "markdown",
   "id": "22e8ca33-11b1-4d34-b97e-aa3043e7f480",
   "metadata": {},
   "source": [
    "## Measurements\n",
    "6.1 - Show that\n",
    "\\begin{align*}\n",
    "\\frac{\\sqrt{3}}{2\\sqrt{2}}\\ket{00}+\\frac{\\sqrt{3}}{2\\sqrt{2}}\\ket{01}+\\frac{\\sqrt{3}}{4}\\ket{10}+\\frac{1}{4}\\ket{11}\n",
    "\\end{align*}\n",
    "cannot be factored into the tensor product of two single-qubit states."
   ]
  },
  {
   "cell_type": "markdown",
   "id": "6ede0d1c-bbf0-4a42-8a8a-47cb5681d97b",
   "metadata": {},
   "source": [
    "Answer - We can use our seperability condition from previous examples in Chapter #4:\n",
    "\\begin{align*}\n",
    "\\left(\\frac{\\sqrt{3}}{2\\sqrt{2}}\\right)\\left(\\frac{1}{4}\\right)-\\left(\\frac{\\sqrt{3}}{2\\sqrt{2}}\\right)\\left(\\frac{\\sqrt{3}}{4}\\right)=\\frac{\\sqrt{3}}{8\\sqrt{2}}-\\frac{3}{8\\sqrt{2}}\\not=0\n",
    "\\end{align*}\n",
    "Therefore, this state cannot be factored into the tensor product of two single-qubit states."
   ]
  },
  {
   "cell_type": "markdown",
   "id": "fd2d59d4-45af-4086-92a6-613869ef6b26",
   "metadata": {},
   "source": [
    "6.2 - Consider the following state of two qubits:\n",
    "\\begin{align*}\n",
    "\\frac{\\sqrt{3}}{2\\sqrt{2}}\\ket{00}+\\frac{1}{2\\sqrt{2}}\\ket{01}+\\frac{1}{2\\sqrt{2}}\\ket{10}+\\frac{\\sqrt{3}}{2\\sqrt{2}}\\ket{11}\n",
    "\\end{align*}\n",
    "a) If you measure the left qubit, what outcomes can you get with what probabilities?"
   ]
  },
  {
   "cell_type": "code",
   "execution_count": 2,
   "id": "7fc09a77-aa90-4d38-8826-c5c422a2ac79",
   "metadata": {},
   "outputs": [
    {
     "data": {
      "text/latex": [
       "$$\\frac{\\sqrt{6}}{4} |00\\rangle+\\frac{\\sqrt{2}}{4} |01\\rangle+\\frac{\\sqrt{2}}{4} |10\\rangle+\\frac{\\sqrt{6}}{4} |11\\rangle$$"
      ],
      "text/plain": [
       "<IPython.core.display.Latex object>"
      ]
     },
     "metadata": {},
     "output_type": "display_data"
    },
    {
     "name": "stdout",
     "output_type": "stream",
     "text": [
      "The probability of the left qubit measuring 0:  1/2\n",
      "The probability of the left qubit measuring 1:  1/2\n",
      "\n",
      "Left qubit result:  0\n"
     ]
    },
    {
     "data": {
      "text/latex": [
       "$$\\frac{\\sqrt{3}}{2} |00\\rangle+\\frac{1}{2} |01\\rangle$$"
      ],
      "text/plain": [
       "<IPython.core.display.Latex object>"
      ]
     },
     "metadata": {},
     "output_type": "display_data"
    }
   ],
   "source": [
    "# With Qiskit\n",
    "psi = Statevector([np.sqrt(3)/(2*np.sqrt(2)),1/(2*np.sqrt(2)),1/(2*np.sqrt(2)),np.sqrt(3)/(2*np.sqrt(2))])\n",
    "display(psi.draw(\"latex\"))\n",
    "outcome, state = psi.measure([1])\n",
    "\n",
    "prob_0 = psi[0]**2+psi[1]**2\n",
    "prob_1 = psi[2]**2+psi[3]**2\n",
    "\n",
    "print(\"The probability of the left qubit measuring 0: \", sp.nsimplify(prob_0.item().real))\n",
    "print(\"The probability of the left qubit measuring 1: \", sp.nsimplify(prob_1.item().real))\n",
    "print(\"\")\n",
    "print(\"Left qubit result: \",outcome.item())\n",
    "display(state.draw(\"latex\"))"
   ]
  },
  {
   "cell_type": "markdown",
   "id": "4eac43a4-525c-4554-ad08-f8c01ea58cb0",
   "metadata": {},
   "source": [
    "b) Product State, Partially Entangled, or Maximally Entagled?<br>\n",
    "Answer - This can be answered using process of elimination (proof by counterexample). We know this isn't maximally entangled because it does not belong to the set of the four Bell states, which is a requirement for a two-qubit state to be maximally entangled. Also, we can observe that the sperability condition would not be staisfied by the given equation and thus cannot be expressed as the product of two single-qubit states. Therefore, we can conclude that this is a partially entangled state.   "
   ]
  },
  {
   "cell_type": "markdown",
   "id": "560b1d0c-24fc-47af-b6b6-e9db6216e5e5",
   "metadata": {},
   "source": [
    "6.3 - Consider the following:\n",
    "\\begin{align*}\n",
    "\\frac{1}{\\sqrt{2}}(\\ket{01}+\\ket{10})\n",
    "\\end{align*}\n",
    "a) If you measure the left qubit, what outcomes can you get with what probabilities?"
   ]
  },
  {
   "cell_type": "markdown",
   "id": "cfcb985b-01fa-4a13-a738-ab72e0fd48a9",
   "metadata": {},
   "source": [
    "Answer - If we expand the state, we get:\n",
    "\\begin{align*}\n",
    "(0)\\ket{00}+\\frac{1}{\\sqrt{2}}\\ket{01}+\\frac{1}{\\sqrt{2}}\\ket{10}+(0)\\ket{11}\n",
    "\\end{align*}\n",
    "By taking the sum of the squared magnitude of the corresponding amplitudes, we get:\n",
    "\\begin{align*}\n",
    "Pr(\\text{Left is }\\ket{0})=|0|^2+\\left|\\frac{1}{\\sqrt{2}}\\right|^2=\\frac{1}{2}\\\\\n",
    "Pr(\\text{Left is }\\ket{1})=\\left|\\frac{1}{\\sqrt{2}}\\right|^2+|0|^2=\\frac{1}{2}\\\\\n",
    "\\end{align*}"
   ]
  },
  {
   "cell_type": "markdown",
   "id": "dc9c86e6-218b-42d3-9d6d-b151f981332d",
   "metadata": {},
   "source": [
    "And the states collapse to:\n",
    "\\begin{align*}\n",
    "\\frac{(0)\\ket{00}+1/\\sqrt{2}\\ket{01}}{\\sqrt{|0|^2+\\left|\\frac{1}{\\sqrt{2}}\\right|^2}}=\\frac{1/\\sqrt{2}\\ket{01}}{\\sqrt{\\frac{1}{2}}}=\\ket{01}\n",
    "\\end{align*}\n",
    "If the left qubit is $\\ket{0}$. And\n",
    "\\begin{align*}\n",
    "\\frac{1/\\sqrt{2}\\ket{10}+0\\ket{11}}{\\sqrt{\\left|\\frac{1}{\\sqrt{2}}\\right|^2+|0|^2}}=\\frac{1/\\sqrt{2}\\ket{10}}{\\sqrt{\\frac{1}{2}}}=\\ket{10}\n",
    "\\end{align*}\n",
    "If the left qubit is $\\ket{1}$."
   ]
  },
  {
   "cell_type": "markdown",
   "id": "af4279d8-7e7f-4134-8d50-e02e4a2db8ba",
   "metadata": {},
   "source": [
    "b) Product State, Partially Entangled, or Maximally Entagled?<br>\n",
    "Answer - This state belongs to the set of the four Bell states and is therefore maximally entangled."
   ]
  }
 ],
 "metadata": {
  "kernelspec": {
   "display_name": "Quantum_Computing_venv",
   "language": "python",
   "name": "quantum_computing_venv"
  },
  "language_info": {
   "codemirror_mode": {
    "name": "ipython",
    "version": 3
   },
   "file_extension": ".py",
   "mimetype": "text/x-python",
   "name": "python",
   "nbconvert_exporter": "python",
   "pygments_lexer": "ipython3",
   "version": "3.12.7"
  }
 },
 "nbformat": 4,
 "nbformat_minor": 5
}
