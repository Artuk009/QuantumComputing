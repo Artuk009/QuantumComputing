{
 "cells": [
  {
   "cell_type": "code",
   "execution_count": 1,
   "id": "51159486-7437-4bae-b337-ef839a690c25",
   "metadata": {},
   "outputs": [],
   "source": [
    "# Author: Brent Artuch\n",
    "# Date: 2024-09-27\n",
    "\n",
    "import numpy as np\n",
    "import sympy as sp\n",
    "from IPython.display import *\n",
    "\n",
    "sp.init_printing()"
   ]
  },
  {
   "cell_type": "markdown",
   "id": "2fb979ee-a314-47b9-a0c1-83d185771429",
   "metadata": {},
   "source": [
    "## Measurement\n",
    "2.7 - Say you measure the qubit and get $\\ket{0}$. If you measure the qubit a second time, what is the probability of getting $\\ket{0}$ and $\\ket{1}$?<br>\n",
    "Answer: The probability of measuring $\\ket{0}$ is equal to 1 because measurement caused the state to collapse to the 0 state. Therefore, the probability of measureing $\\ket{1}$ is now 0."
   ]
  },
  {
   "cell_type": "markdown",
   "id": "e39318d3-cbd8-4214-9513-9f65ff71bd06",
   "metadata": {},
   "source": [
    "2.8 A Qubit is in the state $$\\frac{e^{i\\pi/8}}{\\sqrt{5}}\\ket{0}+\\beta\\ket{1}$$ What is the value of $\\beta$?<br>\n",
    "Answer: We need to solve for $\\beta$ ST $\\beta$ = $\\sqrt{1 - |\\frac{e^{i\\pi/8}}{\\sqrt{5}}|^2}$"
   ]
  },
  {
   "cell_type": "code",
   "execution_count": 2,
   "id": "87f02dc8-b0cb-4a28-b513-c1ba19469c72",
   "metadata": {},
   "outputs": [
    {
     "data": {
      "image/png": "[encoded data removed]",
      "text/latex": [
       "$\\displaystyle 0.894427190999916$"
      ],
      "text/plain": [
       "0.894427190999916"
      ]
     },
     "execution_count": 2,
     "metadata": {},
     "output_type": "execute_result"
    }
   ],
   "source": [
    "# solve for norm sqaured alpha\n",
    "alpha_squared = 1/5\n",
    "beta = sp.sqrt(1 - alpha_squared)\n",
    "beta # 2/sqrt(5)"
   ]
  },
  {
   "cell_type": "markdown",
   "id": "bb510342-c936-4bc8-97f3-1a3df048a9e7",
   "metadata": {},
   "source": [
    "2.9 - A qubit is in the state: $$A(2e^{i\\pi/6}\\ket{0}-3\\ket{1})$$\n",
    "a) Normalize the state b) find the probability of measuring $\\ket{0}$ and $\\ket{1}$<br>\n",
    "Answer: to normalize this state, we need to solve for $A$ ST the amplitudes of the state have a total probability equal to 1:\n",
    "\\begin{align*}\n",
    "1&=|2e^{i\\pi/6}A|^2+|-3A|^2c\\\\\n",
    "1&=4|A|^2+9|A^2|\\\\\n",
    "1&=13|A|^2\\\\\n",
    "|A|^2 & = \\frac{1}{13}\\\\\n",
    "A&= \\frac{1}{\\sqrt{13}}\n",
    "\\end{align*}"
   ]
  },
  {
   "cell_type": "code",
   "execution_count": 3,
   "id": "da3f0235-82f7-4f03-a86b-2aeef1c454ed",
   "metadata": {},
   "outputs": [
    {
     "data": {
      "image/png": "[encoded data removed]",
      "text/latex": [
       "$\\displaystyle \\left( \\frac{4}{13}, \\  \\frac{9}{13}\\right)$"
      ],
      "text/plain": [
       "(4/13, 9/13)"
      ]
     },
     "execution_count": 3,
     "metadata": {},
     "output_type": "execute_result"
    }
   ],
   "source": [
    "# Now we can find the probabilities\n",
    "alpha = 1/sp.sqrt(13) * 2\n",
    "beta = 1/sp.sqrt(13) * -3\n",
    "prob_ket_0 = alpha * sp.conjugate(alpha)\n",
    "prob_ket_1 = beta * sp.conjugate(beta)\n",
    "(prob_ket_0, prob_ket_1)"
   ]
  }
 ],
 "metadata": {
  "kernelspec": {
   "display_name": "Quantum_Computing_venv",
   "language": "python",
   "name": "quantum_computing_venv"
  },
  "language_info": {
   "codemirror_mode": {
    "name": "ipython",
    "version": 3
   },
   "file_extension": ".py",
   "mimetype": "text/x-python",
   "name": "python",
   "nbconvert_exporter": "python",
   "pygments_lexer": "ipython3",
   "version": "3.12.6"
  }
 },
 "nbformat": 4,
 "nbformat_minor": 5
}
