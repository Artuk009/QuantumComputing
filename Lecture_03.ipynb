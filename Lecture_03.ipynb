{
 "cells": [
  {
   "cell_type": "code",
   "execution_count": 1,
   "id": "383d79aa-8b79-40ed-bd22-70595786c0e3",
   "metadata": {},
   "outputs": [],
   "source": [
    "# Author: Brent Artuch\n",
    "# Date: 2024-10-07\n",
    "\n",
    "import sympy as sp\n",
    "import numpy as np\n",
    "\n",
    "# Qiskit libraries\n",
    "from qiskit.quantum_info import Operator, Statevector\n",
    "from qiskit import QuantumCircuit, QuantumRegister, ClassicalRegister\n",
    "\n",
    "sp.init_printing()"
   ]
  },
  {
   "cell_type": "markdown",
   "id": "24218c39-c684-495a-9303-022caa884f1a",
   "metadata": {},
   "source": [
    "## Bell States\n",
    "The collection of all four Bell states is known as the Bell basis; all four of the Bell states represent entanglement between two qubits.\n",
    "\\begin{align*}\n",
    "\\ket{\\beta_{00}}=\\ket{\\Phi^+}=\\frac{1}{\\sqrt{2}}(\\ket{00}+\\ket{11})=CNOT(H)\\ket{0}\\ket{0}\\\\\n",
    "\\ket{\\beta_{10}}=\\ket{\\Phi^-}=\\frac{1}{\\sqrt{2}}(\\ket{00}-\\ket{11})=CNOT(H)\\ket{1}\\ket{0}\\\\\n",
    "\\ket{\\beta_{01}}=\\ket{\\Psi^+}=\\frac{1}{\\sqrt{2}}(\\ket{01}+\\ket{10})=CNOT(H)\\ket{0}\\ket{1}\\\\\n",
    "\\ket{\\beta_{11}}=\\ket{\\Psi^-}=\\frac{1}{\\sqrt{2}}(\\ket{01}-\\ket{10})=CNOT(H)\\ket{1}\\ket{1}\\\\\n",
    "\\end{align*}\n",
    "These states can also be derived from the formula:<br>\n",
    "\\begin{align*}\n",
    "\\ket{\\beta_{x,y}}=\\frac{1}{\\sqrt{2}}\\left(\\ket{0,y}+(-1)^x\\ket{1,\\neg y}\\right)\n",
    "\\end{align*}"
   ]
  },
  {
   "cell_type": "code",
   "execution_count": 2,
   "id": "c10b0336-be86-46c1-8cfa-1c20fa20c559",
   "metadata": {},
   "outputs": [
    {
     "data": {
      "text/latex": [
       "$$\\frac{\\sqrt{2}}{2} |00\\rangle+\\frac{\\sqrt{2}}{2} |11\\rangle$$"
      ],
      "text/plain": [
       "<IPython.core.display.Latex object>"
      ]
     },
     "metadata": {},
     "output_type": "display_data"
    },
    {
     "data": {
      "text/latex": [
       "$$\\frac{\\sqrt{2}}{2} |00\\rangle- \\frac{\\sqrt{2}}{2} |11\\rangle$$"
      ],
      "text/plain": [
       "<IPython.core.display.Latex object>"
      ]
     },
     "metadata": {},
     "output_type": "display_data"
    },
    {
     "data": {
      "text/latex": [
       "$$\\frac{\\sqrt{2}}{2} |01\\rangle+\\frac{\\sqrt{2}}{2} |10\\rangle$$"
      ],
      "text/plain": [
       "<IPython.core.display.Latex object>"
      ]
     },
     "metadata": {},
     "output_type": "display_data"
    },
    {
     "data": {
      "text/latex": [
       "$$\\frac{\\sqrt{2}}{2} |01\\rangle- \\frac{\\sqrt{2}}{2} |10\\rangle$$"
      ],
      "text/plain": [
       "<IPython.core.display.Latex object>"
      ]
     },
     "metadata": {},
     "output_type": "display_data"
    }
   ],
   "source": [
    "# Define |0> and |1>\n",
    "ket_zero = Statevector([1, 0]) \n",
    "ket_one = Statevector([0, 1]) \n",
    "\n",
    "# Define H and CNOT gates\n",
    "H = Operator([[1 / np.sqrt(2), 1 / np.sqrt(2)], [1 / np.sqrt(2), -1 / np.sqrt(2)]])\n",
    "CX = Operator([\n",
    " [1, 0, 0, 0],\n",
    " [0, 1, 0, 0],\n",
    " [0, 0, 0, 1],\n",
    " [0, 0, 1, 0]])\n",
    "\n",
    "# Plus and minus states\n",
    "ket_plus = ket_zero.evolve(H)\n",
    "ket_minus = ket_one.evolve(H)\n",
    "\n",
    "# Evaluate tensor products\n",
    "ket_plus_zero = ket_plus.tensor(ket_zero)\n",
    "ket_minus_zero = ket_minus.tensor(ket_zero)\n",
    "ket_plus_one = ket_plus.tensor(ket_one)\n",
    "ket_minus_one = ket_minus.tensor(ket_one)\n",
    "\n",
    "# Apply the CNOT gate\n",
    "phi_plus = ket_plus_zero.evolve(CX)\n",
    "phi_minus = ket_minus_zero.evolve(CX)\n",
    "psi_plus = ket_plus_one.evolve(CX)\n",
    "psi_minus = ket_minus_one.evolve(CX)\n",
    "\n",
    "bell_states = [phi_plus,phi_minus,psi_plus,psi_minus]\n",
    "\n",
    "for state in bell_states:\n",
    "    display(state.draw(\"latex\"))"
   ]
  },
  {
   "cell_type": "markdown",
   "id": "99dd4461-98d6-4783-b5d4-a3ede22096a8",
   "metadata": {},
   "source": [
    "We can express the Bell States as computational basis vectors of 2-qubit systems, or indeed any complex vector at all having entries corresponding to the four classical states of two bits, can be expressed as a linear combination of the four Bell states. For example, let's find $\\ket{00}$ in the Bell Basis:<br>\n",
    "\\begin{align*}\n",
    "\\ket{\\Phi^+}&=\\frac{1}{\\sqrt{2}}(\\ket{00}+\\ket{11})\\\\\n",
    "\\ket{\\Phi^+}&=\\frac{1}{\\sqrt{2}}\\ket{00}+\\frac{1}{\\sqrt{2}}\\ket{11}\\\\\n",
    "-1( -\\frac{1}{\\sqrt{2}}\\ket{00}&=\\frac{1}{\\sqrt{2}}\\ket{11}-\\ket{\\Phi^+})\\\\\n",
    "\\frac{1}{\\sqrt{2}}\\ket{00}&=\\ket{\\Phi^+}-\\frac{1}{\\sqrt{2}}\\ket{11}\\\\\n",
    "\\sqrt{2}\\ket{00}&=\\ket{\\Phi^+}+\\frac{1}{\\sqrt{2}}\\ket{00}-\\frac{1}{\\sqrt{2}}\\ket{11}\\\\\n",
    "\\ket{00}&=\\ket{\\Phi^+}+\\ket{\\Phi^-}\\\\\n",
    "\\ket{00}&=\\frac{1}{\\sqrt{2}}\\ket{\\Phi^+}+\\frac{1}{\\sqrt{2}}\\ket{\\Phi^-}\\\\\n",
    "\\end{align*}\n",
    "The four Z-basis in terms of the Bell Basis:<br>\n",
    "\\begin{align*}\n",
    "\\ket{00}&=\\frac{1}{\\sqrt{2}}\\ket{\\Phi^+}+\\frac{1}{\\sqrt{2}}\\ket{\\Phi^-}\\\\\n",
    "\\ket{01}&=\\frac{1}{\\sqrt{2}}\\ket{\\Psi^+}+\\frac{1}{\\sqrt{2}}\\ket{\\Psi^-}\\\\\n",
    "\\ket{10}&=\\frac{1}{\\sqrt{2}}\\ket{\\Psi^+}-\\frac{1}{\\sqrt{2}}\\ket{\\Psi^-}\\\\\n",
    "\\ket{11}&=\\frac{1}{\\sqrt{2}}\\ket{\\Phi^+}-\\frac{1}{\\sqrt{2}}\\ket{\\Phi^-}\\\\\n",
    "\\end{align*}"
   ]
  },
  {
   "cell_type": "code",
   "execution_count": 3,
   "id": "8088a9d7-5295-4933-990b-c6a79a5be57b",
   "metadata": {},
   "outputs": [
    {
     "data": {
      "text/html": [
       "<pre style=\"word-wrap: normal;white-space: pre;background: #fff0;line-height: 1.1;font-family: &quot;Courier New&quot;,Courier,monospace\">     ┌───┐     ┌─┐   \n",
       "  X: ┤ H ├──■──┤M├───\n",
       "     └───┘┌─┴─┐└╥┘┌─┐\n",
       "  Y: ─────┤ X ├─╫─┤M├\n",
       "          └───┘ ║ └╥┘\n",
       "A: 1/═══════════╩══╬═\n",
       "                0  ║ \n",
       "B: 1/══════════════╩═\n",
       "                   0 </pre>"
      ],
      "text/plain": [
       "     ┌───┐     ┌─┐   \n",
       "  X: ┤ H ├──■──┤M├───\n",
       "     └───┘┌─┴─┐└╥┘┌─┐\n",
       "  Y: ─────┤ X ├─╫─┤M├\n",
       "          └───┘ ║ └╥┘\n",
       "A: 1/═══════════╩══╬═\n",
       "                0  ║ \n",
       "B: 1/══════════════╩═\n",
       "                   0 "
      ]
     },
     "metadata": {},
     "output_type": "display_data"
    }
   ],
   "source": [
    "# Circuit representation for formulation of the Bell States\n",
    "# Define control and target\n",
    "X = QuantumRegister(1, \"X\")\n",
    "Y = QuantumRegister(1, \"Y\")\n",
    "# Define clssical bits for measurement results\n",
    "A = ClassicalRegister(1, \"A\")\n",
    "B = ClassicalRegister(1, \"B\")\n",
    "\n",
    "# Apply H gate to control and then CNOT \n",
    "circuit = QuantumCircuit(X, Y, A, B)\n",
    "circuit.h(X)\n",
    "circuit.cx(X, Y)\n",
    "\n",
    "# Measurement\n",
    "circuit.measure(X, A)\n",
    "circuit.measure(Y, B)\n",
    "\n",
    "display(circuit.draw())"
   ]
  }
 ],
 "metadata": {
  "kernelspec": {
   "display_name": "Quantum_Computing_venv",
   "language": "python",
   "name": "quantum_computing_venv"
  },
  "language_info": {
   "codemirror_mode": {
    "name": "ipython",
    "version": 3
   },
   "file_extension": ".py",
   "mimetype": "text/x-python",
   "name": "python",
   "nbconvert_exporter": "python",
   "pygments_lexer": "ipython3",
   "version": "3.12.6"
  }
 },
 "nbformat": 4,
 "nbformat_minor": 5
}
