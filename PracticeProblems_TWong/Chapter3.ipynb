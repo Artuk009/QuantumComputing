{
 "cells": [
  {
   "cell_type": "code",
   "execution_count": 1,
   "id": "587623c3-6f04-4b91-b4b1-b9367ffefd8f",
   "metadata": {},
   "outputs": [
    {
     "data": {
      "application/javascript": [
       "// Copyright (c) Microsoft Corporation.\n",
       "// Licensed under the MIT License.\n",
       "\n",
       "// This file provides CodeMirror syntax highlighting for Q# magic cells\n",
       "// in classic Jupyter Notebooks. It does nothing in other (Jupyter Notebook 7,\n",
       "// VS Code, Azure Notebooks, etc.) environments.\n",
       "\n",
       "// Detect the prerequisites and do nothing if they don't exist.\n",
       "if (window.require && window.CodeMirror && window.Jupyter) {\n",
       "  // The simple mode plugin for CodeMirror is not loaded by default, so require it.\n",
       "  window.require([\"codemirror/addon/mode/simple\"], function defineMode() {\n",
       "    let rules = [\n",
       "      {\n",
       "        token: \"comment\",\n",
       "        regex: /(\\/\\/).*/,\n",
       "        beginWord: false,\n",
       "      },\n",
       "      {\n",
       "        token: \"string\",\n",
       "        regex: String.raw`^\\\"(?:[^\\\"\\\\]|\\\\[\\s\\S])*(?:\\\"|$)`,\n",
       "        beginWord: false,\n",
       "      },\n",
       "      {\n",
       "        token: \"keyword\",\n",
       "        regex: String.raw`(namespace|open|as|operation|function|body|adjoint|newtype|controlled|internal)\\b`,\n",
       "        beginWord: true,\n",
       "      },\n",
       "      {\n",
       "        token: \"keyword\",\n",
       "        regex: String.raw`(if|elif|else|repeat|until|fixup|for|in|return|fail|within|apply)\\b`,\n",
       "        beginWord: true,\n",
       "      },\n",
       "      {\n",
       "        token: \"keyword\",\n",
       "        regex: String.raw`(Adjoint|Controlled|Adj|Ctl|is|self|auto|distribute|invert|intrinsic)\\b`,\n",
       "        beginWord: true,\n",
       "      },\n",
       "      {\n",
       "        token: \"keyword\",\n",
       "        regex: String.raw`(let|set|use|borrow|mutable)\\b`,\n",
       "        beginWord: true,\n",
       "      },\n",
       "      {\n",
       "        token: \"operatorKeyword\",\n",
       "        regex: String.raw`(not|and|or)\\b|(w/)`,\n",
       "        beginWord: true,\n",
       "      },\n",
       "      {\n",
       "        token: \"operatorKeyword\",\n",
       "        regex: String.raw`(=)|(!)|(<)|(>)|(\\+)|(-)|(\\*)|(/)|(\\^)|(%)|(\\|)|(&&&)|(~~~)|(\\.\\.\\.)|(\\.\\.)|(\\?)`,\n",
       "        beginWord: false,\n",
       "      },\n",
       "      {\n",
       "        token: \"meta\",\n",
       "        regex: String.raw`(Int|BigInt|Double|Bool|Qubit|Pauli|Result|Range|String|Unit)\\b`,\n",
       "        beginWord: true,\n",
       "      },\n",
       "      {\n",
       "        token: \"atom\",\n",
       "        regex: String.raw`(true|false|Pauli(I|X|Y|Z)|One|Zero)\\b`,\n",
       "        beginWord: true,\n",
       "      },\n",
       "    ];\n",
       "    let simpleRules = [];\n",
       "    for (let rule of rules) {\n",
       "      simpleRules.push({\n",
       "        token: rule.token,\n",
       "        regex: new RegExp(rule.regex, \"g\"),\n",
       "        sol: rule.beginWord,\n",
       "      });\n",
       "      if (rule.beginWord) {\n",
       "        // Need an additional rule due to the fact that CodeMirror simple mode doesn't work with ^ token\n",
       "        simpleRules.push({\n",
       "          token: rule.token,\n",
       "          regex: new RegExp(String.raw`\\W` + rule.regex, \"g\"),\n",
       "          sol: false,\n",
       "        });\n",
       "      }\n",
       "    }\n",
       "\n",
       "    // Register the mode defined above with CodeMirror\n",
       "    window.CodeMirror.defineSimpleMode(\"qsharp\", { start: simpleRules });\n",
       "    window.CodeMirror.defineMIME(\"text/x-qsharp\", \"qsharp\");\n",
       "\n",
       "    // Tell Jupyter to associate %%qsharp magic cells with the qsharp mode\n",
       "    window.Jupyter.CodeCell.options_default.highlight_modes[\"qsharp\"] = {\n",
       "      reg: [/^%%qsharp/],\n",
       "    };\n",
       "\n",
       "    // Force re-highlighting of all cells the first time this code runs\n",
       "    for (const cell of window.Jupyter.notebook.get_cells()) {\n",
       "      cell.auto_highlight();\n",
       "    }\n",
       "  });\n",
       "}\n"
      ],
      "text/plain": []
     },
     "metadata": {},
     "output_type": "display_data"
    }
   ],
   "source": [
    "# Author: Brent Artuch\n",
    "# Date: 2024-10-09\n",
    "\n",
    "import sympy as sp\n",
    "import numpy as np \n",
    "from IPython.display import *\n",
    "\n",
    "import qsharp\n",
    "from qiskit.quantum_info import Operator, Statevector\n",
    "\n",
    "sp.init_printing()"
   ]
  },
  {
   "cell_type": "markdown",
   "id": "d768ea36-6a88-4124-ace9-b0922af952bd",
   "metadata": {},
   "source": [
    "## Column Vectors\n",
    "3.1 - A qubit has the following state: <br>\n",
    "\\begin{align*}\n",
    "\\frac{1}{2}\\ket{0}-\\frac{\\sqrt{3}}{2}\\ket{1}\n",
    "\\end{align*}\n",
    "Write the state as a column vector:<br>\n",
    "Answer:<br>\n",
    "\\begin{align*}\n",
    "\\ket{\\psi}=\\frac{1}{2}\\ket{0}-\\frac{\\sqrt{3}}{2}\\ket{1}=\\frac{1}{2}\\begin{bmatrix} 1 \\\\ 0\\end{bmatrix}-\\frac{\\sqrt{3}}{2}\\begin{bmatrix} 0 \\\\ 1\\end{bmatrix}=\\begin{bmatrix} \\frac{1}{2} \\\\ 0\\end{bmatrix}+\\begin{bmatrix} 0 \\\\ -\\frac{\\sqrt{3}}{2}\\end{bmatrix}=\\begin{bmatrix} \\frac{1}{2} \\\\ -\\frac{\\sqrt{3}}{2}\\end{bmatrix}\n",
    "\\end{align*}"
   ]
  },
  {
   "cell_type": "code",
   "execution_count": 2,
   "id": "ed3ae94f-aa22-4cf9-aab3-84c8f0028eb2",
   "metadata": {},
   "outputs": [
    {
     "data": {
      "image/png": "[encoded data removed]",
      "text/latex": [
       "$\\displaystyle \\left[\\begin{matrix}\\frac{1}{2}\\\\- \\frac{\\sqrt{3}}{2}\\end{matrix}\\right]$"
      ],
      "text/plain": [
       "⎡1/2 ⎤\n",
       "⎢    ⎥\n",
       "⎢-√3 ⎥\n",
       "⎢────⎥\n",
       "⎣ 2  ⎦"
      ]
     },
     "execution_count": 2,
     "metadata": {},
     "output_type": "execute_result"
    }
   ],
   "source": [
    "# Using code\n",
    "psi = Statevector([1/2,-sp.sqrt(3)/2])\n",
    "column_vector = sp.Matrix([[sp.nsimplify(psi[0])],[sp.nsimplify(psi[1])]])\n",
    "column_vector"
   ]
  },
  {
   "cell_type": "markdown",
   "id": "e843d980-b3be-43eb-ad7b-a4d79398199e",
   "metadata": {},
   "source": [
    "3.2 - A qubit is in the following state: <br>\n",
    "\\begin{align*}\n",
    "\\begin{bmatrix}\n",
    "\\sqrt{3}/2 \\\\\n",
    "1/2\n",
    "\\end{bmatrix}\n",
    "\\end{align*}\n",
    "What are the probabilities if measured in the Z-basis:<br>\n",
    "Answer:<br>\n",
    "\\begin{align*}\n",
    "Pr(\\text{Measuring } \\ket{0})&=\\left|\\frac{\\sqrt{3}}{2}\\right|^2= \\frac{3}{4}\\\\\n",
    "Pr(\\text{Measuring } \\ket{1})&=\\left|\\frac{1}{2}\\right|^2= \\frac{1}{4}\\\\\n",
    "\\end{align*}"
   ]
  },
  {
   "cell_type": "code",
   "execution_count": 3,
   "id": "cbfe86f3-f594-4a46-93dd-18da5ec53542",
   "metadata": {},
   "outputs": [
    {
     "data": {
      "image/png": "[encoded data removed]",
      "text/latex": [
       "$\\displaystyle \\left( \\frac{3}{4}, \\  \\frac{1}{4}\\right)$"
      ],
      "text/plain": [
       "(3/4, 1/4)"
      ]
     },
     "execution_count": 3,
     "metadata": {},
     "output_type": "execute_result"
    }
   ],
   "source": [
    "# Using code\n",
    "psi = Statevector([sp.sqrt(3)/2,1/2])\n",
    "probabilities = psi.probabilities()\n",
    "probability_ket_zero = sp.nsimplify(probabilities[0])\n",
    "probability_ket_one = sp.nsimplify(probabilities[1])\n",
    "probability_ket_zero, probability_ket_one"
   ]
  },
  {
   "cell_type": "markdown",
   "id": "0e369ef2-bab3-4d50-bf99-21f36c572f4c",
   "metadata": {},
   "source": [
    "## Row Vectors\n",
    "3.3 - Consider the following states: <br>\n",
    "\\begin{align*}\n",
    "\\ket{a}=\\frac{\\sqrt{3}}{2}\\ket{0}+\\frac{1}{2}\\ket{1}, \\ \\ \\ket{b}=\\frac{2}{3}\\ket{0}+\\frac{1-2i}{3}\\ket{1}\n",
    "\\end{align*}\n",
    "What are $\\bra{a}$ and $\\bra{b}$?<br>\n",
    "Answer:<br>\n",
    "\\begin{align*}\n",
    "\\bra{a}&=\n",
    "\\begin{bmatrix}\n",
    "\\frac{\\sqrt{3}}{2} \\\\\n",
    "\\frac{1}{2}\n",
    "\\end{bmatrix}^\\dagger=\n",
    "\\begin{bmatrix}\n",
    "\\frac{\\sqrt{3}}{2}^* &\n",
    "\\frac{1}{2}^*\n",
    "\\end{bmatrix}=\n",
    "\\begin{bmatrix}\n",
    "\\frac{\\sqrt{3}}{2} &\n",
    "\\frac{1}{2}\n",
    "\\end{bmatrix}\\\\\n",
    "\\bra{b}&=\n",
    "\\begin{bmatrix}\n",
    "\\frac{2}{3} \\\\\n",
    "\\frac{1-2i}{3}\n",
    "\\end{bmatrix}^\\dagger=\n",
    "\\begin{bmatrix}\n",
    "\\frac{2}{3}^* &\n",
    "\\frac{1-2i}{3}^*\n",
    "\\end{bmatrix}=\n",
    "\\begin{bmatrix}\n",
    "\\frac{2}{3} &\n",
    "\\frac{1+2i}{3}\n",
    "\\end{bmatrix}\n",
    "\\end{align*}"
   ]
  },
  {
   "cell_type": "code",
   "execution_count": 4,
   "id": "d0b56c4a-5c42-4862-a518-321aa4756ecc",
   "metadata": {},
   "outputs": [
    {
     "data": {
      "image/png": "[encoded data removed]",
      "text/latex": [
       "$\\displaystyle \\left[\\begin{matrix}\\frac{2}{3} & \\frac{1}{3} + \\frac{2 i}{3}\\end{matrix}\\right]$"
      ],
      "text/plain": [
       "⎡     1   2⋅ⅈ⎤\n",
       "⎢2/3  ─ + ───⎥\n",
       "⎣     3    3 ⎦"
      ]
     },
     "execution_count": 4,
     "metadata": {},
     "output_type": "execute_result"
    }
   ],
   "source": [
    "# Using code\n",
    "ket_b = Statevector([2/3,(1 -sp.I*2)/3])\n",
    "alpha_conjugate = sp.conjugate(ket_b[0])\n",
    "beta_conjugate = sp.conjugate(ket_b[1])\n",
    "row_vector = sp.Matrix([[sp.nsimplify(alpha_conjugate),sp.nsimplify(beta_conjugate)]])\n",
    "row_vector"
   ]
  },
  {
   "cell_type": "markdown",
   "id": "f816bd6a-b076-4c0c-9d7d-89b21dec1b2c",
   "metadata": {},
   "source": [
    "## Inner Products\n",
    "3.4 - Consider:<br>\n",
    "\\begin{align*}\n",
    "\\ket{a}=\\frac{3+i\\sqrt{3}}{4}\\ket{0}+\\frac{1}{2}\\ket{1}, \\ \\ \\ket{b}=\\frac{1}{4}\\ket{0}+\\frac{\\sqrt{15}}{4}\\ket{1}\n",
    "\\end{align*}\n",
    "Find $\\braket{a|b}$ and $\\braket{b|a}$:<br>\n",
    "Answer: <br>\n",
    "\\begin{align*}\n",
    "\\braket{a|b}&= \n",
    "\\begin{bmatrix} \\frac{3+i\\sqrt{3}}{4}^* & \\frac{1}{2}^*\\end{bmatrix} \\begin{bmatrix} \\frac{1}{4} \\\\ \\frac{\\sqrt{15}}{4}\\end{bmatrix} =\n",
    "\\begin{bmatrix} \\frac{3-i\\sqrt{3}}{4} & \\frac{1}{2}\\end{bmatrix} \\begin{bmatrix} \\frac{1}{4} \\\\ \\frac{\\sqrt{15}}{4}\\end{bmatrix} = \\frac{3-i\\sqrt{3}}{4}\\left(\\frac{1}{4}\\right) + \\frac{1}{2}\\left(\\frac{\\sqrt{15}}{4}\\right) = \\frac{3-i\\sqrt{3}}{16}+ \\frac{\\sqrt{15}}{8}= \\frac{3-i\\sqrt{3} + 2\\sqrt{15}}{16}\n",
    "\\end{align*}\n",
    "\\begin{align*}\n",
    "\\braket{b|a}&= \n",
    "\\begin{bmatrix} \\frac{1}{4}^* & \\frac{\\sqrt{15}}{4}^*\\end{bmatrix} \\begin{bmatrix} \\frac{3+i\\sqrt{3}}{4} \\\\ \\frac{1}{2}\\end{bmatrix} =\n",
    "\\begin{bmatrix} \\frac{1}{4} & \\frac{\\sqrt{15}}{4}\\end{bmatrix} \\begin{bmatrix} \\frac{3+i\\sqrt{3}}{4} \\\\ \\frac{1}{2}\\end{bmatrix} = \\frac{1}{4}\\left(\\frac{3+i\\sqrt{3}}{4}\\right) + \\frac{\\sqrt{15}}{4}\\left(\\frac{1}{2}\\right) = \\frac{3+i\\sqrt{3}}{16}+ \\frac{\\sqrt{15}}{8}= \\frac{3+i\\sqrt{3} + 2\\sqrt{15}}{16}\n",
    "\\end{align*}\n",
    "Notice that $\\braket{a|b}$ = $\\braket{b|a}^*$ and $\\braket{b|a}$ = $\\braket{a|b}^*$"
   ]
  },
  {
   "cell_type": "code",
   "execution_count": 5,
   "id": "567b9555-d7eb-4d58-bdd9-f00b12e1252e",
   "metadata": {},
   "outputs": [
    {
     "data": {
      "text/plain": [
       "(True, True, np.True_, np.True_)"
      ]
     },
     "execution_count": 5,
     "metadata": {},
     "output_type": "execute_result"
    }
   ],
   "source": [
    "# Using code \n",
    "ket_a = Statevector([(3+1.0j*np.sqrt(3))/4,(1/2)])\n",
    "ket_b = Statevector([1/4,np.sqrt(15)/4])\n",
    "\n",
    "braket_ab_expected_result = (3-1.0j*np.sqrt(3)+2*np.sqrt(15)) / 16\n",
    "braket_ba_expected_result = (3+1.0j*np.sqrt(3)+2*np.sqrt(15)) / 16\n",
    "\n",
    "braket_ab = complex(ket_a.inner(ket_b))\n",
    "braket_ba = complex(ket_b.inner(ket_a))\n",
    "\n",
    "braket_ab_conjugate = np.conjugate(braket_ab)\n",
    "braket_ba_conjugate = np.conjugate(braket_ba)\n",
    "\n",
    "braket_ab == braket_ab_expected_result, braket_ba == braket_ba_expected_result, braket_ba == braket_ab_conjugate, braket_ab == braket_ba_conjugate"
   ]
  },
  {
   "cell_type": "markdown",
   "id": "38fde63f-3cfa-45a3-8632-08aad7fa7250",
   "metadata": {},
   "source": [
    "## Orthonormality\n",
    "3.5 - Consider a qubit with the following state:<br>\n",
    "\\begin{align*}\n",
    "\\ket{\\psi}=A(2\\ket{0}+3i\\ket{1})\n",
    "\\end{align*}\n",
    "Calculate $\\braket{\\psi|\\psi}$ and find a value of $A$ that normalizes $\\ket{\\psi}$.<br>\n",
    "Answer:<br>\n",
    "\\begin{align*}\n",
    "\\braket{\\psi|\\psi}&=\\begin{bmatrix} 2A^* & 3Ai^*\\end{bmatrix}\\begin{bmatrix} 2A \\\\ 3Ai\\end{bmatrix}=\\begin{bmatrix} 2A & -3Ai\\end{bmatrix}\\begin{bmatrix} 2A \\\\ 3Ai\\end{bmatrix}\\\\\n",
    "&=4|A|^2-6Ai+6Ai=9|A|^2=13|A|^2\n",
    "\\end{align*}\n",
    "Now we can easily find the value of $A$ that normalizes $\\ket{\\psi}$:\n",
    "\\begin{align*}\n",
    "13|A|^2&=1\\\\\n",
    "|A|^2&=\\frac{1}{13}\\\\\n",
    "A&=\\frac{1}{\\sqrt{13}}\n",
    "\\end{align*}"
   ]
  },
  {
   "cell_type": "code",
   "execution_count": 6,
   "id": "6f3f483a-1acd-475c-b2c0-f8873c2c3ac1",
   "metadata": {},
   "outputs": [
    {
     "data": {
      "image/png": "[encoded data removed]",
      "text/latex": [
       "$\\displaystyle \\left( \\frac{\\sqrt{13}}{13}, \\  1.0\\right)$"
      ],
      "text/plain": [
       "⎛√13     ⎞\n",
       "⎜───, 1.0⎟\n",
       "⎝13      ⎠"
      ]
     },
     "execution_count": 6,
     "metadata": {},
     "output_type": "execute_result"
    }
   ],
   "source": [
    "# With code\n",
    "ket_psi = Statevector([2,3*1.0j])\n",
    "inner_product = ket_psi.inner(ket_psi)\n",
    "A_squared = 1 / inner_product.item()\n",
    "A = sp.sqrt(A_squared)\n",
    "\n",
    "# Check that inner product is now 1 after normalization\n",
    "ket_psi_normalized = Statevector([1/np.sqrt(13)*ket_psi[0], 1/np.sqrt(13)*ket_psi[1]])\n",
    "inner_product = ket_psi_normalized.inner(ket_psi_normalized)\n",
    "sp.nsimplify(A), inner_product.item().real"
   ]
  },
  {
   "cell_type": "markdown",
   "id": "3591fdd9-c32c-481e-b1c6-5cf11a2ff4b4",
   "metadata": {},
   "source": [
    "3.7 - Consider:<br>\n",
    "\\begin{align*}\n",
    "\\ket{a}&=\\frac{3+i\\sqrt{3}}{4}\\ket{0}+\\frac{1}{2}\\ket{1}\\\\\n",
    "\\ket{b}&=\\frac{1}{4}\\ket{0}+x\\ket{1}\n",
    "\\end{align*}\n",
    "a) Find $x$ so that $\\ket{a}$ and $\\ket{b}$ are orthogonal.<br>\n",
    "Answer:<br>\n",
    "\\begin{align*}\n",
    "\\braket{a|b}&=\\begin{bmatrix} \\frac{3+i\\sqrt{3}}{4}^* & \\frac{1}{2}^*\\end{bmatrix}\\begin{bmatrix} \\frac{1}{4} \\\\ x\\end{bmatrix}=\\begin{bmatrix} \\frac{3-i\\sqrt{3}}{4} & \\frac{1}{2}\\end{bmatrix}\\begin{bmatrix} \\frac{1}{4} \\\\ x\\end{bmatrix}\\\\\n",
    "&=\\frac{3-i\\sqrt{3}}{16}+\\frac{x}{2}\\\\\n",
    "x&=-2\\left(\\frac{3-i\\sqrt{3}}{16}\\right)\\\\\n",
    "x&=\\frac{-3+i\\sqrt{3}}{8}\n",
    "\\end{align*}"
   ]
  },
  {
   "cell_type": "code",
   "execution_count": 7,
   "id": "10728863-7c31-4b9f-80c0-9cbfa16a5f24",
   "metadata": {},
   "outputs": [
    {
     "data": {
      "image/png": "[encoded data removed]",
      "text/latex": [
       "$\\displaystyle 0.0$"
      ],
      "text/plain": [
       "0.0"
      ]
     },
     "execution_count": 7,
     "metadata": {},
     "output_type": "execute_result"
    }
   ],
   "source": [
    "# Plug in x\n",
    "x = (-3+1.0j*np.sqrt(3))/8\n",
    "ket_a = Statevector([(3+1.0j*np.sqrt(3))/4, 1/2])\n",
    "ket_b = Statevector([1/4, x])\n",
    "ket_a.inner(ket_b).item().real"
   ]
  },
  {
   "cell_type": "markdown",
   "id": "298ad858-3524-4c1b-84b8-cd2b69cf3aff",
   "metadata": {},
   "source": [
    "## Projection, Measurement, and Change of Basis\n",
    "3.9 - Consider a qubit in the following state:<br>\n",
    "\\begin{align*}\n",
    "\\ket{\\psi}=\\frac{\\sqrt{3}}{2}\\ket{0}+\\frac{1}{2}\\ket{1}\n",
    "\\end{align*}\n",
    "Consider meeasuring theis qubit in the $Y$-basis $\\{\\ket{i}, \\ket{-i}\\}$ and the orthonormal basis $\\{\\ket{a}, \\ket{b}\\}$, where:<br>\n",
    "\\begin{align*}\n",
    "\\ket{a}=\\frac{\\sqrt{3}}{2}\\ket{0}+\\frac{i}{2}\\ket{1}\\\\\n",
    "\\ket{b}=\\frac{i}{2}\\ket{0}+\\frac{\\sqrt{3}}{2}\\ket{1}\\\\\n",
    "\\end{align*}\n",
    "a) Calculate $\\braket{i|\\psi}$ and $\\braket{-i|\\psi}$ as well as their probabilities in the $Y$-basis.<br>\n",
    "Answer:"
   ]
  },
  {
   "cell_type": "code",
   "execution_count": 8,
   "id": "88f49a28-5b0a-4b5a-a9e7-afd68d1c8caf",
   "metadata": {},
   "outputs": [
    {
     "data": {
      "image/png": "[encoded data removed]",
      "text/latex": [
       "$\\displaystyle \\left( \\frac{\\sqrt{6}}{4} + \\frac{\\sqrt{2} i}{4}, \\  \\frac{\\sqrt{6}}{4} - \\frac{\\sqrt{2} i}{4}, \\  \\frac{1}{2}, \\  \\frac{1}{2}\\right)$"
      ],
      "text/plain": [
       "⎛√6   √2⋅ⅈ  √6   √2⋅ⅈ          ⎞\n",
       "⎜── + ────, ── - ────, 1/2, 1/2⎟\n",
       "⎝4     4    4     4            ⎠"
      ]
     },
     "execution_count": 8,
     "metadata": {},
     "output_type": "execute_result"
    }
   ],
   "source": [
    "# With Code\n",
    "# Define states\n",
    "ket_psi = Statevector([np.sqrt(3)/2, 1/2])\n",
    "ket_i = Statevector([1/np.sqrt(2), 1.0j/np.sqrt(2)])\n",
    "ket_minus_i = Statevector([1/np.sqrt(2), -1.0j/np.sqrt(2)])\n",
    "\n",
    "# Inner Products\n",
    "braket_i_psi = sp.nsimplify(ket_psi.inner(ket_i).item())\n",
    "braket_minus_i_psi = sp.nsimplify(ket_psi.inner(ket_minus_i).item())\n",
    "\n",
    "# Probabilities\n",
    "probability_i = sp.expand(braket_i_psi*sp.conjugate(braket_i_psi))\n",
    "probability_minus_i = sp.expand(braket_minus_i_psi*sp.conjugate(braket_minus_i_psi))\n",
    "\n",
    "braket_i_psi,braket_minus_i_psi,probability_i,probability_minus_i"
   ]
  },
  {
   "cell_type": "markdown",
   "id": "c001eeb5-588c-48aa-b6f9-ac50020e2657",
   "metadata": {},
   "source": [
    "b) Calculate $\\braket{a|\\psi}$ and $\\braket{b|\\psi}$ as well as their probabilities in the $\\{\\ket{a},\\ket{b}\\}$ basis.<br>\n",
    "Answer:"
   ]
  },
  {
   "cell_type": "code",
   "execution_count": 9,
   "id": "e479afd4-9231-441c-9cc8-b789de4ffeac",
   "metadata": {},
   "outputs": [
    {
     "data": {
      "image/png": "[encoded data removed]",
      "text/latex": [
       "$\\displaystyle \\left( \\frac{3}{4} + \\frac{i}{4}, \\  \\frac{\\sqrt{3}}{4} + \\frac{\\sqrt{3} i}{4}, \\  \\frac{5}{8}, \\  \\frac{3}{8}\\right)$"
      ],
      "text/plain": [
       "⎛3   ⅈ  √3   √3⋅ⅈ          ⎞\n",
       "⎜─ + ─, ── + ────, 5/8, 3/8⎟\n",
       "⎝4   4  4     4            ⎠"
      ]
     },
     "execution_count": 9,
     "metadata": {},
     "output_type": "execute_result"
    }
   ],
   "source": [
    "# Define states\n",
    "ket_a = Statevector([np.sqrt(3)/2, 1.0j/2])\n",
    "ket_b = Statevector([1.0j/2,np.sqrt(3)/2])\n",
    "\n",
    "# Inner Products\n",
    "braket_a_psi = sp.nsimplify(ket_psi.inner(ket_a).item())\n",
    "braket_b_psi = sp.nsimplify(ket_psi.inner(ket_b).item())\n",
    "\n",
    "# Probabilities\n",
    "probability_a = sp.expand(braket_a_psi*sp.conjugate(braket_a_psi))\n",
    "probability_b = sp.expand(braket_b_psi*sp.conjugate(braket_b_psi))\n",
    "\n",
    "braket_a_psi,braket_b_psi,probability_a,probability_b"
   ]
  },
  {
   "cell_type": "markdown",
   "id": "ca6c1d29-c3af-4c67-a0c3-56d314cdc194",
   "metadata": {},
   "source": [
    "3.10 - Consider the following state:<br>\n",
    "\\begin{align*}\n",
    "\\ket{\\psi}=\\frac{3+i\\sqrt{3}}{4}\\ket{0}-\\frac{1}{2}\\ket{1}\n",
    "\\end{align*}\n",
    "a) Measure in the $Z$-basis $\\{\\ket{0},\\ket{1}\\}$.<br>\n",
    "Answer:"
   ]
  },
  {
   "cell_type": "code",
   "execution_count": 10,
   "id": "00752e08-7cbe-4526-81e9-61bf29095b08",
   "metadata": {},
   "outputs": [
    {
     "data": {
      "image/png": "[encoded data removed]",
      "text/latex": [
       "$\\displaystyle \\left( \\frac{3}{4} - \\frac{\\sqrt{3} i}{4}, \\  - \\frac{1}{2}, \\  \\frac{3}{4}, \\  \\frac{1}{4}\\right)$"
      ],
      "text/plain": [
       "⎛3   √3⋅ⅈ                ⎞\n",
       "⎜─ - ────, -1/2, 3/4, 1/4⎟\n",
       "⎝4    4                  ⎠"
      ]
     },
     "execution_count": 10,
     "metadata": {},
     "output_type": "execute_result"
    }
   ],
   "source": [
    "ket_psi = Statevector([(3+1.0j*np.sqrt(3))/4,-1/2])\n",
    "\n",
    "# X Basis\n",
    "ket_0 = Statevector([1,0])\n",
    "ket_1 = Statevector([0,1])\n",
    "\n",
    "# Inner Products\n",
    "braket_0_psi = sp.nsimplify(ket_psi.inner(ket_0).item())\n",
    "braket_1_psi = sp.nsimplify(ket_psi.inner(ket_1).item())\n",
    "\n",
    "# Probabilities\n",
    "probability_0 = sp.expand(braket_0_psi*sp.conjugate(braket_0_psi))\n",
    "probability_1 = sp.expand(braket_1_psi*sp.conjugate(braket_1_psi))\n",
    "\n",
    "braket_0_psi,braket_1_psi,probability_0,probability_1"
   ]
  },
  {
   "cell_type": "markdown",
   "id": "12c8cbbe-97c1-4da3-bbad-376d52ce6af2",
   "metadata": {},
   "source": [
    "b) Measure in the $X$-basis $\\{\\ket{+},\\ket{-}\\}$.<br>\n",
    "Answer:"
   ]
  },
  {
   "cell_type": "code",
   "execution_count": 11,
   "id": "2e1c35bc-e408-4ffc-b685-55c822d8ac8f",
   "metadata": {},
   "outputs": [
    {
     "data": {
      "image/png": "[encoded data removed]",
      "text/latex": [
       "$\\displaystyle \\left( \\frac{\\sqrt{2}}{8} - \\frac{\\sqrt{6} i}{8}, \\  \\frac{5 \\sqrt{2}}{8} - \\frac{\\sqrt{6} i}{8}, \\  \\frac{1}{8}, \\  \\frac{7}{8}\\right)$"
      ],
      "text/plain": [
       "⎛√2   √6⋅ⅈ  5⋅√2   √6⋅ⅈ          ⎞\n",
       "⎜── - ────, ──── - ────, 1/8, 7/8⎟\n",
       "⎝8     8     8      8            ⎠"
      ]
     },
     "execution_count": 11,
     "metadata": {},
     "output_type": "execute_result"
    }
   ],
   "source": [
    "# H-gate\n",
    "H = Operator([[1 / np.sqrt(2), 1 / np.sqrt(2)], [1 / np.sqrt(2), -1 / np.sqrt(2)]])\n",
    "\n",
    "# X-basis\n",
    "ket_plus = ket_0.evolve(H)\n",
    "ket_minus = ket_1.evolve(H)\n",
    "\n",
    "# Inner Products\n",
    "braket_plus_psi = sp.nsimplify(ket_psi.inner(ket_plus).item())\n",
    "braket_minus_psi = sp.nsimplify(ket_psi.inner(ket_minus).item())\n",
    "\n",
    "# Probabilities\n",
    "probability_plus = sp.expand(braket_plus_psi*sp.conjugate(braket_plus_psi))\n",
    "probability_minus = sp.expand(braket_minus_psi*sp.conjugate(braket_minus_psi))\n",
    "\n",
    "braket_plus_psi,braket_minus_psi,probability_plus,probability_minus"
   ]
  },
  {
   "cell_type": "markdown",
   "id": "14ac6432-f65e-41e1-9b69-33b53628c759",
   "metadata": {},
   "source": [
    "c) Measure in the $Y$-basis $\\{\\ket{i},\\ket{-i}\\}$.<br>\n",
    "Answer:"
   ]
  },
  {
   "cell_type": "code",
   "execution_count": 12,
   "id": "98638193-a0cb-4b66-91ea-5cf8b8b62182",
   "metadata": {},
   "outputs": [
    {
     "data": {
      "text/plain": [
       "((0.5303300858899106-0.659739608441171j),\n",
       " (0.5303300858899106+0.047367172745376496j),\n",
       " 0.717,\n",
       " 0.283)"
      ]
     },
     "execution_count": 12,
     "metadata": {},
     "output_type": "execute_result"
    }
   ],
   "source": [
    "# S-gate\n",
    "S = Operator([[1, 0], [0, 1.0j]])\n",
    "\n",
    "# Y-basis\n",
    "ket_i = ket_plus.evolve(S)\n",
    "ket_minus_i = ket_minus.evolve(S)\n",
    "\n",
    "# Inner Products\n",
    "braket_i_psi = ket_psi.inner(ket_i).item()\n",
    "braket_minus_i_psi = ket_psi.inner(ket_minus_i).item()\n",
    "\n",
    "# Probabilities\n",
    "probability_i = round(sp.expand(braket_i_psi*sp.conjugate(braket_i_psi)),3)\n",
    "probability_minus_i = round(sp.expand(braket_minus_i_psi*sp.conjugate(braket_minus_i_psi)),3)\n",
    "\n",
    "braket_i_psi,braket_minus_i_psi,probability_i,probability_minus_i"
   ]
  },
  {
   "cell_type": "markdown",
   "id": "7a064fc0-24a1-4d00-a59f-454373d2d242",
   "metadata": {},
   "source": [
    "## Quantum Gates\n",
    "3.12 - Consider an operator $U$ performs the following mapping on the $Z$-basis states:<br>\n",
    "\\begin{align*}\n",
    "U\\ket{0}=\\frac{1}{\\sqrt{2}}\\begin{bmatrix} 1 \\\\ -i \\end{bmatrix}, \\ \\ \\ U\\ket{1}=\\frac{1}{\\sqrt{2}}\\begin{bmatrix} -i \\\\ 1 \\end{bmatrix},\n",
    "\\end{align*}\n",
    "a) What is $U$ as a matrix:<br>\n",
    "Answer:<br>\n",
    "\\begin{align*}\n",
    "U=\\frac{1}{\\sqrt{2}}\\begin{bmatrix} 1 & -i \\\\ -i & 1 \\end{bmatrix}\n",
    "\\end{align*}\n",
    "b) What is $U\\begin{bmatrix} \\alpha \\\\ \\beta \\end{bmatrix}$?<br>\n",
    "Answer:<br>\n",
    "\\begin{align*}\n",
    "U\\begin{bmatrix} \\alpha \\\\ \\beta \\end{bmatrix}=\\frac{1}{\\sqrt{2}}\\begin{bmatrix} 1 & -i \\\\ -i & 1 \\end{bmatrix}\\begin{bmatrix} \\alpha \\\\ \\beta \\end{bmatrix}=\\frac{1}{\\sqrt{2}}\\begin{bmatrix} \\alpha & -i\\beta \\\\ -i\\alpha & \\beta \\end{bmatrix}\n",
    "\\end{align*}\n",
    "c) Is $U$ a valid quantum gate?<br>\n",
    "Answer:<br>\n",
    "Check that the sum of the amplitudes squared is equal to 1.\n",
    "\\begin{align*}\n",
    "1&=\\left|\\frac{\\alpha - i\\beta}{\\sqrt{2}}\\right|^2+\\left|\\frac{-i\\alpha + \\beta}{\\sqrt{2}}\\right|^2\\\\\n",
    "&=\\frac{\\alpha - i\\beta}{\\sqrt{2}}\\left(\\frac{\\alpha - i\\beta}{\\sqrt{2}}\\right)^*+\\frac{-i\\alpha + \\beta}{\\sqrt{2}}\\left(\\frac{-i\\alpha + \\beta}{\\sqrt{2}}\\right)^*\\\\\n",
    "&=\\frac{\\alpha - i\\beta}{\\sqrt{2}}\\left(\\frac{\\alpha + i\\beta}{\\sqrt{2}}\\right)+\\frac{-i\\alpha + \\beta}{\\sqrt{2}}\\left(\\frac{i\\alpha + \\beta}{\\sqrt{2}}\\right)\\\\\n",
    "&=\\frac{|a|^2+|\\beta|^2}{2}+\\frac{|a|^2+|\\beta|^2}{2}=\\frac{2(|a|^2+|\\beta|^2)}{2}=|a|^2+|\\beta|^2\n",
    "\\end{align*}\n",
    "Therefore, $U$ is a valid quantum gate."
   ]
  }
 ],
 "metadata": {
  "kernelspec": {
   "display_name": "Quantum_Computing_venv",
   "language": "python",
   "name": "quantum_computing_venv"
  },
  "language_info": {
   "codemirror_mode": {
    "name": "ipython",
    "version": 3
   },
   "file_extension": ".py",
   "mimetype": "text/x-python",
   "name": "python",
   "nbconvert_exporter": "python",
   "pygments_lexer": "ipython3",
   "version": "3.12.7"
  }
 },
 "nbformat": 4,
 "nbformat_minor": 5
}
