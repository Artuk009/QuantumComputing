{
 "cells": [
  {
   "cell_type": "markdown",
   "id": "bcaee3ed-1462-42cd-bb63-51d347fa7573",
   "metadata": {},
   "source": [
    "## Classical Boolean Logic\n",
    "<p style=\"text-align: center\">AND Gate</p>\n",
    "\\begin{array}{|c c|c|}\n",
    "x_0 & x_1 & x_0 \\land x_1\\\\ \n",
    "\\hline % Put a horizontal line between the table header and the rest.\n",
    "0 & 0 & 0\\\\\n",
    "0 & 1 & 0\\\\\n",
    "1 & 0 & 0\\\\\n",
    "1 & 1 & 1\\\\\n",
    "\\end{array}\n",
    "\n",
    "<p style=\"text-align: center\">OR Gate</p>\n",
    "\\begin{array}{|c c|c|}\n",
    "x_0 & x_1 & x_0 \\lor x_1\\\\ \n",
    "\\hline % Put a horizontal line between the table header and the rest.\n",
    "0 & 0 & 0\\\\\n",
    "0 & 1 & 1\\\\\n",
    "1 & 0 & 1\\\\\n",
    "1 & 1 & 1\\\\\n",
    "\\end{array}\n",
    "\n",
    "<p style=\"text-align: center\">NAND Gate</p>\n",
    "\\begin{array}{|c c|c|}\n",
    "x_0 & x_1 & \\neg (x_0 \\land x_1)\\\\ \n",
    "\\hline % Put a horizontal line between the table header and the rest.\n",
    "0 & 0 & 1\\\\\n",
    "0 & 1 & 1\\\\\n",
    "1 & 0 & 1\\\\\n",
    "1 & 1 & 0\\\\\n",
    "\\end{array}\n",
    "\n",
    "<p style=\"text-align: center\">NOT Gate</p>\n",
    "\\begin{array}{|c|c|}\n",
    "x_0 & \\neg x_0\\\\ \n",
    "\\hline % Put a horizontal line between the table header and the rest.\n",
    "0 & 1\\\\\n",
    "1 & 0\\\\\n",
    "\\end{array}\n",
    "\n",
    "Quantum gates must be reversable such that $UU^\\dagger$ = $U^\\dagger U$ = $I$. Thus, for each output state there is a unique input state. <br>\n",
    "Of the given classical gates, the not gate is the only one that is reversable, therefore we can represent it as a matrix that we will label $X$. <br>\n"
   ]
  },
  {
   "cell_type": "code",
   "execution_count": 13,
   "id": "2345f210-67b3-41dc-a282-c8d073cda398",
   "metadata": {},
   "outputs": [],
   "source": [
    "from sympy import *\n",
    "from sympy.physics.quantum import *\n",
    "from sympy.physics.quantum.circuitplot import circuit_plot\n",
    "from sympy.physics.quantum.qubit import * # Package allows for easy quibit creation\n",
    "from sympy.physics.quantum.gate import * # easy gate reference\n",
    "init_printing()"
   ]
  },
  {
   "cell_type": "code",
   "execution_count": 8,
   "id": "52b5fb75-ca39-45ea-ba67-cd5fb18ebccf",
   "metadata": {},
   "outputs": [
    {
     "data": {
      "image/png": "[encoded data removed]",
      "text/latex": [
       "$\\displaystyle \\left( \\left[\\begin{matrix}0 & 1\\\\1 & 0\\end{matrix}\\right], \\  \\left[\\begin{matrix}b\\\\1 - b\\end{matrix}\\right], \\  \\left[\\begin{matrix}1 - b\\\\b\\end{matrix}\\right], \\  \\left[\\begin{matrix}b\\\\1 - b\\end{matrix}\\right]\\right)$"
      ],
      "text/plain": [
       "⎛⎡0  1⎤  ⎡  b  ⎤  ⎡1 - b⎤  ⎡  b  ⎤⎞\n",
       "⎜⎢    ⎥, ⎢     ⎥, ⎢     ⎥, ⎢     ⎥⎟\n",
       "⎝⎣1  0⎦  ⎣1 - b⎦  ⎣  b  ⎦  ⎣1 - b⎦⎠"
      ]
     },
     "execution_count": 8,
     "metadata": {},
     "output_type": "execute_result"
    }
   ],
   "source": [
    "# define X\n",
    "b = symbols(\"b\")\n",
    "X = Matrix([[0, 1], [1, 0]])\n",
    "ket_b = Matrix([[b], [1-b]])\n",
    "\n",
    "# Apply X gate to the state vector\n",
    "X_on_ket_b = X * ket_b\n",
    "\n",
    "# Apply X gate twice\n",
    "XX_on_ket_b = X * (X_on_ket_b)\n",
    "# Notice this flips the state back to its original value (identity), thus X is unitary.\n",
    "(X, ket_b, X_on_ket_b, XX_on_ket_b)"
   ]
  },
  {
   "cell_type": "markdown",
   "id": "47961bc8-b20e-4f74-8b71-11dd88513354",
   "metadata": {},
   "source": [
    "## Controlled Not Gate\n",
    "$\\ket{a,b} \\rightarrow \\ket{a, a \\ \\oplus \\ b}$"
   ]
  },
  {
   "cell_type": "code",
   "execution_count": 30,
   "id": "57d32e20-1057-4449-a442-da65bb6ca7d8",
   "metadata": {},
   "outputs": [
    {
     "data": {
      "text/plain": [
       "(Matrix([\n",
       " [1, 0, 0, 0],\n",
       " [0, 1, 0, 0],\n",
       " [0, 0, 0, 1],\n",
       " [0, 0, 1, 0]]),\n",
       " <sympy.physics.quantum.circuitplot.CircuitPlot at 0x1119bd660>)"
      ]
     },
     "execution_count": 30,
     "metadata": {},
     "output_type": "execute_result"
    },
    {
     "data": {
      "image/png": "[encoded data removed]",
      "text/plain": [
       "<Figure size 200x200 with 1 Axes>"
      ]
     },
     "metadata": {},
     "output_type": "display_data"
    }
   ],
   "source": [
    "# Define cnot gate from python library\n",
    "c = CNOT(1,0)\n",
    "\n",
    "# Show matrix and quantum circuit representation\n",
    "(represent(c, nqubits=2), circuit_plot(c, nqubits=2))"
   ]
  },
  {
   "cell_type": "code",
   "execution_count": null,
   "id": "8ab45808-ac00-4827-a6e5-60424a2e2d20",
   "metadata": {},
   "outputs": [],
   "source": []
  }
 ],
 "metadata": {
  "kernelspec": {
   "display_name": "Quantum_Computing_venv",
   "language": "python",
   "name": "quantum_computing_venv"
  },
  "language_info": {
   "codemirror_mode": {
    "name": "ipython",
    "version": 3
   },
   "file_extension": ".py",
   "mimetype": "text/x-python",
   "name": "python",
   "nbconvert_exporter": "python",
   "pygments_lexer": "ipython3",
   "version": "3.10.14"
  }
 },
 "nbformat": 4,
 "nbformat_minor": 5
}
