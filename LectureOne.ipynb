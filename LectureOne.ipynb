{
 "cells": [
  {
   "cell_type": "code",
   "execution_count": 1,
   "id": "ed475f94-e476-41b1-b5d5-020a2aecc109",
   "metadata": {},
   "outputs": [],
   "source": [
    "# Author: Brent Artuch\n",
    "# 2024/09/12\n",
    "\n",
    "from sympy import *\n",
    "from sympy.physics.quantum import *\n",
    "from math import degrees\n",
    "from IPython.display import *"
   ]
  },
  {
   "cell_type": "markdown",
   "id": "099a6a5a-19cd-4c00-bc0a-ad0f20b3a08e",
   "metadata": {},
   "source": [
    "## Complex Numbers "
   ]
  },
  {
   "cell_type": "code",
   "execution_count": 2,
   "id": "a4c84cab-26da-4e0c-aed3-49d9552057ab",
   "metadata": {},
   "outputs": [
    {
     "data": {
      "image/png": "[encoded data removed]",
      "text/latex": [
       "$\\displaystyle \\left( a + i b, \\  -1, \\  a - i b, \\  a^{2} + b^{2}, \\  3 - 2 i, \\  13\\right)$"
      ],
      "text/plain": [
       "⎛                       2    2             ⎞\n",
       "⎝a + ⅈ⋅b, -1, a - ⅈ⋅b, a  + b , 3 - 2⋅ⅈ, 13⎠"
      ]
     },
     "execution_count": 2,
     "metadata": {},
     "output_type": "execute_result"
    }
   ],
   "source": [
    "a, b = symbols('a b')\n",
    "init_printing()\n",
    "\n",
    "# Expressed as:\n",
    "z = a + b*I\n",
    "# st a,b in R, and i is an indeterminate with:\n",
    "i_squared = I**2\n",
    "\n",
    "# Complex Conjugate: \n",
    "z_conjugate = a + (-1)*b*I\n",
    "\n",
    "# Squared Magnitude |a + bi|^2: \n",
    "z_squared_magnitude = expand(z * z_conjugate)\n",
    "\n",
    "# Example\n",
    "a_1, b_1 = 3, 2\n",
    "complex_number = a_1 + b_1*I\n",
    "conjugate_example = conjugate(complex_number)\n",
    "squared_magnitude_example = expand(complex_number * conjugate_example)\n",
    "\n",
    "(z, i_squared, z_conjugate, z_squared_magnitude, conjugate_example, squared_magnitude_example)"
   ]
  },
  {
   "cell_type": "markdown",
   "id": "f7ddb0d2-4b0d-431a-9d03-191b2f5c5227",
   "metadata": {},
   "source": [
    "## Polar Form"
   ]
  },
  {
   "cell_type": "code",
   "execution_count": 3,
   "id": "8d1b810b-0920-4d41-982a-183e2734ae16",
   "metadata": {},
   "outputs": [
    {
     "data": {
      "image/png": "[encoded data removed]",
      "text/latex": [
       "$\\displaystyle \\left( \\sqrt{a^{2} + b^{2}}, \\  \\left( r, \\  \\varphi\\right), \\  r \\left(i \\sin{\\left(\\varphi \\right)} + \\cos{\\left(\\varphi \\right)}\\right) = e^{i \\varphi} r, \\  \\sqrt{13} \\left(i \\sin{\\left(\\varphi \\right)} + \\cos{\\left(\\varphi \\right)}\\right) = \\sqrt{13} e^{i \\varphi}, \\  \\operatorname{atan}{\\left(\\frac{b}{a} \\right)}, \\  33.6900675259798\\right)$"
      ],
      "text/plain": [
       "⎛   _________                                                                                                                                     \n",
       "⎜  ╱  2    2                                                   ⅈ⋅varphi                                             ⅈ⋅varphi      ⎛b⎞             \n",
       "⎜╲╱  a  + b  , (r, varphi), r⋅(ⅈ⋅sin(varphi) + cos(varphi)) = e        ⋅r, √13⋅(ⅈ⋅sin(varphi) + cos(varphi)) = √13⋅e        , atan⎜─⎟, 33.69006752\n",
       "⎝                                                                                                                                 ⎝a⎠             \n",
       "\n",
       "       ⎞\n",
       "       ⎟\n",
       "5979785⎟\n",
       "       ⎠"
      ]
     },
     "execution_count": 3,
     "metadata": {},
     "output_type": "execute_result"
    }
   ],
   "source": [
    "phi, r, e = symbols('varphi, r, e')\n",
    "# Calculate magnitude r using the Norm Sqaure or Pythagorean Theorem:\n",
    "r_calculated = sqrt(z_squared_magnitude)\n",
    "# Note: if b = 0, then r = ||a||\n",
    "\n",
    "# The phase phi is called the argument\n",
    "polar_coordinates = (r, phi)\n",
    "z_polar_form = Eq(r*(cos(phi) + I*sin(phi)), r*e**(I*phi))\n",
    "\n",
    "# Example \n",
    "r_example = sqrt(squared_magnitude_example)\n",
    "z_polar_form_example = Eq(r_example*(cos(phi) + I*sin(phi)), r_example*e**(I*phi))\n",
    "\n",
    "# Side Note: Calculating the angle phi\n",
    "phi_calculated = atan(b/a)\n",
    "\n",
    "# Example Continued\n",
    "phi_example = degrees(atan(b_1/a_1))\n",
    "\n",
    "(r_calculated, polar_coordinates, z_polar_form, z_polar_form_example, phi_calculated, phi_example)"
   ]
  },
  {
   "cell_type": "markdown",
   "id": "26af0acb-0951-4a2f-ad49-45937898d693",
   "metadata": {},
   "source": [
    "## Unit of Information"
   ]
  },
  {
   "cell_type": "code",
   "execution_count": 4,
   "id": "7180a6a3-8253-4617-92e1-bfc9c190e7ae",
   "metadata": {},
   "outputs": [
    {
     "data": {
      "image/png": "[encoded data removed]",
      "text/latex": [
       "$\\displaystyle \\left( \\left( 0, \\  1\\right), \\  \\left( \\left[\\begin{matrix}1\\\\0\\end{matrix}\\right], \\  \\left[\\begin{matrix}0\\\\1\\end{matrix}\\right]\\right), \\  \\left( \\left[\\begin{matrix}1\\\\0\\end{matrix}\\right], \\  \\left[\\begin{matrix}0\\\\1\\end{matrix}\\right], \\  \\left[\\begin{matrix}c_{0}\\\\c_{1}\\end{matrix}\\right]\\right), \\  \\left[\\begin{matrix}c_{0}\\\\c_{1}\\end{matrix}\\right], \\  \\left[\\begin{matrix}\\frac{\\sqrt{2}}{2}\\\\\\frac{\\sqrt{2}}{2}\\end{matrix}\\right], \\  \\left[\\begin{matrix}1\\\\0\\end{matrix}\\right], \\  \\left[\\begin{matrix}0\\\\1\\end{matrix}\\right], \\  \\left[\\begin{matrix}\\frac{\\sqrt{2}}{2}\\\\\\frac{\\sqrt{2}}{2}\\end{matrix}\\right], \\  \\left[\\begin{matrix}\\frac{\\sqrt{2}}{2}\\\\- \\frac{\\sqrt{2}}{2}\\end{matrix}\\right], \\  \\left[\\begin{matrix}\\frac{\\sqrt{2}}{2}\\\\\\frac{\\sqrt{2} i}{2}\\end{matrix}\\right], \\  \\left[\\begin{matrix}\\frac{\\sqrt{2}}{2}\\\\- \\frac{\\sqrt{2} i}{2}\\end{matrix}\\right]\\right)$"
      ],
      "text/plain": [
       "⎛                                            ⎡√2⎤            ⎡√2⎤  ⎡ √2 ⎤  ⎡ √2 ⎤  ⎡  √2  ⎤⎞\n",
       "⎜                                            ⎢──⎥            ⎢──⎥  ⎢ ── ⎥  ⎢ ── ⎥  ⎢  ──  ⎥⎟\n",
       "⎜        ⎛⎡1⎤  ⎡0⎤⎞  ⎛⎡1⎤  ⎡0⎤  ⎡c₀⎤⎞  ⎡c₀⎤  ⎢2 ⎥  ⎡1⎤  ⎡0⎤  ⎢2 ⎥  ⎢ 2  ⎥  ⎢ 2  ⎥  ⎢  2   ⎥⎟\n",
       "⎜(0, 1), ⎜⎢ ⎥, ⎢ ⎥⎟, ⎜⎢ ⎥, ⎢ ⎥, ⎢  ⎥⎟, ⎢  ⎥, ⎢  ⎥, ⎢ ⎥, ⎢ ⎥, ⎢  ⎥, ⎢    ⎥, ⎢    ⎥, ⎢      ⎥⎟\n",
       "⎜        ⎝⎣0⎦  ⎣1⎦⎠  ⎝⎣0⎦  ⎣1⎦  ⎣c₁⎦⎠  ⎣c₁⎦  ⎢√2⎥  ⎣0⎦  ⎣1⎦  ⎢√2⎥  ⎢-√2 ⎥  ⎢√2⋅ⅈ⎥  ⎢-√2⋅ⅈ ⎥⎟\n",
       "⎜                                            ⎢──⎥            ⎢──⎥  ⎢────⎥  ⎢────⎥  ⎢──────⎥⎟\n",
       "⎝                                            ⎣2 ⎦            ⎣2 ⎦  ⎣ 2  ⎦  ⎣ 2  ⎦  ⎣  2   ⎦⎠"
      ]
     },
     "execution_count": 4,
     "metadata": {},
     "output_type": "execute_result"
    }
   ],
   "source": [
    "# Classical Bit \n",
    "c_bits = (0, 1)\n",
    "c_bit_vectors = (Matrix([[1], [0]]), Matrix([[0], [1]])) \n",
    "\n",
    "# Quantum Qubit\n",
    "c_0, c_1 = symbols(\"c_0, c_1\")\n",
    "qubits = (Matrix([[1], [0]]), Matrix([[0], [1]]), Matrix([[c_0], [c_1]])) \n",
    "# with |c_0|^2 + |c_1|^2 = 1, and |c_n|^2 is the probability of yielding state n\n",
    "\n",
    "# A qubit is a linear combination of basis states:\n",
    "q = c_0*qubits[0] + c_1*qubits[1]\n",
    "# st that c_0 and c_1 are complex in two dimensions \n",
    "\n",
    "# Example\n",
    "c_0e, c_1e = 1/sqrt(2), 1/sqrt(2)\n",
    "example_state = Matrix([[c_0e], [c_1e]])\n",
    "# when measured, yields 0 50% of the time and 1 50% of the time\n",
    "# Note: this is also the ket plus state and is a state of equal superposition\n",
    "\n",
    "# Side Note: Defining common states\n",
    "ket_0 = qubits[0]\n",
    "ket_1 = qubits[1]\n",
    "ket_plus = 1/sqrt(2)*(ket_0 + ket_1)\n",
    "ket_minus = 1/sqrt(2)*(ket_0 - ket_1)\n",
    "ket_i = 1/sqrt(2)*(ket_0 + I*ket_1)\n",
    "ket_minus_i = 1/sqrt(2)*(ket_0 - I*ket_1)\n",
    "\n",
    "(c_bits, c_bit_vectors, qubits, q, example_state, ket_0, ket_1, ket_plus, ket_minus, ket_i, ket_minus_i)"
   ]
  },
  {
   "cell_type": "markdown",
   "id": "6cfad633-3610-43e1-92c6-7efa24c75c02",
   "metadata": {},
   "source": [
    "## Storing More Information: Mulitiple Qubits"
   ]
  },
  {
   "cell_type": "code",
   "execution_count": 5,
   "id": "8dd86666-baf7-414e-bfca-33ffd33c7c70",
   "metadata": {},
   "outputs": [
    {
     "data": {
      "image/png": "[encoded data removed]",
      "text/latex": [
       "$\\displaystyle \\left( \\left[\\begin{matrix}c_{00}\\\\c_{01}\\\\c_{10}\\\\c_{11}\\end{matrix}\\right], \\  \\left[\\begin{matrix}1\\\\0\\\\0\\\\0\\end{matrix}\\right], \\  \\left[\\begin{matrix}0\\\\1\\\\0\\\\0\\end{matrix}\\right], \\  \\left[\\begin{matrix}0\\\\0\\\\1\\\\0\\end{matrix}\\right], \\  \\left[\\begin{matrix}0\\\\0\\\\0\\\\1\\end{matrix}\\right], \\  \\left(a_{0} {\\left|0\\right\\rangle } + a_{1} {\\left|1\\right\\rangle }\\right) \\left(c_{0} {\\left|0\\right\\rangle } + c_{1} {\\left|1\\right\\rangle }\\right), \\  a_{0} c_{0} {\\left|0\\right\\rangle }^{2} + a_{0} c_{1} {\\left|0\\right\\rangle } {\\left|1\\right\\rangle } + a_{1} c_{0} {\\left|1\\right\\rangle } {\\left|0\\right\\rangle } + a_{1} c_{1} {\\left|1\\right\\rangle }^{2}\\right)$"
      ],
      "text/plain": [
       "⎛⎡c₀₀⎤  ⎡1⎤  ⎡0⎤  ⎡0⎤  ⎡0⎤                                                                                              ⎞\n",
       "⎜⎢   ⎥  ⎢ ⎥  ⎢ ⎥  ⎢ ⎥  ⎢ ⎥                                                                                              ⎟\n",
       "⎜⎢c₀₁⎥  ⎢0⎥  ⎢1⎥  ⎢0⎥  ⎢0⎥                                                2                                            2⎟\n",
       "⎜⎢   ⎥, ⎢ ⎥, ⎢ ⎥, ⎢ ⎥, ⎢ ⎥, (a₀⋅❘0⟩ + a₁⋅❘1⟩)⋅(c₀⋅❘0⟩ + c₁⋅❘1⟩), a₀⋅c₀⋅❘0⟩  + a₀⋅c₁⋅❘0⟩⋅❘1⟩ + a₁⋅c₀⋅❘1⟩⋅❘0⟩ + a₁⋅c₁⋅❘1⟩ ⎟\n",
       "⎜⎢c₁₀⎥  ⎢0⎥  ⎢0⎥  ⎢1⎥  ⎢0⎥                                                                                              ⎟\n",
       "⎜⎢   ⎥  ⎢ ⎥  ⎢ ⎥  ⎢ ⎥  ⎢ ⎥                                                                                              ⎟\n",
       "⎝⎣c₁₁⎦  ⎣0⎦  ⎣0⎦  ⎣0⎦  ⎣1⎦                                                                                              ⎠"
      ]
     },
     "execution_count": 5,
     "metadata": {},
     "output_type": "execute_result"
    }
   ],
   "source": [
    "# Two Qubits\n",
    "c_00, c_01, c_10, c_11 = symbols(\"c_00, c_01, c_10, c_11\")\n",
    "q_12 = Matrix([[c_00], [c_01], [c_10], [c_11]])\n",
    "# st |c_OO|^2 + |c_01|^2 + |c_10|^2+ |c_11|^2 = 1, and |c_n|^2 is the probability of yielding state n\n",
    "\n",
    "# Defining two qubit states Ket 00, ket 01, ket 10, and ket 11 using the tensor product\n",
    "ket_00 = TensorProduct(ket_0, ket_0)\n",
    "ket_01 = TensorProduct(ket_0, ket_1)\n",
    "ket_10 = TensorProduct(ket_1, ket_0)\n",
    "ket_11 = TensorProduct(ket_1, ket_1)\n",
    "\n",
    "# A tensor product state:\n",
    "a_0, a_1 = symbols(\"a_0, a_1\")\n",
    "ket_zero, ket_one = Ket(\"0\"), Ket(\"1\")\n",
    "product_state = (a_0*ket_zero + a_1*ket_one) * (c_0*ket_zero + c_1*ket_one)\n",
    "expanded_product_state = expand(product_state)\n",
    "\n",
    "(q_12, ket_00, ket_01, ket_10, ket_11, product_state, expanded_product_state)"
   ]
  },
  {
   "cell_type": "markdown",
   "id": "d6d0b060-2514-4760-b05e-d735ac40f4b1",
   "metadata": {},
   "source": [
    "## Reading Out More Information: Mulitiple Qubits"
   ]
  },
  {
   "cell_type": "code",
   "execution_count": 6,
   "id": "e75a25b6-d4b3-449e-94cc-12e6c2614ab7",
   "metadata": {},
   "outputs": [
    {
     "data": {
      "image/png": "[encoded data removed]",
      "text/latex": [
       "$\\displaystyle \\left[\\begin{matrix}\\frac{c_{00}}{\\sqrt{\\left|{c_{00}}\\right|^{2} + \\left|{c_{01}}\\right|^{2}}}\\\\\\frac{c_{01}}{\\sqrt{\\left|{c_{00}}\\right|^{2} + \\left|{c_{01}}\\right|^{2}}}\\\\0\\\\0\\end{matrix}\\right]$"
      ],
      "text/plain": [
       "⎡        c₀₀         ⎤\n",
       "⎢────────────────────⎥\n",
       "⎢   _________________⎥\n",
       "⎢  ╱      2        2 ⎥\n",
       "⎢╲╱  │c₀₀│  + │c₀₁│  ⎥\n",
       "⎢                    ⎥\n",
       "⎢        c₀₁         ⎥\n",
       "⎢────────────────────⎥\n",
       "⎢   _________________⎥\n",
       "⎢  ╱      2        2 ⎥\n",
       "⎢╲╱  │c₀₀│  + │c₀₁│  ⎥\n",
       "⎢                    ⎥\n",
       "⎢         0          ⎥\n",
       "⎢                    ⎥\n",
       "⎣         0          ⎦"
      ]
     },
     "execution_count": 6,
     "metadata": {},
     "output_type": "execute_result"
    }
   ],
   "source": [
    "# Measure first qubit to be 0 from q_12\n",
    "q1 = (1/sqrt((abs(c_00))**2 + (abs(c_01))**2)) * (c_00*ket_00 + c_01*ket_01)\n",
    "# Note: The absolute value function is used simply to represent the norm for this case because their is no norm representation in sympy as far as I could find.\n",
    "\n",
    "(q1)"
   ]
  },
  {
   "cell_type": "markdown",
   "id": "64f099ec-6a6b-4b95-8902-900747ab2ad0",
   "metadata": {},
   "source": [
    "## Dirac Notation"
   ]
  },
  {
   "cell_type": "code",
   "execution_count": 7,
   "id": "009ead45-52e6-4208-82a6-6503457b0ea9",
   "metadata": {},
   "outputs": [
    {
     "data": {
      "text/latex": [
       "$\\ket0$ = $\\begin{bmatrix} 1 \\\\ 0 \\end{bmatrix}$"
      ],
      "text/plain": [
       "<IPython.core.display.Latex object>"
      ]
     },
     "metadata": {},
     "output_type": "display_data"
    },
    {
     "data": {
      "text/latex": [
       "$\\ket1$ = $\\begin{bmatrix} 0 \\\\ 1 \\end{bmatrix}$"
      ],
      "text/plain": [
       "<IPython.core.display.Latex object>"
      ]
     },
     "metadata": {},
     "output_type": "display_data"
    },
    {
     "data": {
      "text/latex": [
       "$\\ket{q}$ = $\\begin{bmatrix} c_0 \\\\ c_1 \\end{bmatrix}$ = $c_0\\ket0 + c_1\\ket1$"
      ],
      "text/plain": [
       "<IPython.core.display.Latex object>"
      ]
     },
     "metadata": {},
     "output_type": "display_data"
    },
    {
     "data": {
      "text/latex": [
       "$\\Bra0$ = $\\begin{bmatrix} 1 & 0 \\end{bmatrix}$"
      ],
      "text/plain": [
       "<IPython.core.display.Latex object>"
      ]
     },
     "metadata": {},
     "output_type": "display_data"
    },
    {
     "data": {
      "text/latex": [
       "$\\Bra1$ = $\\begin{bmatrix} 0 & 1 \\end{bmatrix}$"
      ],
      "text/plain": [
       "<IPython.core.display.Latex object>"
      ]
     },
     "metadata": {},
     "output_type": "display_data"
    },
    {
     "data": {
      "text/latex": [
       "$\\Bra{q}$ = $\\begin{bmatrix} c_0^* & c_1^* \\end{bmatrix}$ = $c_0^*\\Bra0 + c_1^*\\Bra1$"
      ],
      "text/plain": [
       "<IPython.core.display.Latex object>"
      ]
     },
     "metadata": {},
     "output_type": "display_data"
    }
   ],
   "source": [
    "# Ket notation (column vectors)\n",
    "display(\n",
    "    Latex(f\"$\\ket{0}$ = $\\\\begin{{bmatrix}} 1 \\\\\\ 0 \\\\end{{bmatrix}}$\"),\n",
    "    Latex(f\"$\\ket{1}$ = $\\\\begin{{bmatrix}} 0 \\\\\\ 1 \\\\end{{bmatrix}}$\"),\n",
    "    Latex(f\"$\\ket{{q}}$ = $\\\\begin{{bmatrix}} c_0 \\\\\\ c_1 \\\\end{{bmatrix}}$ = $c_0\\ket{0} + c_1\\ket{1}$\")\n",
    ")\n",
    "# bra notation (conjugate row vectors)\n",
    "display(\n",
    "    Latex(f\"$\\Bra{0}$ = $\\\\begin{{bmatrix}} 1 & 0 \\\\end{{bmatrix}}$\"),\n",
    "    Latex(f\"$\\Bra{1}$ = $\\\\begin{{bmatrix}} 0 & 1 \\\\end{{bmatrix}}$\"),\n",
    "    Latex(f\"$\\Bra{{q}}$ = $\\\\begin{{bmatrix}} c_0^* & c_1^* \\\\end{{bmatrix}}$ = $c_0^*\\Bra{0} + c_1^*\\Bra{1}$\")\n",
    ")"
   ]
  },
  {
   "cell_type": "markdown",
   "id": "9b1c540b-0037-498e-ab7e-cf22ee3d25fc",
   "metadata": {},
   "source": [
    "## Braket / Inner Product "
   ]
  },
  {
   "cell_type": "code",
   "execution_count": 8,
   "id": "f4e61379-a36e-4160-adc4-b496af207252",
   "metadata": {},
   "outputs": [
    {
     "data": {
      "image/png": "[encoded data removed]",
      "text/latex": [
       "$\\displaystyle \\left( \\left\\langle \\phi \\right. {\\left|\\psi\\right\\rangle }, \\  \\left[\\begin{matrix}c^{*}_{0} & c^{*}_{1} & c^{*}_{2}\\end{matrix}\\right], \\  \\left[\\begin{matrix}a_{0}\\\\a_{1}\\\\a_{2}\\end{matrix}\\right], \\  \\left[\\begin{matrix}a_{0} c^{*}_{0} + a_{1} c^{*}_{1} + a_{2} c^{*}_{2}\\end{matrix}\\right], \\  \\left[\\begin{matrix}0\\end{matrix}\\right]\\right)$"
      ],
      "text/plain": [
       "⎛                                 ⎡a₀⎤                                          ⎞\n",
       "⎜                                 ⎢  ⎥                                          ⎟\n",
       "⎜⟨φ❘ψ⟩, [c_0__*  c_1__*  c_2__*], ⎢a₁⎥, [a₀⋅c_0__* + a₁⋅c_1__* + a₂⋅c_2__*], [0]⎟\n",
       "⎜                                 ⎢  ⎥                                          ⎟\n",
       "⎝                                 ⎣a₂⎦                                          ⎠"
      ]
     },
     "execution_count": 8,
     "metadata": {},
     "output_type": "execute_result"
    }
   ],
   "source": [
    "# Notation\n",
    "a_2 = symbols(\"a_2\")\n",
    "c_Oconj, c_1conj, c_2conj = symbols(\"c_0^* c_1^* c_2^*\")\n",
    "bra_phi = Bra(\"phi\")\n",
    "ket_psi = Ket(\"psi\")\n",
    "braket_phipsi = bra_phi * ket_psi\n",
    "\n",
    "# Inner Product\n",
    "bra_vector = transpose(Matrix([[c_Oconj],[c_1conj],[c_2conj]]))\n",
    "ket_vector = Matrix([[a_0],[a_1],[a_2]])\n",
    "\n",
    "inner_product = bra_vector * ket_vector\n",
    "# Results in a single scalar value\n",
    "\n",
    "# Example \n",
    "braket_bra0_ket1 = Dagger(ket_0) * ket_1 \n",
    "# Note: Dagger is the conjugate transpose of ket_0 giving us bra_0\n",
    "\n",
    "(braket_phipsi, bra_vector, ket_vector, inner_product, braket_bra0_ket1)"
   ]
  },
  {
   "cell_type": "markdown",
   "id": "7e1383bc-e91d-4c77-aeaa-8fe3eac06fb3",
   "metadata": {},
   "source": [
    "## Orthonormality"
   ]
  },
  {
   "cell_type": "code",
   "execution_count": 9,
   "id": "e2970b5e-3aee-422a-9ffe-327b8e3b5971",
   "metadata": {},
   "outputs": [
    {
     "data": {
      "image/png": "[encoded data removed]",
      "text/latex": [
       "$\\displaystyle \\left( \\left[\\begin{matrix}1\\end{matrix}\\right], \\  \\left[\\begin{matrix}0\\end{matrix}\\right], \\  \\left[\\begin{matrix}0\\end{matrix}\\right], \\  \\left[\\begin{matrix}0\\end{matrix}\\right]\\right)$"
      ],
      "text/plain": [
       "([1], [0], [0], [0])"
      ]
     },
     "execution_count": 9,
     "metadata": {},
     "output_type": "execute_result"
    }
   ],
   "source": [
    "# Inner Product of a state with itself\n",
    "self_inner_product = Dagger(ket_0) * ket_0\n",
    "# The result is the total probability of 1, and that the state is normalized.\n",
    "\n",
    "# Inner product of basis states\n",
    "# Ket 0 and Ket 1\n",
    "inner_product_z_basis = Dagger(ket_0) * ket_1 \n",
    "# Ket + and Ket -\n",
    "inner_product_x_basis = Dagger(ket_plus) * ket_minus \n",
    "# Ket i and Ket -i\n",
    "inner_product_y_basis = Dagger(ket_i) * ket_minus_i\n",
    "# The result is 0, and therefore the basis states are orthogonal to their counterparts.\n",
    "# Since the basis states are normalized and orthogonal, they can be classified as orthonormal. \n",
    "\n",
    "(self_inner_product, inner_product_z_basis, inner_product_x_basis, inner_product_y_basis)"
   ]
  },
  {
   "cell_type": "markdown",
   "id": "f501f99a-b065-4c75-82d8-17a82f5ba1d2",
   "metadata": {},
   "source": [
    "## Entanglement "
   ]
  },
  {
   "cell_type": "code",
   "execution_count": 10,
   "id": "978eacad-4ccc-4c6e-ab74-94b94e87e058",
   "metadata": {},
   "outputs": [
    {
     "data": {
      "image/png": "[encoded data removed]",
      "text/latex": [
       "$\\displaystyle \\left( \\left[\\begin{matrix}\\frac{1}{2}\\\\\\frac{1}{2}\\\\\\frac{1}{2}\\\\\\frac{1}{2}\\end{matrix}\\right], \\  \\frac{1}{4}, \\  \\frac{1}{4}, \\  \\frac{1}{4}, \\  \\frac{1}{4}, \\  \\left[\\begin{matrix}\\frac{\\sqrt{2}}{2}\\\\0\\\\0\\\\\\frac{\\sqrt{2}}{2}\\end{matrix}\\right], \\  \\frac{1}{2}, \\  0, \\  0, \\  \\frac{1}{2}\\right)$"
      ],
      "text/plain": [
       "⎛                           ⎡√2⎤                ⎞\n",
       "⎜                           ⎢──⎥                ⎟\n",
       "⎜⎡1/2⎤                      ⎢2 ⎥                ⎟\n",
       "⎜⎢   ⎥                      ⎢  ⎥                ⎟\n",
       "⎜⎢1/2⎥                      ⎢0 ⎥                ⎟\n",
       "⎜⎢   ⎥, 1/4, 1/4, 1/4, 1/4, ⎢  ⎥, 1/2, 0, 0, 1/2⎟\n",
       "⎜⎢1/2⎥                      ⎢0 ⎥                ⎟\n",
       "⎜⎢   ⎥                      ⎢  ⎥                ⎟\n",
       "⎜⎣1/2⎦                      ⎢√2⎥                ⎟\n",
       "⎜                           ⎢──⎥                ⎟\n",
       "⎝                           ⎣2 ⎦                ⎠"
      ]
     },
     "execution_count": 10,
     "metadata": {},
     "output_type": "execute_result"
    }
   ],
   "source": [
    "# Consider the unentangeled states:\n",
    "psi_a = (1/sqrt(2))*(ket_0 + ket_1)\n",
    "psi_b = (1/sqrt(2))*(ket_0 + ket_1)\n",
    "\n",
    "# Take their tensor product \n",
    "psi_ab = TensorProduct(psi_a, psi_b)\n",
    "# Factor the coefficient for each state in the vector and take norm square\n",
    "probability_00 = psi_ab[0] * conjugate(psi_ab[0])\n",
    "probability_01 = psi_ab[1] * conjugate(psi_ab[1])\n",
    "probability_10 = psi_ab[2] * conjugate(psi_ab[2])\n",
    "probability_11 = psi_ab[3] * conjugate(psi_ab[3])\n",
    "# These states can be factored into a product state since they all have some probability of occuring\n",
    "\n",
    "# Let's say we have an entangled state\n",
    "entangled_psi_ab = (1/sqrt(2))*ket_00 + (1/sqrt(2))*ket_11\n",
    "# Factor the coefficient for each state in the vector and take norm square\n",
    "entangled_probability_00 = entangled_psi_ab[0] * conjugate(entangled_psi_ab[0])\n",
    "entangled_probability_01 = entangled_psi_ab[1] * conjugate(entangled_psi_ab[1])\n",
    "entangled_probability_10 = entangled_psi_ab[2] * conjugate(entangled_psi_ab[2])\n",
    "entangled_probability_11 = entangled_psi_ab[3] * conjugate(entangled_psi_ab[3])\n",
    "# Now we only have the possibility of the 00 and 11 states and the entangled state cannot be factored into a product state\n",
    "\n",
    "(psi_ab, probability_00, probability_01, probability_10, probability_11, entangled_psi_ab, entangled_probability_00,\n",
    " entangled_probability_01, entangled_probability_10, entangled_probability_11)"
   ]
  }
 ],
 "metadata": {
  "kernelspec": {
   "display_name": "Python 3 (ipykernel)",
   "language": "python",
   "name": "python3"
  },
  "language_info": {
   "codemirror_mode": {
    "name": "ipython",
    "version": 3
   },
   "file_extension": ".py",
   "mimetype": "text/x-python",
   "name": "python",
   "nbconvert_exporter": "python",
   "pygments_lexer": "ipython3",
   "version": "3.11.4"
  }
 },
 "nbformat": 4,
 "nbformat_minor": 5
}
