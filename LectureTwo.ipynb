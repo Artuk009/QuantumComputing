{
 "cells": [
  {
   "cell_type": "markdown",
   "id": "bcaee3ed-1462-42cd-bb63-51d347fa7573",
   "metadata": {},
   "source": [
    "## Classical Boolean Logic\n",
    "<p style=\"text-align: center\">AND Gate</p>\n",
    "\\begin{array}{|c c|c|}\n",
    "x_0 & x_1 & x_0 \\land x_1\\\\ \n",
    "\\hline % Put a horizontal line between the table header and the rest.\n",
    "0 & 0 & 0\\\\\n",
    "0 & 1 & 0\\\\\n",
    "1 & 0 & 0\\\\\n",
    "1 & 1 & 1\\\\\n",
    "\\end{array}\n",
    "\n",
    "<p style=\"text-align: center\">OR Gate</p>\n",
    "\\begin{array}{|c c|c|}\n",
    "x_0 & x_1 & x_0 \\lor x_1\\\\ \n",
    "\\hline % Put a horizontal line between the table header and the rest.\n",
    "0 & 0 & 0\\\\\n",
    "0 & 1 & 1\\\\\n",
    "1 & 0 & 1\\\\\n",
    "1 & 1 & 1\\\\\n",
    "\\end{array}\n",
    "\n",
    "<p style=\"text-align: center\">NAND Gate</p>\n",
    "\\begin{array}{|c c|c|}\n",
    "x_0 & x_1 & \\neg (x_0 \\land x_1)\\\\ \n",
    "\\hline % Put a horizontal line between the table header and the rest.\n",
    "0 & 0 & 1\\\\\n",
    "0 & 1 & 1\\\\\n",
    "1 & 0 & 1\\\\\n",
    "1 & 1 & 0\\\\\n",
    "\\end{array}\n",
    "\n",
    "<p style=\"text-align: center\">NOT Gate</p>\n",
    "\\begin{array}{|c|c|}\n",
    "x_0 & \\neg x_0\\\\ \n",
    "\\hline % Put a horizontal line between the table header and the rest.\n",
    "0 & 1\\\\\n",
    "1 & 0\\\\\n",
    "\\end{array}"
   ]
  },
  {
   "cell_type": "code",
   "execution_count": null,
   "id": "52b5fb75-ca39-45ea-ba67-cd5fb18ebccf",
   "metadata": {},
   "outputs": [],
   "source": []
  }
 ],
 "metadata": {
  "kernelspec": {
   "display_name": "Quantum_Computing_venv",
   "language": "python",
   "name": "quantum_computing_venv"
  },
  "language_info": {
   "codemirror_mode": {
    "name": "ipython",
    "version": 3
   },
   "file_extension": ".py",
   "mimetype": "text/x-python",
   "name": "python",
   "nbconvert_exporter": "python",
   "pygments_lexer": "ipython3",
   "version": "3.10.14"
  }
 },
 "nbformat": 4,
 "nbformat_minor": 5
}
