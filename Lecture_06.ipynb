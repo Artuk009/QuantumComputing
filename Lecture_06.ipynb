{
 "cells": [
  {
   "cell_type": "code",
   "execution_count": 1,
   "id": "932bf6e8-6fe6-4032-a397-9b906da980e5",
   "metadata": {},
   "outputs": [],
   "source": [
    "# Author: Brent Artuch\n",
    "# Date: 2024-11-17"
   ]
  },
  {
   "cell_type": "markdown",
   "id": "64d6c920-0dc3-44b2-8c58-a0eb652dccfe",
   "metadata": {},
   "source": [
    "## Eigenvalues and Eigenvectors\n",
    "We have an $\\mathbf{eigenvector}$ when applying a unitary guantum gate results in the same vector mutliplied by some scalar called an $\\mathbf{eigenvalue}$. For example, let the gate be $X$ and $\\ket{+}$ the vector, when we apply $X$  to $\\ket{+}$, we get:\n",
    "\\begin{align*}\n",
    "X\\ket{+}=\n",
    "\\begin{pmatrix}\n",
    "0 & 1\\\\\n",
    "1 & 0\\\\\n",
    "\\end{pmatrix}\n",
    "\\begin{pmatrix}\n",
    "1/\\sqrt{2} \\\\\n",
    "1/\\sqrt{2} \\\\\n",
    "\\end{pmatrix}\n",
    "=\n",
    "\\begin{pmatrix}\n",
    "1/\\sqrt{2} \\\\\n",
    "1/\\sqrt{2} \\\\\n",
    "\\end{pmatrix}=(1)\\ket{+}\n",
    "\\end{align*}\n",
    "so $\\ket{+}$ is an eigenvector with eigenvalue $1$."
   ]
  },
  {
   "cell_type": "markdown",
   "id": "33c6549f-83f8-4143-be4e-ba3a0bbdde5e",
   "metadata": {},
   "source": [
    "Similarly, if we apply $X$ to $\\ket{-}$, we have:\n",
    "\\begin{align*}\n",
    "X\\ket{-}=\n",
    "\\begin{pmatrix}\n",
    "0 & 1\\\\\n",
    "1 & 0\\\\\n",
    "\\end{pmatrix}\n",
    "\\begin{pmatrix}\n",
    "1/\\sqrt{2} \\\\\n",
    "-1/\\sqrt{2} \\\\\n",
    "\\end{pmatrix}=\n",
    "\\begin{pmatrix}\n",
    "-1/\\sqrt{2} \\\\\n",
    "1/\\sqrt{2} \\\\\n",
    "\\end{pmatrix}=(-1)\n",
    "\\begin{pmatrix}\n",
    "1/\\sqrt{2} \\\\\n",
    "-1/\\sqrt{2} \\\\\n",
    "\\end{pmatrix}=(-1)\\ket{-}\n",
    "\\end{align*}\n",
    "so $\\ket{-}$ is an eigenvector with eigenvalue $-1$."
   ]
  },
  {
   "cell_type": "markdown",
   "id": "81f9c76d-ddc1-4ca7-bf2a-c197a37331b3",
   "metadata": {},
   "source": [
    "The general equation for eigenvectors and eigenvalues in Dirac notation is:\n",
    "\\begin{align*}\n",
    "A\\ket{u}=\\lambda\\ket{u}\n",
    "\\end{align*}\n",
    "where $A$ is a square matrix, $\\lambda$ (the eigenvalue) is a scalar, and $\\ket{u}$ (the eigenvector) is a vector."
   ]
  },
  {
   "cell_type": "markdown",
   "id": "32ff0087-6911-4365-bcfb-9c374ccf0ac1",
   "metadata": {},
   "source": [
    "The set of all eigenvectors of $A$ corresponding to the same eigenvalue $\\lambda$ is called the $\\mathbf{eigenspace}$. "
   ]
  }
 ],
 "metadata": {
  "kernelspec": {
   "display_name": "Quantum_Computing_venv",
   "language": "python",
   "name": "quantum_computing_venv"
  },
  "language_info": {
   "codemirror_mode": {
    "name": "ipython",
    "version": 3
   },
   "file_extension": ".py",
   "mimetype": "text/x-python",
   "name": "python",
   "nbconvert_exporter": "python",
   "pygments_lexer": "ipython3",
   "version": "3.12.7"
  }
 },
 "nbformat": 4,
 "nbformat_minor": 5
}
