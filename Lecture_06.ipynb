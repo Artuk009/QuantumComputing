{
 "cells": [
  {
   "cell_type": "code",
   "execution_count": 1,
   "id": "932bf6e8-6fe6-4032-a397-9b906da980e5",
   "metadata": {},
   "outputs": [],
   "source": [
    "# Author: Brent Artuch\n",
    "# Date: 2024-11-17\n",
    "\n",
    "import numpy as np\n",
    "import sympy as sp\n",
    "\n",
    "sp.init_printing()"
   ]
  },
  {
   "cell_type": "markdown",
   "id": "64d6c920-0dc3-44b2-8c58-a0eb652dccfe",
   "metadata": {},
   "source": [
    "## Eigenvalues and Eigenvectors\n",
    "We have an $\\mathbf{eigenvector}$ when applying a unitary guantum gate results in the same vector mutliplied by some scalar called an $\\mathbf{eigenvalue}$. For example, let the gate be $X$ and $\\ket{+}$ the vector, when we apply $X$  to $\\ket{+}$, we get:\n",
    "\\begin{align*}\n",
    "X\\ket{+}=\n",
    "\\begin{pmatrix}\n",
    "0 & 1\\\\\n",
    "1 & 0\\\\\n",
    "\\end{pmatrix}\n",
    "\\begin{pmatrix}\n",
    "1/\\sqrt{2} \\\\\n",
    "1/\\sqrt{2} \\\\\n",
    "\\end{pmatrix}\n",
    "=\n",
    "\\begin{pmatrix}\n",
    "1/\\sqrt{2} \\\\\n",
    "1/\\sqrt{2} \\\\\n",
    "\\end{pmatrix}=(1)\\ket{+}\n",
    "\\end{align*}\n",
    "so $\\ket{+}$ is an eigenvector with eigenvalue $1$."
   ]
  },
  {
   "cell_type": "markdown",
   "id": "33c6549f-83f8-4143-be4e-ba3a0bbdde5e",
   "metadata": {},
   "source": [
    "Similarly, if we apply $X$ to $\\ket{-}$, we have:\n",
    "\\begin{align*}\n",
    "X\\ket{-}=\n",
    "\\begin{pmatrix}\n",
    "0 & 1\\\\\n",
    "1 & 0\\\\\n",
    "\\end{pmatrix}\n",
    "\\begin{pmatrix}\n",
    "1/\\sqrt{2} \\\\\n",
    "-1/\\sqrt{2} \\\\\n",
    "\\end{pmatrix}=\n",
    "\\begin{pmatrix}\n",
    "-1/\\sqrt{2} \\\\\n",
    "1/\\sqrt{2} \\\\\n",
    "\\end{pmatrix}=(-1)\n",
    "\\begin{pmatrix}\n",
    "1/\\sqrt{2} \\\\\n",
    "-1/\\sqrt{2} \\\\\n",
    "\\end{pmatrix}=(-1)\\ket{-}\n",
    "\\end{align*}\n",
    "so $\\ket{-}$ is an eigenvector with eigenvalue $-1$."
   ]
  },
  {
   "cell_type": "markdown",
   "id": "81f9c76d-ddc1-4ca7-bf2a-c197a37331b3",
   "metadata": {},
   "source": [
    "The general equation for eigenvectors and eigenvalues in Dirac notation is:\n",
    "\\begin{align*}\n",
    "A\\ket{u}=\\lambda\\ket{u}\n",
    "\\end{align*}\n",
    "where $A$ is a square matrix, $\\lambda$ (the eigenvalue) is a scalar, and $\\ket{u}$ (the eigenvector) is a vector."
   ]
  },
  {
   "cell_type": "markdown",
   "id": "32ff0087-6911-4365-bcfb-9c374ccf0ac1",
   "metadata": {},
   "source": [
    "The set of all eigenvectors of $A$ corresponding to the same eigenvalue $\\lambda$ is called the $\\mathbf{eigenspace}$. "
   ]
  },
  {
   "cell_type": "markdown",
   "id": "03f4a5df-501f-4d25-bd0a-aedc99f738bb",
   "metadata": {},
   "source": [
    "A $\\mathbf{diagonal\\ representation}$ for the operator $A$ on a vector space:\n",
    "\\begin{align*}\n",
    "A=\\sum_{i}\\lambda_i\\ket{i}\\bra{i}\n",
    "\\end{align*}\n",
    "where vectors $\\ket{i}$ form an orthonormal set of eignevectors for $A$ with corresponding eigenvalues $\\lambda_i$.  "
   ]
  },
  {
   "cell_type": "markdown",
   "id": "05ea0994-824f-47be-bd2a-03c2598ddf3e",
   "metadata": {},
   "source": [
    "An example using the pauli matrix $Z$:\n",
    "\\begin{align*}\n",
    "Z=\n",
    "\\begin{pmatrix}\n",
    "1 & 0 \\\\\n",
    "0 & -1 \\\\\n",
    "\\end{pmatrix}=\n",
    "1\\ket{0}\\bra{0}-1\\ket{1}\\bra{1}=\n",
    "1\\begin{pmatrix}\n",
    "1 & 0 \\\\\n",
    "0 & 0 \\\\\n",
    "\\end{pmatrix}-\n",
    "1\\begin{pmatrix}\n",
    "0 & 0 \\\\\n",
    "0 & 1 \\\\\n",
    "\\end{pmatrix}=\n",
    "\\begin{pmatrix}\n",
    "1 & 0 \\\\\n",
    "0 & 0 \\\\\n",
    "\\end{pmatrix}+\n",
    "\\begin{pmatrix}\n",
    "0 & 0 \\\\\n",
    "0 & -1 \\\\\n",
    "\\end{pmatrix}\n",
    "\\end{align*}"
   ]
  },
  {
   "cell_type": "code",
   "execution_count": 2,
   "id": "92fd693a-473c-464c-a178-84c411c4e0ca",
   "metadata": {},
   "outputs": [
    {
     "data": {
      "image/png": "[encoded data removed]",
      "text/latex": [
       "$\\displaystyle \\left( \\left[\\begin{matrix}1 & 0\\\\0 & 0\\end{matrix}\\right], \\  \\left[\\begin{matrix}0 & 0\\\\0 & 1\\end{matrix}\\right], \\  \\left[\\begin{matrix}1 & 0\\\\0 & -1\\end{matrix}\\right]\\right)$"
      ],
      "text/plain": [
       "⎛⎡1  0⎤  ⎡0  0⎤  ⎡1  0 ⎤⎞\n",
       "⎜⎢    ⎥, ⎢    ⎥, ⎢     ⎥⎟\n",
       "⎝⎣0  0⎦  ⎣0  1⎦  ⎣0  -1⎦⎠"
      ]
     },
     "execution_count": 2,
     "metadata": {},
     "output_type": "execute_result"
    }
   ],
   "source": [
    "# With Python\n",
    "ket_0 = np.array([[1],[0]])\n",
    "ket_1 = np.array([[0],[1]])\n",
    "\n",
    "sp.Matrix(np.outer(ket_0,ket_0)), sp.Matrix(np.outer(ket_1,ket_1)), sp.Matrix((1)*np.outer(ket_0,ket_0)+(-1)*np.outer(ket_1,ket_1))"
   ]
  }
 ],
 "metadata": {
  "kernelspec": {
   "display_name": "Quantum_Computing_venv",
   "language": "python",
   "name": "quantum_computing_venv"
  },
  "language_info": {
   "codemirror_mode": {
    "name": "ipython",
    "version": 3
   },
   "file_extension": ".py",
   "mimetype": "text/x-python",
   "name": "python",
   "nbconvert_exporter": "python",
   "pygments_lexer": "ipython3",
   "version": "3.12.7"
  }
 },
 "nbformat": 4,
 "nbformat_minor": 5
}
