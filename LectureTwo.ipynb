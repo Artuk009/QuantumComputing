{
 "cells": [
  {
   "cell_type": "markdown",
   "id": "bcaee3ed-1462-42cd-bb63-51d347fa7573",
   "metadata": {},
   "source": [
    "## Classical Boolean Logic\n",
    "<p style=\"text-align: center\">AND Gate</p>\n",
    "\\begin{array}{|c c|c|}\n",
    "x_0 & x_1 & x_0 \\land x_1\\\\ \n",
    "\\hline % Put a horizontal line between the table header and the rest.\n",
    "0 & 0 & 0\\\\\n",
    "0 & 1 & 0\\\\\n",
    "1 & 0 & 0\\\\\n",
    "1 & 1 & 1\\\\\n",
    "\\end{array}\n",
    "\n",
    "<p style=\"text-align: center\">OR Gate</p>\n",
    "\\begin{array}{|c c|c|}\n",
    "x_0 & x_1 & x_0 \\lor x_1\\\\ \n",
    "\\hline % Put a horizontal line between the table header and the rest.\n",
    "0 & 0 & 0\\\\\n",
    "0 & 1 & 1\\\\\n",
    "1 & 0 & 1\\\\\n",
    "1 & 1 & 1\\\\\n",
    "\\end{array}\n",
    "\n",
    "<p style=\"text-align: center\">NAND Gate</p>\n",
    "\\begin{array}{|c c|c|}\n",
    "x_0 & x_1 & \\neg (x_0 \\land x_1)\\\\ \n",
    "\\hline % Put a horizontal line between the table header and the rest.\n",
    "0 & 0 & 1\\\\\n",
    "0 & 1 & 1\\\\\n",
    "1 & 0 & 1\\\\\n",
    "1 & 1 & 0\\\\\n",
    "\\end{array}\n",
    "\n",
    "<p style=\"text-align: center\">NOT Gate</p>\n",
    "\\begin{array}{|c|c|}\n",
    "x_0 & \\neg x_0\\\\ \n",
    "\\hline % Put a horizontal line between the table header and the rest.\n",
    "0 & 1\\\\\n",
    "1 & 0\\\\\n",
    "\\end{array}\n",
    "\n",
    "Quantum gates must be reversable such that $UU^\\dagger$ = $U^\\dagger U$ = $I$. Thus, for each output state there is a unique input state. <br>\n",
    "Of the given classical gates, the not gate is the only one that is reversable, therefore we can represent it as a matrix that we will label $X$. <br>\n"
   ]
  },
  {
   "cell_type": "code",
   "execution_count": 13,
   "id": "2345f210-67b3-41dc-a282-c8d073cda398",
   "metadata": {},
   "outputs": [],
   "source": [
    "from sympy import *\n",
    "from sympy.physics.quantum import *\n",
    "from sympy.physics.quantum.circuitplot import circuit_plot\n",
    "from sympy.physics.quantum.qubit import * # Package allows for easy quibit creation\n",
    "from sympy.physics.quantum.gate import * # easy gate reference\n",
    "init_printing()"
   ]
  },
  {
   "cell_type": "code",
   "execution_count": 8,
   "id": "52b5fb75-ca39-45ea-ba67-cd5fb18ebccf",
   "metadata": {},
   "outputs": [
    {
     "data": {
      "image/png": "[encoded data removed]",
      "text/latex": [
       "$\\displaystyle \\left( \\left[\\begin{matrix}0 & 1\\\\1 & 0\\end{matrix}\\right], \\  \\left[\\begin{matrix}b\\\\1 - b\\end{matrix}\\right], \\  \\left[\\begin{matrix}1 - b\\\\b\\end{matrix}\\right], \\  \\left[\\begin{matrix}b\\\\1 - b\\end{matrix}\\right]\\right)$"
      ],
      "text/plain": [
       "⎛⎡0  1⎤  ⎡  b  ⎤  ⎡1 - b⎤  ⎡  b  ⎤⎞\n",
       "⎜⎢    ⎥, ⎢     ⎥, ⎢     ⎥, ⎢     ⎥⎟\n",
       "⎝⎣1  0⎦  ⎣1 - b⎦  ⎣  b  ⎦  ⎣1 - b⎦⎠"
      ]
     },
     "execution_count": 8,
     "metadata": {},
     "output_type": "execute_result"
    }
   ],
   "source": [
    "# define X\n",
    "b = symbols(\"b\")\n",
    "X = Matrix([[0, 1], [1, 0]])\n",
    "ket_b = Matrix([[b], [1-b]])\n",
    "\n",
    "# Apply X gate to the state vector\n",
    "X_on_ket_b = X * ket_b\n",
    "\n",
    "# Apply X gate twice\n",
    "XX_on_ket_b = X * (X_on_ket_b)\n",
    "# Notice this flips the state back to its original value (identity), thus X is unitary.\n",
    "(X, ket_b, X_on_ket_b, XX_on_ket_b)"
   ]
  },
  {
   "cell_type": "markdown",
   "id": "47961bc8-b20e-4f74-8b71-11dd88513354",
   "metadata": {},
   "source": [
    "## Controlled Not Gate\n",
    "$\\ket{a,b} \\rightarrow \\ket{a, a \\ \\oplus \\ b}$"
   ]
  },
  {
   "cell_type": "code",
   "execution_count": 34,
   "id": "57d32e20-1057-4449-a442-da65bb6ca7d8",
   "metadata": {},
   "outputs": [
    {
     "data": {
      "text/plain": [
       "(Matrix([\n",
       " [1, 0, 0, 0],\n",
       " [0, 1, 0, 0],\n",
       " [0, 0, 0, 1],\n",
       " [0, 0, 1, 0]]),\n",
       " <sympy.physics.quantum.circuitplot.CircuitPlot at 0x111a0b220>)"
      ]
     },
     "execution_count": 34,
     "metadata": {},
     "output_type": "execute_result"
    },
    {
     "data": {
      "image/png": "[encoded data removed]",
      "text/plain": [
       "<Figure size 200x200 with 1 Axes>"
      ]
     },
     "metadata": {},
     "output_type": "display_data"
    }
   ],
   "source": [
    "# Define cnot gate from python library\n",
    "C = CNOT(1,0)\n",
    "\n",
    "# Show matrix and quantum circuit representation\n",
    "(represent(C, nqubits=2), circuit_plot(C, nqubits=2))"
   ]
  },
  {
   "cell_type": "code",
   "execution_count": 36,
   "id": "8ab45808-ac00-4827-a6e5-60424a2e2d20",
   "metadata": {},
   "outputs": [
    {
     "data": {
      "image/png": "[encoded data removed]",
      "text/latex": [
       "$\\displaystyle \\left( \\left[\\begin{matrix}c_{0}\\\\c_{1}\\\\c_{2}\\\\c_{3}\\end{matrix}\\right], \\  \\left[\\begin{matrix}c_{0}\\\\c_{1}\\\\c_{3}\\\\c_{2}\\end{matrix}\\right]\\right)$"
      ],
      "text/plain": [
       "⎛⎡c₀⎤  ⎡c₀⎤⎞\n",
       "⎜⎢  ⎥  ⎢  ⎥⎟\n",
       "⎜⎢c₁⎥  ⎢c₁⎥⎟\n",
       "⎜⎢  ⎥, ⎢  ⎥⎟\n",
       "⎜⎢c₂⎥  ⎢c₃⎥⎟\n",
       "⎜⎢  ⎥  ⎢  ⎥⎟\n",
       "⎝⎣c₃⎦  ⎣c₂⎦⎠"
      ]
     },
     "execution_count": 36,
     "metadata": {},
     "output_type": "execute_result"
    }
   ],
   "source": [
    "c_0, c_1, c_2, c_3 = symbols(\"c_0, c_1, c_2, c_3\")\n",
    "ket_psi = Matrix([[c_0], [c_1], [c_2], [c_3]])\n",
    "\n",
    "# Define CX/CNOT matrix\n",
    "CX = Matrix([\n",
    " [1, 0, 0, 0],\n",
    " [0, 1, 0, 0],\n",
    " [0, 0, 0, 1],\n",
    " [0, 0, 1, 0]])\n",
    "# apply to ket psi to swap the elements of the bottom right quadrant\n",
    "CX_on_ket_psi = CX * ket_psi\n",
    "\n",
    "(ket_psi, CX_on_ket_psi)"
   ]
  },
  {
   "cell_type": "code",
   "execution_count": 41,
   "id": "f34ec6ed-5523-4918-bb80-b0e3d5a8981e",
   "metadata": {},
   "outputs": [
    {
     "data": {
      "image/png": "[encoded data removed]",
      "text/latex": [
       "$\\displaystyle \\left( \\left[\\begin{matrix}\\frac{\\sqrt{2}}{2}\\\\0\\\\\\frac{\\sqrt{2}}{2}\\\\0\\end{matrix}\\right], \\  \\left[\\begin{matrix}\\frac{\\sqrt{2}}{2}\\\\0\\\\0\\\\\\frac{\\sqrt{2}}{2}\\end{matrix}\\right]\\right)$"
      ],
      "text/plain": [
       "⎛⎡√2⎤  ⎡√2⎤⎞\n",
       "⎜⎢──⎥  ⎢──⎥⎟\n",
       "⎜⎢2 ⎥  ⎢2 ⎥⎟\n",
       "⎜⎢  ⎥  ⎢  ⎥⎟\n",
       "⎜⎢0 ⎥  ⎢0 ⎥⎟\n",
       "⎜⎢  ⎥, ⎢  ⎥⎟\n",
       "⎜⎢√2⎥  ⎢0 ⎥⎟\n",
       "⎜⎢──⎥  ⎢  ⎥⎟\n",
       "⎜⎢2 ⎥  ⎢√2⎥⎟\n",
       "⎜⎢  ⎥  ⎢──⎥⎟\n",
       "⎝⎣0 ⎦  ⎣2 ⎦⎠"
      ]
     },
     "execution_count": 41,
     "metadata": {},
     "output_type": "execute_result"
    }
   ],
   "source": [
    "# Define the common states\n",
    "qubits = (Matrix([[1], [0]]), Matrix([[0], [1]]), Matrix([[c_0], [c_1]]))\n",
    "\n",
    "# 1-Qubit\n",
    "ket_0 = qubits[0]\n",
    "ket_1 = qubits[1]\n",
    "ket_plus = 1/sqrt(2)*(ket_0 + ket_1)\n",
    "ket_minus = 1/sqrt(2)*(ket_0 - ket_1)\n",
    "ket_i = 1/sqrt(2)*(ket_0 + I*ket_1)\n",
    "ket_minus_i = 1/sqrt(2)*(ket_0 - I*ket_1)\n",
    "# 1-Qubit\n",
    "ket_00 = TensorProduct(ket_0, ket_0)\n",
    "ket_01 = TensorProduct(ket_0, ket_1)\n",
    "ket_10 = TensorProduct(ket_1, ket_0)\n",
    "ket_11 = TensorProduct(ket_1, ket_1)\n",
    "\n",
    "# Example of CNOT application\n",
    "ket_plus_0 = TensorProduct(ket_plus, ket_0)\n",
    "# We get |00> and |10>\n",
    "CX_on_ket_plus_0 = CX * ket_plus_0\n",
    "# Notice the resulting flip giving us |00> and |11>\n",
    "(ket_plus_0, CX_on_ket_plus_0)"
   ]
  },
  {
   "cell_type": "code",
   "execution_count": null,
   "id": "fd08e5ce-098e-4c7a-aa87-6e6319f17008",
   "metadata": {},
   "outputs": [],
   "source": []
  }
 ],
 "metadata": {
  "kernelspec": {
   "display_name": "Quantum_Computing_venv",
   "language": "python",
   "name": "quantum_computing_venv"
  },
  "language_info": {
   "codemirror_mode": {
    "name": "ipython",
    "version": 3
   },
   "file_extension": ".py",
   "mimetype": "text/x-python",
   "name": "python",
   "nbconvert_exporter": "python",
   "pygments_lexer": "ipython3",
   "version": "3.10.14"
  }
 },
 "nbformat": 4,
 "nbformat_minor": 5
}
