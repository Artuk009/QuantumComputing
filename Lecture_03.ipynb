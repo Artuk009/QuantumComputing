{
 "cells": [
  {
   "cell_type": "code",
   "execution_count": 1,
   "id": "383d79aa-8b79-40ed-bd22-70595786c0e3",
   "metadata": {},
   "outputs": [],
   "source": [
    "# Author: Brent Artuch\n",
    "# Date: 2024-10-07\n",
    "\n",
    "import sympy as sp\n",
    "import numpy as np\n",
    "\n",
    "# Qiskit libraries\n",
    "from qiskit.quantum_info import Operator, Statevector\n",
    "\n",
    "sp.init_printing()"
   ]
  },
  {
   "cell_type": "markdown",
   "id": "24218c39-c684-495a-9303-022caa884f1a",
   "metadata": {},
   "source": [
    "## Bell States\n",
    "The collection of all four Bell states is known as the Bell basis; all four of the Bell states represent entanglement between two qubits.\n",
    "\\begin{align*}\n",
    "\\ket{\\Phi^+}=\\frac{1}{\\sqrt{2}}(\\ket{00}+\\ket{11})=CNOT(H)\\ket{0}\\ket{0}\\\\\n",
    "\\ket{\\Phi^-}=\\frac{1}{\\sqrt{2}}(\\ket{00}-\\ket{11})=CNOT(H)\\ket{1}\\ket{0}\\\\\n",
    "\\ket{\\Psi^+}=\\frac{1}{\\sqrt{2}}(\\ket{01}+\\ket{10})=CNOT(H)\\ket{0}\\ket{1}\\\\\n",
    "\\ket{\\Psi^-}=\\frac{1}{\\sqrt{2}}(\\ket{01}-\\ket{10})=CNOT(H)\\ket{1}\\ket{1}\\\\\n",
    "\\end{align*}"
   ]
  },
  {
   "cell_type": "code",
   "execution_count": 2,
   "id": "c10b0336-be86-46c1-8cfa-1c20fa20c559",
   "metadata": {},
   "outputs": [
    {
     "data": {
      "text/latex": [
       "$$\\frac{\\sqrt{2}}{2} |00\\rangle+\\frac{\\sqrt{2}}{2} |11\\rangle$$"
      ],
      "text/plain": [
       "<IPython.core.display.Latex object>"
      ]
     },
     "metadata": {},
     "output_type": "display_data"
    },
    {
     "data": {
      "text/latex": [
       "$$\\frac{\\sqrt{2}}{2} |00\\rangle+\\frac{\\sqrt{2}}{2} |11\\rangle$$"
      ],
      "text/plain": [
       "<IPython.core.display.Latex object>"
      ]
     },
     "metadata": {},
     "output_type": "display_data"
    },
    {
     "data": {
      "text/latex": [
       "$$\\frac{\\sqrt{2}}{2} |00\\rangle+\\frac{\\sqrt{2}}{2} |11\\rangle$$"
      ],
      "text/plain": [
       "<IPython.core.display.Latex object>"
      ]
     },
     "metadata": {},
     "output_type": "display_data"
    },
    {
     "data": {
      "text/latex": [
       "$$\\frac{\\sqrt{2}}{2} |00\\rangle+\\frac{\\sqrt{2}}{2} |11\\rangle$$"
      ],
      "text/plain": [
       "<IPython.core.display.Latex object>"
      ]
     },
     "metadata": {},
     "output_type": "display_data"
    }
   ],
   "source": [
    "# Define |0> and |1>\n",
    "ket_zero = Statevector([1, 0]) \n",
    "ket_one = Statevector([0, 1]) \n",
    "\n",
    "# Define H and CNOT gates\n",
    "H = Operator([[1 / np.sqrt(2), 1 / np.sqrt(2)], [1 / np.sqrt(2), -1 / np.sqrt(2)]])\n",
    "CX = Operator([\n",
    " [1, 0, 0, 0],\n",
    " [0, 1, 0, 0],\n",
    " [0, 0, 0, 1],\n",
    " [0, 0, 1, 0]])\n",
    "\n",
    "# Plus and minus states\n",
    "ket_plus = ket_zero.evolve(H)\n",
    "ket_minus = ket_one.evolve(H)\n",
    "\n",
    "# Evaluate tensor products\n",
    "ket_plus_zero = ket_plus.tensor(ket_zero)\n",
    "ket_minus_zero = ket_minus.tensor(ket_zero)\n",
    "ket_plus_one = ket_plus.tensor(ket_one)\n",
    "ket_minus_one = ket_minus.tensor(ket_one)\n",
    "\n",
    "# Apply the CNOT gate\n",
    "phi_plus = ket_plus_zero.evolve(CX)\n",
    "phi_minus = ket_minus_zero.evolve(CX)\n",
    "psi_plus = ket_plus_one.evolve(CX)\n",
    "psi_minus = ket_minus_one.evolve(CX)\n",
    "\n",
    "bell_states = [phi_plus,phi_minus,psi_plus,psi_minus]\n",
    "\n",
    "for state in bell_states:\n",
    "    display(phi_plus.draw(\"latex\"))"
   ]
  },
  {
   "cell_type": "code",
   "execution_count": null,
   "id": "e074b7cf-e5d5-4187-bc99-ff5a332965dd",
   "metadata": {},
   "outputs": [],
   "source": []
  }
 ],
 "metadata": {
  "kernelspec": {
   "display_name": "Quantum_Computing_venv",
   "language": "python",
   "name": "quantum_computing_venv"
  },
  "language_info": {
   "codemirror_mode": {
    "name": "ipython",
    "version": 3
   },
   "file_extension": ".py",
   "mimetype": "text/x-python",
   "name": "python",
   "nbconvert_exporter": "python",
   "pygments_lexer": "ipython3",
   "version": "3.12.6"
  }
 },
 "nbformat": 4,
 "nbformat_minor": 5
}
