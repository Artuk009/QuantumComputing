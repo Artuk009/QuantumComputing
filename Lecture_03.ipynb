{
 "cells": [
  {
   "cell_type": "code",
   "execution_count": 1,
   "id": "383d79aa-8b79-40ed-bd22-70595786c0e3",
   "metadata": {},
   "outputs": [
    {
     "data": {
      "application/javascript": [
       "// Copyright (c) Microsoft Corporation.\n",
       "// Licensed under the MIT License.\n",
       "\n",
       "// This file provides CodeMirror syntax highlighting for Q# magic cells\n",
       "// in classic Jupyter Notebooks. It does nothing in other (Jupyter Notebook 7,\n",
       "// VS Code, Azure Notebooks, etc.) environments.\n",
       "\n",
       "// Detect the prerequisites and do nothing if they don't exist.\n",
       "if (window.require && window.CodeMirror && window.Jupyter) {\n",
       "  // The simple mode plugin for CodeMirror is not loaded by default, so require it.\n",
       "  window.require([\"codemirror/addon/mode/simple\"], function defineMode() {\n",
       "    let rules = [\n",
       "      {\n",
       "        token: \"comment\",\n",
       "        regex: /(\\/\\/).*/,\n",
       "        beginWord: false,\n",
       "      },\n",
       "      {\n",
       "        token: \"string\",\n",
       "        regex: String.raw`^\\\"(?:[^\\\"\\\\]|\\\\[\\s\\S])*(?:\\\"|$)`,\n",
       "        beginWord: false,\n",
       "      },\n",
       "      {\n",
       "        token: \"keyword\",\n",
       "        regex: String.raw`(namespace|open|as|operation|function|body|adjoint|newtype|controlled|internal)\\b`,\n",
       "        beginWord: true,\n",
       "      },\n",
       "      {\n",
       "        token: \"keyword\",\n",
       "        regex: String.raw`(if|elif|else|repeat|until|fixup|for|in|return|fail|within|apply)\\b`,\n",
       "        beginWord: true,\n",
       "      },\n",
       "      {\n",
       "        token: \"keyword\",\n",
       "        regex: String.raw`(Adjoint|Controlled|Adj|Ctl|is|self|auto|distribute|invert|intrinsic)\\b`,\n",
       "        beginWord: true,\n",
       "      },\n",
       "      {\n",
       "        token: \"keyword\",\n",
       "        regex: String.raw`(let|set|use|borrow|mutable)\\b`,\n",
       "        beginWord: true,\n",
       "      },\n",
       "      {\n",
       "        token: \"operatorKeyword\",\n",
       "        regex: String.raw`(not|and|or)\\b|(w/)`,\n",
       "        beginWord: true,\n",
       "      },\n",
       "      {\n",
       "        token: \"operatorKeyword\",\n",
       "        regex: String.raw`(=)|(!)|(<)|(>)|(\\+)|(-)|(\\*)|(/)|(\\^)|(%)|(\\|)|(&&&)|(~~~)|(\\.\\.\\.)|(\\.\\.)|(\\?)`,\n",
       "        beginWord: false,\n",
       "      },\n",
       "      {\n",
       "        token: \"meta\",\n",
       "        regex: String.raw`(Int|BigInt|Double|Bool|Qubit|Pauli|Result|Range|String|Unit)\\b`,\n",
       "        beginWord: true,\n",
       "      },\n",
       "      {\n",
       "        token: \"atom\",\n",
       "        regex: String.raw`(true|false|Pauli(I|X|Y|Z)|One|Zero)\\b`,\n",
       "        beginWord: true,\n",
       "      },\n",
       "    ];\n",
       "    let simpleRules = [];\n",
       "    for (let rule of rules) {\n",
       "      simpleRules.push({\n",
       "        token: rule.token,\n",
       "        regex: new RegExp(rule.regex, \"g\"),\n",
       "        sol: rule.beginWord,\n",
       "      });\n",
       "      if (rule.beginWord) {\n",
       "        // Need an additional rule due to the fact that CodeMirror simple mode doesn't work with ^ token\n",
       "        simpleRules.push({\n",
       "          token: rule.token,\n",
       "          regex: new RegExp(String.raw`\\W` + rule.regex, \"g\"),\n",
       "          sol: false,\n",
       "        });\n",
       "      }\n",
       "    }\n",
       "\n",
       "    // Register the mode defined above with CodeMirror\n",
       "    window.CodeMirror.defineSimpleMode(\"qsharp\", { start: simpleRules });\n",
       "    window.CodeMirror.defineMIME(\"text/x-qsharp\", \"qsharp\");\n",
       "\n",
       "    // Tell Jupyter to associate %%qsharp magic cells with the qsharp mode\n",
       "    window.Jupyter.CodeCell.options_default.highlight_modes[\"qsharp\"] = {\n",
       "      reg: [/^%%qsharp/],\n",
       "    };\n",
       "\n",
       "    // Force re-highlighting of all cells the first time this code runs\n",
       "    for (const cell of window.Jupyter.notebook.get_cells()) {\n",
       "      cell.auto_highlight();\n",
       "    }\n",
       "  });\n",
       "}\n"
      ],
      "text/plain": []
     },
     "metadata": {},
     "output_type": "display_data"
    }
   ],
   "source": [
    "# Author: Brent Artuch\n",
    "# Date: 2024-10-07\n",
    "\n",
    "import sympy as sp\n",
    "from sympy.physics.quantum import *\n",
    "import numpy as np\n",
    "\n",
    "# Qiskit and Q# libraries\n",
    "import qsharp\n",
    "from qsharp_widgets import Circuit\n",
    "from qiskit.quantum_info import Operator, Statevector\n",
    "from qiskit import QuantumCircuit, QuantumRegister, ClassicalRegister\n",
    "\n",
    "sp.init_printing()"
   ]
  },
  {
   "cell_type": "markdown",
   "id": "24218c39-c684-495a-9303-022caa884f1a",
   "metadata": {},
   "source": [
    "## Bell States\n",
    "The collection of all four Bell states is known as the Bell basis; all four of the Bell states represent entanglement between two qubits.\n",
    "\\begin{align*}\n",
    "\\ket{\\beta_{00}}=\\ket{\\Phi^+}=\\frac{1}{\\sqrt{2}}(\\ket{00}+\\ket{11})=CNOT(H)\\ket{0}\\ket{0}\\\\\n",
    "\\ket{\\beta_{10}}=\\ket{\\Phi^-}=\\frac{1}{\\sqrt{2}}(\\ket{00}-\\ket{11})=CNOT(H)\\ket{1}\\ket{0}\\\\\n",
    "\\ket{\\beta_{01}}=\\ket{\\Psi^+}=\\frac{1}{\\sqrt{2}}(\\ket{01}+\\ket{10})=CNOT(H)\\ket{0}\\ket{1}\\\\\n",
    "\\ket{\\beta_{11}}=\\ket{\\Psi^-}=\\frac{1}{\\sqrt{2}}(\\ket{01}-\\ket{10})=CNOT(H)\\ket{1}\\ket{1}\\\\\n",
    "\\end{align*}\n",
    "These states can also be derived from the formula:<br>\n",
    "\\begin{align*}\n",
    "\\ket{\\beta_{x,y}}=\\frac{1}{\\sqrt{2}}\\left(\\ket{0,y}+(-1)^x\\ket{1,\\neg y}\\right)\n",
    "\\end{align*}"
   ]
  },
  {
   "cell_type": "code",
   "execution_count": 2,
   "id": "c10b0336-be86-46c1-8cfa-1c20fa20c559",
   "metadata": {},
   "outputs": [
    {
     "data": {
      "text/latex": [
       "$$\\frac{\\sqrt{2}}{2} |00\\rangle+\\frac{\\sqrt{2}}{2} |11\\rangle$$"
      ],
      "text/plain": [
       "<IPython.core.display.Latex object>"
      ]
     },
     "metadata": {},
     "output_type": "display_data"
    },
    {
     "data": {
      "text/latex": [
       "$$\\frac{\\sqrt{2}}{2} |00\\rangle- \\frac{\\sqrt{2}}{2} |11\\rangle$$"
      ],
      "text/plain": [
       "<IPython.core.display.Latex object>"
      ]
     },
     "metadata": {},
     "output_type": "display_data"
    },
    {
     "data": {
      "text/latex": [
       "$$\\frac{\\sqrt{2}}{2} |01\\rangle+\\frac{\\sqrt{2}}{2} |10\\rangle$$"
      ],
      "text/plain": [
       "<IPython.core.display.Latex object>"
      ]
     },
     "metadata": {},
     "output_type": "display_data"
    },
    {
     "data": {
      "text/latex": [
       "$$\\frac{\\sqrt{2}}{2} |01\\rangle- \\frac{\\sqrt{2}}{2} |10\\rangle$$"
      ],
      "text/plain": [
       "<IPython.core.display.Latex object>"
      ]
     },
     "metadata": {},
     "output_type": "display_data"
    }
   ],
   "source": [
    "# Define |0> and |1>\n",
    "ket_zero = Statevector([1, 0]) \n",
    "ket_one = Statevector([0, 1]) \n",
    "\n",
    "# Define H and CNOT gates\n",
    "H = Operator([[1 / np.sqrt(2), 1 / np.sqrt(2)], [1 / np.sqrt(2), -1 / np.sqrt(2)]])\n",
    "CX = Operator([\n",
    " [1, 0, 0, 0],\n",
    " [0, 1, 0, 0],\n",
    " [0, 0, 0, 1],\n",
    " [0, 0, 1, 0]])\n",
    "\n",
    "# Plus and minus states\n",
    "ket_plus = ket_zero.evolve(H)\n",
    "ket_minus = ket_one.evolve(H)\n",
    "\n",
    "# Evaluate tensor products\n",
    "ket_plus_zero = ket_plus.tensor(ket_zero)\n",
    "ket_minus_zero = ket_minus.tensor(ket_zero)\n",
    "ket_plus_one = ket_plus.tensor(ket_one)\n",
    "ket_minus_one = ket_minus.tensor(ket_one)\n",
    "\n",
    "# Apply the CNOT gate\n",
    "phi_plus = ket_plus_zero.evolve(CX)\n",
    "phi_minus = ket_minus_zero.evolve(CX)\n",
    "psi_plus = ket_plus_one.evolve(CX)\n",
    "psi_minus = ket_minus_one.evolve(CX)\n",
    "\n",
    "bell_states = [phi_plus,phi_minus,psi_plus,psi_minus]\n",
    "\n",
    "for state in bell_states:\n",
    "    display(state.draw(\"latex\"))"
   ]
  },
  {
   "cell_type": "markdown",
   "id": "99dd4461-98d6-4783-b5d4-a3ede22096a8",
   "metadata": {},
   "source": [
    "We can express the Bell States as computational basis vectors of 2-qubit systems, or indeed any complex vector at all having entries corresponding to the four classical states of two bits, can be expressed as a linear combination of the four Bell states. For example, let's find $\\ket{00}$ in the Bell Basis:<br>\n",
    "\\begin{align*}\n",
    "\\ket{\\Phi^+}&=\\frac{1}{\\sqrt{2}}(\\ket{00}+\\ket{11})\\\\\n",
    "\\ket{\\Phi^+}&=\\frac{1}{\\sqrt{2}}\\ket{00}+\\frac{1}{\\sqrt{2}}\\ket{11}\\\\\n",
    "-1( -\\frac{1}{\\sqrt{2}}\\ket{00}&=\\frac{1}{\\sqrt{2}}\\ket{11}-\\ket{\\Phi^+})\\\\\n",
    "\\frac{1}{\\sqrt{2}}\\ket{00}&=\\ket{\\Phi^+}-\\frac{1}{\\sqrt{2}}\\ket{11}\\\\\n",
    "\\sqrt{2}\\ket{00}&=\\ket{\\Phi^+}+\\frac{1}{\\sqrt{2}}\\ket{00}-\\frac{1}{\\sqrt{2}}\\ket{11}\\\\\n",
    "\\ket{00}&=\\ket{\\Phi^+}+\\ket{\\Phi^-}\\\\\n",
    "\\ket{00}&=\\frac{1}{\\sqrt{2}}\\ket{\\Phi^+}+\\frac{1}{\\sqrt{2}}\\ket{\\Phi^-}\\\\\n",
    "\\end{align*}\n",
    "The four Z-basis states in terms of the Bell Basis:<br>\n",
    "\\begin{align*}\n",
    "\\ket{00}&=\\frac{1}{\\sqrt{2}}\\ket{\\Phi^+}+\\frac{1}{\\sqrt{2}}\\ket{\\Phi^-}\\\\\n",
    "\\ket{01}&=\\frac{1}{\\sqrt{2}}\\ket{\\Psi^+}+\\frac{1}{\\sqrt{2}}\\ket{\\Psi^-}\\\\\n",
    "\\ket{10}&=\\frac{1}{\\sqrt{2}}\\ket{\\Psi^+}-\\frac{1}{\\sqrt{2}}\\ket{\\Psi^-}\\\\\n",
    "\\ket{11}&=\\frac{1}{\\sqrt{2}}\\ket{\\Phi^+}-\\frac{1}{\\sqrt{2}}\\ket{\\Phi^-}\\\\\n",
    "\\end{align*}"
   ]
  },
  {
   "cell_type": "code",
   "execution_count": 3,
   "id": "8088a9d7-5295-4933-990b-c6a79a5be57b",
   "metadata": {},
   "outputs": [
    {
     "data": {
      "text/html": [
       "<pre style=\"word-wrap: normal;white-space: pre;background: #fff0;line-height: 1.1;font-family: &quot;Courier New&quot;,Courier,monospace\">     ┌───┐     ┌─┐   \n",
       "  X: ┤ H ├──■──┤M├───\n",
       "     └───┘┌─┴─┐└╥┘┌─┐\n",
       "  Y: ─────┤ X ├─╫─┤M├\n",
       "          └───┘ ║ └╥┘\n",
       "A: 1/═══════════╩══╬═\n",
       "                0  ║ \n",
       "B: 1/══════════════╩═\n",
       "                   0 </pre>"
      ],
      "text/plain": [
       "     ┌───┐     ┌─┐   \n",
       "  X: ┤ H ├──■──┤M├───\n",
       "     └───┘┌─┴─┐└╥┘┌─┐\n",
       "  Y: ─────┤ X ├─╫─┤M├\n",
       "          └───┘ ║ └╥┘\n",
       "A: 1/═══════════╩══╬═\n",
       "                0  ║ \n",
       "B: 1/══════════════╩═\n",
       "                   0 "
      ]
     },
     "metadata": {},
     "output_type": "display_data"
    }
   ],
   "source": [
    "# Circuit representation for formulation of the Bell States\n",
    "# Define control and target\n",
    "X = QuantumRegister(1, \"X\")\n",
    "Y = QuantumRegister(1, \"Y\")\n",
    "# Define clssical bits for measurement results\n",
    "A = ClassicalRegister(1, \"A\")\n",
    "B = ClassicalRegister(1, \"B\")\n",
    "\n",
    "# Apply H gate to control and then CNOT \n",
    "circuit = QuantumCircuit(X, Y, A, B)\n",
    "circuit.h(X)\n",
    "circuit.cx(X, Y)\n",
    "\n",
    "# Measurement\n",
    "circuit.measure(X, A)\n",
    "circuit.measure(Y, B)\n",
    "\n",
    "display(circuit.draw())"
   ]
  },
  {
   "cell_type": "markdown",
   "id": "6a4af02e-2d34-41d8-aa7a-173c2531015a",
   "metadata": {},
   "source": [
    "## Teleportation\n",
    "There are two individuals named Alice and Bob. Alice is on the surface and Bob is on an orbiting satalite. Alice has two qubits $A$ and $C$ and Bob has a qubit $B$. $\\alpha$ and $\\beta$ are unknown to Alice. Alice can only coommunicate with Bob via classical information. To deliver $C$ to Bob. If they share a pair of entangled qubits in the state $A=B=\\ket{\\Phi^+}$, Alice can transfer $C$ to Bob in terms of $A$:<br>\n",
    "\\begin{align*}\n",
    "\\ket{\\psi}\\ket{\\Phi^+}&=\\alpha\\ket{0}\\ket{\\Phi^+}+\\beta\\ket{1}\\ket{\\Phi^+}\\\\\n",
    "&=\\alpha\\ket{0}\\frac{1}{\\sqrt{2}}(\\ket{00}+\\ket{11})+\\beta\\ket{1}\\frac{1}{\\sqrt{2}}(\\ket{00}+\\ket{11})\\\\\n",
    "&=\\frac{1}{\\sqrt{2}}[\\alpha(\\ket{000}+\\ket{011})+\\beta(\\ket{100}+\\ket{111})]\\\\\n",
    "\\end{align*}\n",
    "The left two qubits belong to Alice and the right qubit to Bob ST the basis vectors are $\\ket{CAB}$. Now, Alice can apply the CNOT and H gates:<br>\n",
    "\\begin{align*}\n",
    "\\ket{\\psi}\\ket{\\Phi^+}&=H_{C}(CNOT_{CA})\\left[\\frac{1}{\\sqrt{2}}[\\alpha(\\ket{000}+\\ket{011})+\\beta(\\ket{100}+\\ket{111})]\\right]\\\\\n",
    "&=H_{C}\\left[\\frac{1}{\\sqrt{2}}[\\alpha(\\ket{000}+\\ket{011})+\\beta(\\ket{110}+\\ket{101})]\\right]\\\\\n",
    "&=\\frac{1}{\\sqrt{2}}[\\alpha(\\ket{+00}+\\ket{+11})+\\beta(\\ket{-10}+\\ket{-01})]\\\\\n",
    "&=\\frac{1}{2}[\\alpha(\\ket{0}+\\ket{1})(\\ket{00}+\\ket{11})+\\beta(\\ket{0}-\\ket{1})(\\ket{10}+\\ket{01})]\\\\\n",
    "&=\\frac{1}{2}[\\ket{00}(\\alpha\\ket{0}+\\beta\\ket{1})+\\ket{01}(\\beta\\ket{0}+\\alpha\\ket{1})+\\ket{10}(\\alpha\\ket{0}-\\beta\\ket{1})+\\ket{11}(-\\beta\\ket{0}+\\alpha\\ket{1})]\\\\\n",
    "\\end{align*}\n",
    "After measurement, the possible states are:<br>\n",
    "\\begin{align*}\n",
    "&\\ket{00}(\\alpha\\ket{0}+\\beta\\ket{1})\\\\\n",
    "&\\ket{01}(\\beta\\ket{0}+\\alpha\\ket{1})\\\\\n",
    "&\\ket{10}(\\alpha\\ket{0}-\\beta\\ket{1})\\\\\n",
    "&\\ket{11}(-\\beta\\ket{0}+\\alpha\\ket{1})\n",
    "\\end{align*}\n",
    "Now Bob Can apply gates to his qubit $B$ to match $C$ depending on the result of Alice's measurement:<br>\n",
    "* If Alice measures $\\ket{00}$, Bob does nothing to $B$ because it is already in the state $\\ket{\\psi}$\n",
    "* If Alice measures $\\ket{01}$, Bob applies the $X$ gate to $B$ transforming it into $\\ket{\\psi}$\n",
    "* If Alice measures $\\ket{10}$, Bob applies the $Z$ gate to $B$ transforming it into $\\ket{\\psi}$\n",
    "* If Alice measures $\\ket{11}$, Bob applies the $X$ gate followed by the $Z$ gate to $B$ transforming it into $\\ket{\\psi}$"
   ]
  },
  {
   "cell_type": "code",
   "execution_count": 4,
   "id": "6e5f7b4f-b00c-47ec-a86c-087d288ef85e",
   "metadata": {},
   "outputs": [
    {
     "data": {
      "text/html": [
       "<pre style=\"word-wrap: normal;white-space: pre;background: #fff0;line-height: 1.1;font-family: &quot;Courier New&quot;,Courier,monospace\">                  ░      ┌───┐ ░    ┌─┐ ░                                     »\n",
       "    C: ───────────░───■──┤ H ├─░────┤M├─░─────────────────────────────────────»\n",
       "       ┌───┐      ░ ┌─┴─┐└───┘ ░ ┌─┐└╥┘ ░                                     »\n",
       "    A: ┤ H ├──■───░─┤ X ├──────░─┤M├─╫──░─────────────────────────────────────»\n",
       "       └───┘┌─┴─┐ ░ └───┘      ░ └╥┘ ║  ░ ┌────── ┌───┐ ───────┐ ┌────── ┌───┐»\n",
       "    B: ─────┤ X ├─░────────────░──╫──╫──░─┤ If-0  ┤ X ├  End-0 ├─┤ If-0  ┤ Z ├»\n",
       "            └───┘ ░            ░  ║  ║  ░ └──╥─── └───┘ ───────┘ └──╥─── └───┘»\n",
       "                                  ║  ║    ┌──╨──┐                   ║         »\n",
       "M_1: 1/═══════════════════════════╩══╬════╡ 0x1 ╞═══════════════════╬═════════»\n",
       "                                  0  ║    └─────┘                ┌──╨──┐      »\n",
       "M_2: 1/══════════════════════════════╩═══════════════════════════╡ 0x1 ╞══════»\n",
       "                                     0                           └─────┘      »\n",
       "«                 \n",
       "«    C: ──────────\n",
       "«                 \n",
       "«    A: ──────────\n",
       "«        ───────┐ \n",
       "«    B:   End-0 ├─\n",
       "«        ───────┘ \n",
       "«M_1: 1/══════════\n",
       "«                 \n",
       "«M_2: 1/══════════\n",
       "«                 </pre>"
      ],
      "text/plain": [
       "                  ░      ┌───┐ ░    ┌─┐ ░                                     »\n",
       "    C: ───────────░───■──┤ H ├─░────┤M├─░─────────────────────────────────────»\n",
       "       ┌───┐      ░ ┌─┴─┐└───┘ ░ ┌─┐└╥┘ ░                                     »\n",
       "    A: ┤ H ├──■───░─┤ X ├──────░─┤M├─╫──░─────────────────────────────────────»\n",
       "       └───┘┌─┴─┐ ░ └───┘      ░ └╥┘ ║  ░ ┌────── ┌───┐ ───────┐ ┌────── ┌───┐»\n",
       "    B: ─────┤ X ├─░────────────░──╫──╫──░─┤ If-0  ┤ X ├  End-0 ├─┤ If-0  ┤ Z ├»\n",
       "            └───┘ ░            ░  ║  ║  ░ └──╥─── └───┘ ───────┘ └──╥─── └───┘»\n",
       "                                  ║  ║    ┌──╨──┐                   ║         »\n",
       "M_1: 1/═══════════════════════════╩══╬════╡ 0x1 ╞═══════════════════╬═════════»\n",
       "                                  0  ║    └─────┘                ┌──╨──┐      »\n",
       "M_2: 1/══════════════════════════════╩═══════════════════════════╡ 0x1 ╞══════»\n",
       "                                     0                           └─────┘      »\n",
       "«                 \n",
       "«    C: ──────────\n",
       "«                 \n",
       "«    A: ──────────\n",
       "«        ───────┐ \n",
       "«    B:   End-0 ├─\n",
       "«        ───────┘ \n",
       "«M_1: 1/══════════\n",
       "«                 \n",
       "«M_2: 1/══════════\n",
       "«                 "
      ]
     },
     "metadata": {},
     "output_type": "display_data"
    }
   ],
   "source": [
    "# Circuit Diagram\n",
    "# Define qubits\n",
    "C = QuantumRegister(1, \"C\")\n",
    "A = QuantumRegister(1, \"A\")\n",
    "B = QuantumRegister(1, \"B\")\n",
    "a = ClassicalRegister(1, \"M_1\")\n",
    "b = ClassicalRegister(1, \"M_2\")\n",
    "\n",
    "# Define Circuit\n",
    "teleportation_circuit = QuantumCircuit(C, A, B, a, b)\n",
    "\n",
    "# Prepare ebit used for teleportation\n",
    "teleportation_circuit.h(A)\n",
    "teleportation_circuit.cx(A, B)\n",
    "teleportation_circuit.barrier()\n",
    "\n",
    "# Alice's operations\n",
    "teleportation_circuit.cx(C, A)\n",
    "teleportation_circuit.h(C)\n",
    "teleportation_circuit.barrier()\n",
    "\n",
    "# Alice measures and sends classical bits to Bob\n",
    "teleportation_circuit.measure(A, a)\n",
    "teleportation_circuit.measure(C, b)\n",
    "teleportation_circuit.barrier()\n",
    "\n",
    "# Bob uses the classical bits to conditionally apply gates\n",
    "with teleportation_circuit.if_test((a, 1)):\n",
    "    teleportation_circuit.x(B)\n",
    "with teleportation_circuit.if_test((b, 1)):\n",
    "    teleportation_circuit.z(B)\n",
    "\n",
    "display(teleportation_circuit.draw())"
   ]
  },
  {
   "cell_type": "markdown",
   "id": "5c4067c7-608f-4fed-9457-14a84cea5ff9",
   "metadata": {},
   "source": [
    "Simple Q# program for measuring a single qubit and then resetting it:"
   ]
  },
  {
   "cell_type": "code",
   "execution_count": 5,
   "id": "75fe673f-b8c0-4587-966a-88021561f4b7",
   "metadata": {},
   "outputs": [
    {
     "data": {
      "text/plain": [
       "One"
      ]
     },
     "execution_count": 5,
     "metadata": {},
     "output_type": "execute_result"
    }
   ],
   "source": [
    "%%qsharp\n",
    "\n",
    "// Open the namespace for the MResetZ operation.\n",
    "import Microsoft.Quantum.Measurement;\n",
    "\n",
    "@EntryPoint()\n",
    "operation MeasureOneQubit() : Result {\n",
    "    // Allocate a qubit. By default, it's in the 0 state.      \n",
    "    use q = Qubit();  \n",
    "    // Apply the Hadamard operation, H, to the state.\n",
    "    // It now has a 50% chance of being measured as 0 or 1. \n",
    "    H(q);  \n",
    "    // Measure and reset the qubit, and then return the result value.\n",
    "    return MResetZ(q);\n",
    "}\n",
    "\n",
    "MeasureOneQubit()"
   ]
  },
  {
   "cell_type": "code",
   "execution_count": 6,
   "id": "8fb4085c-f0f6-458c-962f-e015d9493a25",
   "metadata": {},
   "outputs": [
    {
     "data": {},
     "metadata": {},
     "output_type": "display_data"
    },
    {
     "data": {
      "text/plain": [
       "q_0    ── H ──── M ─── |0〉 ─\n",
       "                 ╘══════════"
      ]
     },
     "execution_count": 6,
     "metadata": {},
     "output_type": "execute_result"
    }
   ],
   "source": [
    "# Circuit diagram\n",
    "qsharp.circuit(\"MeasureOneQubit()\")"
   ]
  },
  {
   "cell_type": "markdown",
   "id": "49f4effe-6d04-40f5-8f4c-4eaa70e92bdf",
   "metadata": {},
   "source": [
    "Q# program for entangling two qubits into a bell state:"
   ]
  },
  {
   "cell_type": "code",
   "execution_count": 7,
   "id": "40a0c736-380a-44ff-8653-d7c1abd57469",
   "metadata": {},
   "outputs": [
    {
     "data": {
      "text/markdown": [
       "<table class=\"qs-stateTable\">\n",
       "  <style>\n",
       "    .qs-stateTable thead tr {\n",
       "      background-color: var(\n",
       "        --vscode-list-hoverBackground,\n",
       "        var(--jp-layout-color1, inherit)\n",
       "      );\n",
       "    }\n",
       "    .qs-stateTable th {\n",
       "      text-align: left;\n",
       "      border: none;\n",
       "    }\n",
       "    .qs-stateTable tbody {\n",
       "      pointer-events: none;\n",
       "    }\n",
       "    .qs-stateTable tbody td {\n",
       "      text-align: left;\n",
       "      border: none;\n",
       "    }\n",
       "    .qs-stateTable tbody td span {\n",
       "      display: inline-block;\n",
       "    }\n",
       "    .qs-stateTable tbody tr:nth-child(even) {\n",
       "      background-color: var(\n",
       "        --vscode-list-hoverBackground,\n",
       "        var(--jp-layout-color1, inherit)\n",
       "      );\n",
       "    }\n",
       "  </style>\n",
       "  <thead>\n",
       "    <tr>\n",
       "      <th>Basis State<br />(|𝜓₁…𝜓ₙ⟩)</th>\n",
       "      <th>Amplitude</th>\n",
       "      <th>Measurement Probability</th>\n",
       "      <th colspan=\"2\">Phase</th>\n",
       "    </tr>\n",
       "  </thead>\n",
       "  <tbody>\n",
       "    <tr>\n",
       "  <td>\n",
       "    <span>|00⟩</span>\n",
       "  </td>\n",
       "  <td>\n",
       "    <span>0.7071+0.0000𝑖</span>\n",
       "  </td>\n",
       "  <td>\n",
       "    <progress max=\"100\" value=\"50.000000000000014\"></progress>\n",
       "    <span>50.0000%</span>\n",
       "  </td>\n",
       "  <td style=\"transform: rotate(0.0000rad)\">↑</td>\n",
       "  <td>\n",
       "    <span>0.0000</span>\n",
       "  </td>\n",
       "</tr>\n",
       "<tr>\n",
       "  <td>\n",
       "    <span>|11⟩</span>\n",
       "  </td>\n",
       "  <td>\n",
       "    <span>0.7071+0.0000𝑖</span>\n",
       "  </td>\n",
       "  <td>\n",
       "    <progress max=\"100\" value=\"50.000000000000014\"></progress>\n",
       "    <span>50.0000%</span>\n",
       "  </td>\n",
       "  <td style=\"transform: rotate(0.0000rad)\">↑</td>\n",
       "  <td>\n",
       "    <span>0.0000</span>\n",
       "  </td>\n",
       "</tr>\n",
       "\n",
       "  </tbody>\n",
       "</table>\n",
       "\n",
       "\n",
       "$|\\psi\\rangle = \\frac{\\sqrt{2}}{2}|00\\rangle+\\frac{\\sqrt{2}}{2}|11\\rangle$"
      ],
      "text/plain": [
       "STATE:\n",
       "|00⟩: 0.7071+0.0000𝑖\n",
       "|11⟩: 0.7071+0.0000𝑖"
      ]
     },
     "metadata": {},
     "output_type": "display_data"
    },
    {
     "data": {},
     "metadata": {},
     "output_type": "display_data"
    },
    {
     "data": {
      "text/plain": [
       "(One, One)"
      ]
     },
     "execution_count": 7,
     "metadata": {},
     "output_type": "execute_result"
    }
   ],
   "source": [
    "%%qsharp\n",
    "\n",
    "import Std.Diagnostics.*;\n",
    "        \n",
    "@EntryPoint()\n",
    "operation EntangleQubits() : (Result, Result) {  \n",
    "    // Allocate two qubits, q1 and q2, in the 0 state.\n",
    "    use (q1, q2) = (Qubit(), Qubit());\n",
    "\n",
    "    // Put q1 into an even superposition.\n",
    "    // It now has a 50% chance of being measured as 0 or 1.\n",
    "    H(q1);\n",
    "\n",
    "    // Entangle q1 and q2, making q2 depend on q1.\n",
    "    CNOT(q1, q2);\n",
    "\n",
    "    // Show the entangled state of the qubits.\n",
    "    DumpMachine();\n",
    "\n",
    "    // Measure q1 and q2 and store the results in m1 and m2.\n",
    "    let (m1, m2) = (M(q1), M(q2));\n",
    "\n",
    "    // Reset q1 and q2 to the 0 state.\n",
    "    Reset(q1);\n",
    "    Reset(q2);\n",
    "\n",
    "    // Return the measurement results.\n",
    "    return (m1, m2);\n",
    "}\n",
    "\n",
    "EntangleQubits()"
   ]
  },
  {
   "cell_type": "code",
   "execution_count": 8,
   "id": "ed1731ba-9e67-489a-8c99-76671e2072fe",
   "metadata": {},
   "outputs": [
    {
     "data": {},
     "metadata": {},
     "output_type": "display_data"
    },
    {
     "data": {
      "text/plain": [
       "q_0    ── H ──── ● ──── M ─── |0〉 ─\n",
       "                 │      ╘══════════\n",
       "q_1    ───────── X ──── M ─── |0〉 ─\n",
       "                        ╘══════════"
      ]
     },
     "execution_count": 8,
     "metadata": {},
     "output_type": "execute_result"
    }
   ],
   "source": [
    "# Circuit diagram\n",
    "qsharp.circuit(\"EntangleQubits()\")"
   ]
  }
 ],
 "metadata": {
  "kernelspec": {
   "display_name": "Quantum_Computing_venv",
   "language": "python",
   "name": "quantum_computing_venv"
  },
  "language_info": {
   "codemirror_mode": {
    "name": "ipython",
    "version": 3
   },
   "file_extension": ".py",
   "mimetype": "text/x-python",
   "name": "python",
   "nbconvert_exporter": "python",
   "pygments_lexer": "ipython3",
   "version": "3.10.14"
  }
 },
 "nbformat": 4,
 "nbformat_minor": 5
}
